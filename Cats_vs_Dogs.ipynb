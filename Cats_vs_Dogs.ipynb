{
  "nbformat": 4,
  "nbformat_minor": 0,
  "metadata": {
    "colab": {
      "provenance": [],
      "collapsed_sections": [
        "ZsO4z7JJqIFF",
        "Xxje12xKqIFN"
      ]
    },
    "kernelspec": {
      "display_name": "Python 3",
      "language": "python",
      "name": "python3"
    },
    "language_info": {
      "codemirror_mode": {
        "name": "ipython",
        "version": 3
      },
      "file_extension": ".py",
      "mimetype": "text/x-python",
      "name": "python",
      "nbconvert_exporter": "python",
      "pygments_lexer": "ipython3",
      "version": "3.7.4"
    },
    "widgets": {
      "application/vnd.jupyter.widget-state+json": {
        "f073bd37de5848678f7743168235a8fb": {
          "model_module": "@jupyter-widgets/controls",
          "model_name": "HBoxModel",
          "state": {
            "_view_name": "HBoxView",
            "_dom_classes": [],
            "_model_name": "HBoxModel",
            "_view_module": "@jupyter-widgets/controls",
            "_model_module_version": "1.5.0",
            "_view_count": null,
            "_view_module_version": "1.5.0",
            "box_style": "",
            "layout": "IPY_MODEL_c3ebeeb5bea74699bf05aba6c966c783",
            "_model_module": "@jupyter-widgets/controls",
            "children": [
              "IPY_MODEL_860dac4d718b4a5c92c9bd85ee2d3731",
              "IPY_MODEL_4aaaa3b86d504f36a1cefcda8dfa4e9a"
            ]
          },
          "model_module_version": "1.5.0"
        },
        "c3ebeeb5bea74699bf05aba6c966c783": {
          "model_module": "@jupyter-widgets/base",
          "model_name": "LayoutModel",
          "state": {
            "_view_name": "LayoutView",
            "grid_template_rows": null,
            "right": null,
            "justify_content": null,
            "_view_module": "@jupyter-widgets/base",
            "overflow": null,
            "_model_module_version": "1.2.0",
            "_view_count": null,
            "flex_flow": null,
            "width": null,
            "min_width": null,
            "border": null,
            "align_items": null,
            "bottom": null,
            "_model_module": "@jupyter-widgets/base",
            "top": null,
            "grid_column": null,
            "overflow_y": null,
            "overflow_x": null,
            "grid_auto_flow": null,
            "grid_area": null,
            "grid_template_columns": null,
            "flex": null,
            "_model_name": "LayoutModel",
            "justify_items": null,
            "grid_row": null,
            "max_height": null,
            "align_content": null,
            "visibility": null,
            "align_self": null,
            "height": null,
            "min_height": null,
            "padding": null,
            "grid_auto_rows": null,
            "grid_gap": null,
            "max_width": null,
            "order": null,
            "_view_module_version": "1.2.0",
            "grid_template_areas": null,
            "object_position": null,
            "object_fit": null,
            "grid_auto_columns": null,
            "margin": null,
            "display": null,
            "left": null
          },
          "model_module_version": "1.2.0"
        },
        "860dac4d718b4a5c92c9bd85ee2d3731": {
          "model_module": "@jupyter-widgets/controls",
          "model_name": "FloatProgressModel",
          "state": {
            "_view_name": "ProgressView",
            "style": "IPY_MODEL_ef09c70b1f234997aa3c00a0c1d4b4ae",
            "_dom_classes": [],
            "description": "",
            "_model_name": "FloatProgressModel",
            "bar_style": "info",
            "max": 1,
            "_view_module": "@jupyter-widgets/controls",
            "_model_module_version": "1.5.0",
            "value": 1,
            "_view_count": null,
            "_view_module_version": "1.5.0",
            "orientation": "horizontal",
            "min": 0,
            "description_tooltip": null,
            "_model_module": "@jupyter-widgets/controls",
            "layout": "IPY_MODEL_63a479d2025d4d88ab75024b6186a87c"
          },
          "model_module_version": "1.5.0"
        },
        "4aaaa3b86d504f36a1cefcda8dfa4e9a": {
          "model_module": "@jupyter-widgets/controls",
          "model_name": "HTMLModel",
          "state": {
            "_view_name": "HTMLView",
            "style": "IPY_MODEL_22fc62d0fa5d43919a1029da3aa979c2",
            "_dom_classes": [],
            "description": "",
            "_model_name": "HTMLModel",
            "placeholder": "​",
            "_view_module": "@jupyter-widgets/controls",
            "_model_module_version": "1.5.0",
            "value": " 170500096/? [00:20&lt;00:00, 91232708.91it/s]",
            "_view_count": null,
            "_view_module_version": "1.5.0",
            "description_tooltip": null,
            "_model_module": "@jupyter-widgets/controls",
            "layout": "IPY_MODEL_1f34bbbea116431480046135e6fdc1a1"
          },
          "model_module_version": "1.5.0"
        },
        "ef09c70b1f234997aa3c00a0c1d4b4ae": {
          "model_module": "@jupyter-widgets/controls",
          "model_name": "ProgressStyleModel",
          "state": {
            "_view_name": "StyleView",
            "_model_name": "ProgressStyleModel",
            "description_width": "initial",
            "_view_module": "@jupyter-widgets/base",
            "_model_module_version": "1.5.0",
            "_view_count": null,
            "_view_module_version": "1.2.0",
            "bar_color": null,
            "_model_module": "@jupyter-widgets/controls"
          },
          "model_module_version": "1.5.0"
        },
        "63a479d2025d4d88ab75024b6186a87c": {
          "model_module": "@jupyter-widgets/base",
          "model_name": "LayoutModel",
          "state": {
            "_view_name": "LayoutView",
            "grid_template_rows": null,
            "right": null,
            "justify_content": null,
            "_view_module": "@jupyter-widgets/base",
            "overflow": null,
            "_model_module_version": "1.2.0",
            "_view_count": null,
            "flex_flow": null,
            "width": null,
            "min_width": null,
            "border": null,
            "align_items": null,
            "bottom": null,
            "_model_module": "@jupyter-widgets/base",
            "top": null,
            "grid_column": null,
            "overflow_y": null,
            "overflow_x": null,
            "grid_auto_flow": null,
            "grid_area": null,
            "grid_template_columns": null,
            "flex": null,
            "_model_name": "LayoutModel",
            "justify_items": null,
            "grid_row": null,
            "max_height": null,
            "align_content": null,
            "visibility": null,
            "align_self": null,
            "height": null,
            "min_height": null,
            "padding": null,
            "grid_auto_rows": null,
            "grid_gap": null,
            "max_width": null,
            "order": null,
            "_view_module_version": "1.2.0",
            "grid_template_areas": null,
            "object_position": null,
            "object_fit": null,
            "grid_auto_columns": null,
            "margin": null,
            "display": null,
            "left": null
          },
          "model_module_version": "1.2.0"
        },
        "22fc62d0fa5d43919a1029da3aa979c2": {
          "model_module": "@jupyter-widgets/controls",
          "model_name": "DescriptionStyleModel",
          "state": {
            "_view_name": "StyleView",
            "_model_name": "DescriptionStyleModel",
            "description_width": "",
            "_view_module": "@jupyter-widgets/base",
            "_model_module_version": "1.5.0",
            "_view_count": null,
            "_view_module_version": "1.2.0",
            "_model_module": "@jupyter-widgets/controls"
          },
          "model_module_version": "1.5.0"
        },
        "1f34bbbea116431480046135e6fdc1a1": {
          "model_module": "@jupyter-widgets/base",
          "model_name": "LayoutModel",
          "state": {
            "_view_name": "LayoutView",
            "grid_template_rows": null,
            "right": null,
            "justify_content": null,
            "_view_module": "@jupyter-widgets/base",
            "overflow": null,
            "_model_module_version": "1.2.0",
            "_view_count": null,
            "flex_flow": null,
            "width": null,
            "min_width": null,
            "border": null,
            "align_items": null,
            "bottom": null,
            "_model_module": "@jupyter-widgets/base",
            "top": null,
            "grid_column": null,
            "overflow_y": null,
            "overflow_x": null,
            "grid_auto_flow": null,
            "grid_area": null,
            "grid_template_columns": null,
            "flex": null,
            "_model_name": "LayoutModel",
            "justify_items": null,
            "grid_row": null,
            "max_height": null,
            "align_content": null,
            "visibility": null,
            "align_self": null,
            "height": null,
            "min_height": null,
            "padding": null,
            "grid_auto_rows": null,
            "grid_gap": null,
            "max_width": null,
            "order": null,
            "_view_module_version": "1.2.0",
            "grid_template_areas": null,
            "object_position": null,
            "object_fit": null,
            "grid_auto_columns": null,
            "margin": null,
            "display": null,
            "left": null
          },
          "model_module_version": "1.2.0"
        }
      }
    }
  },
  "cells": [
    {
      "cell_type": "markdown",
      "metadata": {
        "id": "X6WDvajSqIDs"
      },
      "source": [
        "# Cats vs Dogs Predictor\n",
        "\n",
        "\n",
        "In this lab, I will train a convolutional neural network to classify an image \n",
        "into one of two classes: \"cat\" or \"dog\". "
      ]
    },
    {
      "cell_type": "code",
      "metadata": {
        "id": "SwyDuiuUqIDv"
      },
      "source": [
        "import numpy as np\n",
        "import time\n",
        "import torch\n",
        "import torch.nn as nn\n",
        "import torch.nn.functional as F\n",
        "import torch.optim as optim\n",
        "import torchvision\n",
        "from torch.utils.data.sampler import SubsetRandomSampler\n",
        "import torchvision.transforms as transforms\n"
      ],
      "execution_count": null,
      "outputs": []
    },
    {
      "cell_type": "markdown",
      "metadata": {
        "id": "kvTXpH_kqIDy"
      },
      "source": [
        "## Part 0. Helper Functions\n",
        "\n",
        "We will be making use of the following helper functions."
      ]
    },
    {
      "cell_type": "code",
      "metadata": {
        "id": "wEjwWEkoqIDz"
      },
      "source": [
        "###############################################################################\n",
        "# Data Loading\n",
        "\n",
        "def get_relevant_indices(dataset, classes, target_classes):\n",
        "    \"\"\" Return the indices for datapoints in the dataset that belongs to the\n",
        "    desired target classes, a subset of all possible classes.\n",
        "\n",
        "    Args:\n",
        "        dataset: Dataset object\n",
        "        classes: A list of strings denoting the name of each class\n",
        "        target_classes: A list of strings denoting the name of desired classes\n",
        "                        Should be a subset of the 'classes'\n",
        "    Returns:\n",
        "        indices: list of indices that have labels corresponding to one of the\n",
        "                 target classes\n",
        "    \"\"\"\n",
        "    indices = []\n",
        "    for i in range(len(dataset)):\n",
        "        # Check if the label is in the target classes\n",
        "        label_index = dataset[i][1] # ex: 3\n",
        "        label_class = classes[label_index] # ex: 'cat'\n",
        "        if label_class in target_classes:\n",
        "            indices.append(i)\n",
        "    return indices\n",
        "\n",
        "def get_data_loader(target_classes, batch_size):\n",
        "    \"\"\" Loads images of cats and dogs, splits the data into training, validation\n",
        "    and testing datasets. Returns data loaders for the three preprocessed datasets.\n",
        "\n",
        "    Args:\n",
        "        target_classes: A list of strings denoting the name of the desired\n",
        "                        classes. Should be a subset of the argument 'classes'\n",
        "        batch_size: A int representing the number of samples per batch\n",
        "    \n",
        "    Returns:\n",
        "        train_loader: iterable training dataset organized according to batch size\n",
        "        val_loader: iterable validation dataset organized according to batch size\n",
        "        test_loader: iterable testing dataset organized according to batch size\n",
        "        classes: A list of strings denoting the name of each class\n",
        "    \"\"\"\n",
        "\n",
        "    classes = ('plane', 'car', 'bird', 'cat',\n",
        "               'deer', 'dog', 'frog', 'horse', 'ship', 'truck')\n",
        "    ########################################################################\n",
        "    # The output of torchvision datasets are PILImage images of range [0, 1].\n",
        "    # We transform them to Tensors of normalized range [-1, 1].\n",
        "    transform = transforms.Compose(\n",
        "        [transforms.ToTensor(),\n",
        "         transforms.Normalize((0.5, 0.5, 0.5), (0.5, 0.5, 0.5))])\n",
        "    # Load CIFAR10 training data\n",
        "    trainset = torchvision.datasets.CIFAR10(root='./data', train=True,\n",
        "                                            download=True, transform=transform)\n",
        "    # Get the list of indices to sample from\n",
        "    relevant_indices = get_relevant_indices(trainset, classes, target_classes)\n",
        "    \n",
        "    # Split into train and validation\n",
        "    np.random.seed(1000) # Fixed numpy random seed for reproducible shuffling\n",
        "    np.random.shuffle(relevant_indices)\n",
        "    split = int(len(relevant_indices) * 0.8) #split at 80%\n",
        "    \n",
        "    # split into training and validation indices\n",
        "    relevant_train_indices, relevant_val_indices = relevant_indices[:split], relevant_indices[split:]  \n",
        "    train_sampler = SubsetRandomSampler(relevant_train_indices)\n",
        "    train_loader = torch.utils.data.DataLoader(trainset, batch_size=batch_size,\n",
        "                                               num_workers=1, sampler=train_sampler)\n",
        "    val_sampler = SubsetRandomSampler(relevant_val_indices)\n",
        "    val_loader = torch.utils.data.DataLoader(trainset, batch_size=batch_size,\n",
        "                                              num_workers=1, sampler=val_sampler)\n",
        "    # Load CIFAR10 testing data\n",
        "    testset = torchvision.datasets.CIFAR10(root='./data', train=False,\n",
        "                                           download=True, transform=transform)\n",
        "    # Get the list of indices to sample from\n",
        "    relevant_test_indices = get_relevant_indices(testset, classes, target_classes)\n",
        "    test_sampler = SubsetRandomSampler(relevant_test_indices)\n",
        "    test_loader = torch.utils.data.DataLoader(testset, batch_size=batch_size,\n",
        "                                             num_workers=1, sampler=test_sampler)\n",
        "    return train_loader, val_loader, test_loader, classes\n",
        "\n",
        "###############################################################################\n",
        "# Training\n",
        "def get_model_name(name, batch_size, learning_rate, epoch):\n",
        "    \"\"\" Generate a name for the model consisting of all the hyperparameter values\n",
        "\n",
        "    Args:\n",
        "        config: Configuration object containing the hyperparameters\n",
        "    Returns:\n",
        "        path: A string with the hyperparameter name and value concatenated\n",
        "    \"\"\"\n",
        "    path = \"model_{0}_bs{1}_lr{2}_epoch{3}\".format(name,\n",
        "                                                   batch_size,\n",
        "                                                   learning_rate,\n",
        "                                                   epoch)\n",
        "    return path\n",
        "\n",
        "def normalize_label(labels):\n",
        "    \"\"\"\n",
        "    Given a tensor containing 2 possible values, normalize this to 0/1\n",
        "\n",
        "    Args:\n",
        "        labels: a 1D tensor containing two possible scalar values\n",
        "    Returns:\n",
        "        A tensor normalize to 0/1 value\n",
        "    \"\"\"\n",
        "    max_val = torch.max(labels)\n",
        "    min_val = torch.min(labels)\n",
        "    norm_labels = (labels - min_val)/(max_val - min_val)\n",
        "    return norm_labels\n",
        "\n",
        "def evaluate(net, loader, criterion):\n",
        "    \"\"\" Evaluate the network on the validation set.\n",
        "\n",
        "     Args:\n",
        "         net: PyTorch neural network object\n",
        "         loader: PyTorch data loader for the validation set\n",
        "         criterion: The loss function\n",
        "     Returns:\n",
        "         err: A scalar for the avg classification error over the validation set\n",
        "         loss: A scalar for the average loss function over the validation set\n",
        "     \"\"\"\n",
        "    total_loss = 0.0\n",
        "    total_err = 0.0\n",
        "    total_epoch = 0\n",
        "    for i, data in enumerate(loader, 0):\n",
        "        inputs, labels = data\n",
        "        labels = normalize_label(labels)  # Convert labels to 0/1\n",
        "        outputs = net(inputs)\n",
        "        loss = criterion(outputs, labels.float())\n",
        "        corr = (outputs > 0.0).squeeze().long() != labels\n",
        "        #print('labels: ',labels)\n",
        "        #print('corr: ',corr)\n",
        "        total_err += int(corr.sum())\n",
        "        total_loss += loss.item()\n",
        "        total_epoch += len(labels)\n",
        "    err = float(total_err) / total_epoch\n",
        "    loss = float(total_loss) / (i + 1)\n",
        "    return err, loss\n",
        "\n",
        "###############################################################################\n",
        "# Training Curve\n",
        "def plot_training_curve(path):\n",
        "    \"\"\" Plots the training curve for a model run, given the csv files\n",
        "    containing the train/validation error/loss.\n",
        "\n",
        "    Args:\n",
        "        path: The base path of the csv files produced during training\n",
        "    \"\"\"\n",
        "    import matplotlib.pyplot as plt\n",
        "    train_err = np.loadtxt(\"{}_train_err.csv\".format(path))\n",
        "    val_err = np.loadtxt(\"{}_val_err.csv\".format(path))\n",
        "    train_loss = np.loadtxt(\"{}_train_loss.csv\".format(path))\n",
        "    val_loss = np.loadtxt(\"{}_val_loss.csv\".format(path))\n",
        "    plt.title(\"Train vs Validation Error\")\n",
        "    n = len(train_err) # number of epochs\n",
        "    plt.plot(range(1,n+1), train_err, label=\"Train\")\n",
        "    plt.plot(range(1,n+1), val_err, label=\"Validation\")\n",
        "    plt.xlabel(\"Epoch\")\n",
        "    plt.ylabel(\"Error\")\n",
        "    plt.legend(loc='best')\n",
        "    plt.show()\n",
        "    plt.title(\"Train vs Validation Loss\")\n",
        "    plt.plot(range(1,n+1), train_loss, label=\"Train\")\n",
        "    plt.plot(range(1,n+1), val_loss, label=\"Validation\")\n",
        "    plt.xlabel(\"Epoch\")\n",
        "    plt.ylabel(\"Loss\")\n",
        "    plt.legend(loc='best')\n",
        "    plt.show()"
      ],
      "execution_count": null,
      "outputs": []
    },
    {
      "cell_type": "markdown",
      "metadata": {
        "id": "bJxMgWGNqID2"
      },
      "source": [
        "## Part 1. Visualizing the Data\n",
        "\n",
        "We will make use of some of the CIFAR-10 data set, which consists of \n",
        "colour images of size 32x32 pixels belonging to 10 categories. You can\n",
        "find out more about the dataset at https://www.cs.toronto.edu/~kriz/cifar.html\n",
        "\n",
        "We have included code that automatically downloads the dataset the \n",
        "first time that the main script is run."
      ]
    },
    {
      "cell_type": "code",
      "metadata": {
        "id": "Rp7LVcGfqID3",
        "scrolled": true,
        "outputId": "e9a96560-aafb-4f3a-b551-66f35335c939",
        "colab": {
          "base_uri": "https://localhost:8080/",
          "height": 100,
          "referenced_widgets": [
            "f073bd37de5848678f7743168235a8fb",
            "c3ebeeb5bea74699bf05aba6c966c783",
            "860dac4d718b4a5c92c9bd85ee2d3731",
            "4aaaa3b86d504f36a1cefcda8dfa4e9a",
            "ef09c70b1f234997aa3c00a0c1d4b4ae",
            "63a479d2025d4d88ab75024b6186a87c",
            "22fc62d0fa5d43919a1029da3aa979c2",
            "1f34bbbea116431480046135e6fdc1a1"
          ]
        }
      },
      "source": [
        "# This will download the CIFAR-10 dataset to a folder called \"data\"\n",
        "# the first time you run this code.\n",
        "train_loader, val_loader, test_loader, classes = get_data_loader(\n",
        "    target_classes=[\"cat\", \"dog\"], \n",
        "    batch_size=1) # One image per batch"
      ],
      "execution_count": null,
      "outputs": [
        {
          "output_type": "stream",
          "text": [
            "Downloading https://www.cs.toronto.edu/~kriz/cifar-10-python.tar.gz to ./data/cifar-10-python.tar.gz\n"
          ],
          "name": "stdout"
        },
        {
          "output_type": "display_data",
          "data": {
            "application/vnd.jupyter.widget-view+json": {
              "model_id": "f073bd37de5848678f7743168235a8fb",
              "version_minor": 0,
              "version_major": 2
            },
            "text/plain": [
              "HBox(children=(FloatProgress(value=1.0, bar_style='info', max=1.0), HTML(value='')))"
            ]
          },
          "metadata": {
            "tags": []
          }
        },
        {
          "output_type": "stream",
          "text": [
            "Extracting ./data/cifar-10-python.tar.gz to ./data\n",
            "Files already downloaded and verified\n"
          ],
          "name": "stdout"
        }
      ]
    },
    {
      "cell_type": "markdown",
      "metadata": {
        "id": "JiYX_HM-qID6"
      },
      "source": [
        "### Part (a)\n",
        "\n",
        "Visualize some of the data by running the code below."
      ]
    },
    {
      "cell_type": "code",
      "metadata": {
        "id": "UJ4pYFTQqID7",
        "scrolled": true,
        "outputId": "28dfa29b-a253-4118-ce20-09c4043d7fc3",
        "colab": {
          "base_uri": "https://localhost:8080/",
          "height": 242
        }
      },
      "source": [
        "import matplotlib.pyplot as plt\n",
        "\n",
        "k = 0\n",
        "for images, labels in train_loader:\n",
        "    # since batch_size = 1, there is only 1 image in `images`\n",
        "    image = images[0]\n",
        "    # place the colour channel at the end, instead of at the beginning\n",
        "    img = np.transpose(image, [1,2,0])\n",
        "    # normalize pixel intensity values to [0, 1]\n",
        "    img = img / 2 + 0.5\n",
        "    plt.subplot(3, 5, k+1)\n",
        "    plt.axis('off')\n",
        "    plt.imshow(img)\n",
        "\n",
        "    k += 1\n",
        "    if k > 14:\n",
        "        break"
      ],
      "execution_count": null,
      "outputs": [
        {
          "output_type": "display_data",
          "data": {
            "image/png": "[encoded data removed]",
            "text/plain": [
              "<Figure size 432x288 with 15 Axes>"
            ]
          },
          "metadata": {
            "tags": [],
            "needs_background": "light"
          }
        }
      ]
    },
    {
      "cell_type": "markdown",
      "metadata": {
        "id": "UmHiUOaDqID9"
      },
      "source": [
        "### Part (b)\n",
        "\n",
        "How many training examples do we have for the combined `cat` and `dog` classes? \n",
        "What about validation examples? \n",
        "What about test examples?"
      ]
    },
    {
      "cell_type": "code",
      "metadata": {
        "id": "6p4eAz1IqID-",
        "outputId": "7886c41f-49be-4adb-a3f0-b851d99716fd",
        "colab": {
          "base_uri": "https://localhost:8080/",
          "height": 68
        }
      },
      "source": [
        "print('Training examples: {}'.format(len(train_loader)))\n",
        "print('Validation examples: {}'.format(len(val_loader)))\n",
        "print('Test examples: {}'.format(len(test_loader)))"
      ],
      "execution_count": null,
      "outputs": [
        {
          "output_type": "stream",
          "text": [
            "Training examples: 8000\n",
            "Validation examples: 2000\n",
            "Test examples: 2000\n"
          ],
          "name": "stdout"
        }
      ]
    },
    {
      "cell_type": "markdown",
      "metadata": {
        "id": "3aY25I_oqIEB"
      },
      "source": [
        "### Part (c)\n",
        "\n",
        "Why do we need a validation set when training our model? What happens if we judge the \n",
        "performance of our models using the training set loss/error instead of the validation\n",
        "set loss/error?"
      ]
    },
    {
      "cell_type": "markdown",
      "metadata": {
        "id": "OTKs3YXEMwSi"
      },
      "source": [
        "**Answer:** The purpose of the validation set is to tune the parameters such as the batch size and learning rate (after testing on the validation set).\n",
        "\n",
        "Models are not suppoesd to be tested on the training sets because the training sets are where they are \"trained\" on. Testing too much on a training set (and adjusting the hyperparameters so that the errors  for *just* the training set approach 0) can lead to overfitting, as the model will be too fixed on the training set that it won't be able to generalize to unseen data."
      ]
    },
    {
      "cell_type": "markdown",
      "metadata": {
        "id": "6iYZ4xXHqIEE"
      },
      "source": [
        "## Part 2. Training\n",
        "\n",
        "We define two neural networks, a `LargeNet` and `SmallNet`.\n",
        "We'll be training the networks in this section."
      ]
    },
    {
      "cell_type": "code",
      "metadata": {
        "id": "HniZoI3lqIEF"
      },
      "source": [
        "class LargeNet(nn.Module):\n",
        "    def __init__(self):\n",
        "        super(LargeNet, self).__init__()\n",
        "        self.name = \"large\"\n",
        "        self.conv1 = nn.Conv2d(3, 5, 5)\n",
        "        self.pool = nn.MaxPool2d(2, 2)\n",
        "        self.conv2 = nn.Conv2d(5, 10, 5)\n",
        "        self.fc1 = nn.Linear(10 * 5 * 5, 32)\n",
        "        self.fc2 = nn.Linear(32, 1)\n",
        "\n",
        "    def forward(self, x):\n",
        "        x = self.pool(F.relu(self.conv1(x)))\n",
        "        x = self.pool(F.relu(self.conv2(x)))\n",
        "        x = x.view(-1, 10 * 5 * 5)\n",
        "        x = F.relu(self.fc1(x))\n",
        "        x = self.fc2(x)\n",
        "        x = x.squeeze(1) # Flatten to [batch_size]\n",
        "        return x"
      ],
      "execution_count": null,
      "outputs": []
    },
    {
      "cell_type": "code",
      "metadata": {
        "id": "pJgOmJdvqIEH"
      },
      "source": [
        "class SmallNet(nn.Module):\n",
        "    def __init__(self):\n",
        "        super(SmallNet, self).__init__()\n",
        "        self.name = \"small\"\n",
        "        self.conv = nn.Conv2d(3, 5, 3)\n",
        "        self.pool = nn.MaxPool2d(2, 2)\n",
        "        self.fc = nn.Linear(5 * 7 * 7, 1)\n",
        "\n",
        "    def forward(self, x):\n",
        "        x = self.pool(F.relu(self.conv(x)))\n",
        "        x = self.pool(x)\n",
        "        x = x.view(-1, 5 * 7 * 7)\n",
        "        x = self.fc(x)\n",
        "        x = x.squeeze(1) # Flatten to [batch_size]\n",
        "        return x"
      ],
      "execution_count": null,
      "outputs": []
    },
    {
      "cell_type": "code",
      "metadata": {
        "id": "pMJZt_S2qIEM"
      },
      "source": [
        "small_net = SmallNet()\n",
        "large_net = LargeNet()"
      ],
      "execution_count": null,
      "outputs": []
    },
    {
      "cell_type": "markdown",
      "metadata": {
        "id": "-ekO3pj9qIEQ"
      },
      "source": [
        "### Part (a)\n",
        "\n",
        "The methods `small_net.parameters()` and `large_net.parameters()`\n",
        "produces an iterator of all the trainable parameters of the network.\n",
        "These parameters are torch tensors containing many scalar values. \n",
        "\n",
        "We haven't learned how how the parameters in these high-dimensional\n",
        "tensors will be used, but we should be able to count the number\n",
        "of parameters. Measuring the number of parameters in a network is\n",
        "one way of measuring the \"size\" of a network.\n",
        "\n",
        "What is the total number of parameters in `small_net` and in\n",
        "`large_net`?"
      ]
    },
    {
      "cell_type": "code",
      "metadata": {
        "id": "dc4keyOnqIER",
        "outputId": "a86bb6c2-20d2-430c-c64c-248e886bc4fb",
        "colab": {
          "base_uri": "https://localhost:8080/",
          "height": 85
        }
      },
      "source": [
        "for param in small_net.parameters():\n",
        "    print(param.shape)"
      ],
      "execution_count": null,
      "outputs": [
        {
          "output_type": "stream",
          "text": [
            "torch.Size([5, 3, 3, 3])\n",
            "torch.Size([5])\n",
            "torch.Size([1, 245])\n",
            "torch.Size([1])\n"
          ],
          "name": "stdout"
        }
      ]
    },
    {
      "cell_type": "markdown",
      "metadata": {
        "id": "TduKLjRJPClO"
      },
      "source": [
        "Multiply numbers within each size tensor, add up results:\n",
        "\n",
        "(5 * 3* 3* 3)+(5)+(1 *245)+(1)=386\n",
        "\n",
        "**Answer:** Total number of parameters = 386"
      ]
    },
    {
      "cell_type": "code",
      "metadata": {
        "id": "EQIFOQ3NoDef",
        "outputId": "57ac0079-f308-4a3c-bcc9-f5331750e539",
        "colab": {
          "base_uri": "https://localhost:8080/",
          "height": 153
        }
      },
      "source": [
        "for param in large_net.parameters():\n",
        "  print(param.shape)"
      ],
      "execution_count": null,
      "outputs": [
        {
          "output_type": "stream",
          "text": [
            "torch.Size([5, 3, 5, 5])\n",
            "torch.Size([5])\n",
            "torch.Size([10, 5, 5, 5])\n",
            "torch.Size([10])\n",
            "torch.Size([32, 250])\n",
            "torch.Size([32])\n",
            "torch.Size([1, 32])\n",
            "torch.Size([1])\n"
          ],
          "name": "stdout"
        }
      ]
    },
    {
      "cell_type": "markdown",
      "metadata": {
        "id": "W0yio968PfXI"
      },
      "source": [
        "Multiply numbers within each size tensor, add up results:\n",
        "\n",
        "(5 * 3 * 5 * 5)+5+(10 * 5 * 5 * 5)+10+(32 * 250)+32+(1 * 32)+1=9705\n",
        "\n",
        "**Answer:** Total number of parameters = 9705"
      ]
    },
    {
      "cell_type": "markdown",
      "metadata": {
        "id": "OcZVo2DsqIET"
      },
      "source": [
        "### The function train_net\n",
        "\n",
        "The function `train_net` below takes an untrained neural network (like `small_net` and `large_net`) and\n",
        "several other parameters.\n",
        "The figure below shows the high level training loop for a machine learning model:\n",
        "\n",
        "![alt text](https://github.com/UTNeural/Lab2/blob/master/Diagram.png?raw=true)"
      ]
    },
    {
      "cell_type": "code",
      "metadata": {
        "id": "jC90G_VGqIEU"
      },
      "source": [
        "def train_net(net, batch_size=64, learning_rate=0.01, num_epochs=30):\n",
        "    ########################################################################\n",
        "    # Train a classifier on cats vs dogs\n",
        "    target_classes = [\"cat\", \"dog\"]\n",
        "    ########################################################################\n",
        "    # Fixed PyTorch random seed for reproducible result\n",
        "    torch.manual_seed(1000)\n",
        "    ########################################################################\n",
        "    # Obtain the PyTorch data loader objects to load batches of the datasets\n",
        "    train_loader, val_loader, test_loader, classes = get_data_loader(\n",
        "            target_classes, batch_size)\n",
        "    ########################################################################\n",
        "    # Define the Loss function and optimizer\n",
        "    # The loss function will be Binary Cross Entropy (BCE). In this case we\n",
        "    # will use the BCEWithLogitsLoss which takes unnormalized output from\n",
        "    # the neural network and scalar label.\n",
        "    # Optimizer will be SGD with Momentum.\n",
        "    criterion = nn.BCEWithLogitsLoss()\n",
        "    optimizer = optim.SGD(net.parameters(), lr=learning_rate, momentum=0.9)\n",
        "    ########################################################################\n",
        "    # Set up some numpy arrays to store the training/test loss/erruracy\n",
        "    train_err = np.zeros(num_epochs)\n",
        "    train_loss = np.zeros(num_epochs)\n",
        "    val_err = np.zeros(num_epochs)\n",
        "    val_loss = np.zeros(num_epochs)\n",
        "    ########################################################################\n",
        "    # Train the network\n",
        "    # Loop over the data iterator and sample a new batch of training data\n",
        "    # Get the output from the network, and optimize our loss function.\n",
        "    start_time = time.time()\n",
        "    for epoch in range(num_epochs):  # loop over the dataset multiple times\n",
        "        total_train_loss = 0.0\n",
        "        total_train_err = 0.0\n",
        "        total_epoch = 0\n",
        "        for i, data in enumerate(train_loader, 0):\n",
        "            # Get the inputs\n",
        "            inputs, labels = data\n",
        "            labels = normalize_label(labels) # Convert labels to 0/1\n",
        "            # Zero the parameter gradients\n",
        "            optimizer.zero_grad()\n",
        "            # Forward pass, backward pass, and optimize\n",
        "            outputs = net(inputs)\n",
        "            print('outputs: ',outputs)\n",
        "            print('labels: ',labels)\n",
        "            loss = criterion(outputs, labels.float())\n",
        "            loss.backward()\n",
        "            optimizer.step()\n",
        "            # Calculate the statistics\n",
        "            '''corr = (outputs > 0.0)\n",
        "            print(corr)\n",
        "            print(len(corr))\n",
        "            print(len(labels))'''\n",
        "            corr = (outputs > 0.0)     #25 19 39 20\n",
        "            #print('1: ',int(corr.sum()))\n",
        "            corr = (outputs > 0.0).squeeze().long() != labels\n",
        "            #print('2: ',int(corr.sum()))\n",
        "            total_train_err += int(corr.sum())\n",
        "            total_train_loss += loss.item()\n",
        "            total_epoch += len(labels)\n",
        "        train_err[epoch] = float(total_train_err) / total_epoch\n",
        "        train_loss[epoch] = float(total_train_loss) / (i+1)\n",
        "        val_err[epoch], val_loss[epoch] = evaluate(net, val_loader, criterion)\n",
        "        print((\"Epoch {}: Train err: {}, Train loss: {} |\"+\n",
        "               \"Validation err: {}, Validation loss: {}\").format(\n",
        "                   epoch + 1,\n",
        "                   train_err[epoch],\n",
        "                   train_loss[epoch],\n",
        "                   val_err[epoch],\n",
        "                   val_loss[epoch]))\n",
        "        # Save the current model (checkpoint) to a file\n",
        "        model_path = get_model_name(net.name, batch_size, learning_rate, epoch)\n",
        "        torch.save(net.state_dict(), model_path)\n",
        "    print('Finished Training')\n",
        "    end_time = time.time()\n",
        "    elapsed_time = end_time - start_time\n",
        "    print(\"Total time elapsed: {:.2f} seconds\".format(elapsed_time))\n",
        "    # Write the train/test loss/err into CSV file for plotting later\n",
        "    epochs = np.arange(1, num_epochs + 1)\n",
        "    np.savetxt(\"{}_train_err.csv\".format(model_path), train_err)\n",
        "    np.savetxt(\"{}_train_loss.csv\".format(model_path), train_loss)\n",
        "    np.savetxt(\"{}_val_err.csv\".format(model_path), val_err)\n",
        "    np.savetxt(\"{}_val_loss.csv\".format(model_path), val_loss)"
      ],
      "execution_count": null,
      "outputs": []
    },
    {
      "cell_type": "markdown",
      "metadata": {
        "id": "jEhligNaqIEW"
      },
      "source": [
        "### Part (b)\n",
        "The parameters to the function `train_net` are hyperparameters of our neural network.\n",
        "We made these hyperparameters easy to modify so that we can tune them later on. \n",
        "\n",
        "What are the default values of the parameters `batch_size`, `learning_rate`, \n",
        "and `num_epochs`?"
      ]
    },
    {
      "cell_type": "code",
      "metadata": {
        "id": "Ybq2F5KTqIEX"
      },
      "source": [
        "#batch_size=64, learning_rate=0.01, num_epochs=30"
      ],
      "execution_count": null,
      "outputs": []
    },
    {
      "cell_type": "markdown",
      "metadata": {
        "id": "Qy_yv9NMqIEa"
      },
      "source": [
        "### Part (c)\n",
        "\n",
        "What files are written to disk when we call `train_net` with `small_net`, and train for 5 epochs? Provide a list\n",
        "of all the files written to disk, and what information the files contain."
      ]
    },
    {
      "cell_type": "code",
      "metadata": {
        "id": "hNwhtyP1qIEb",
        "outputId": "b751a969-72ea-49da-a921-dd5db6d37811",
        "colab": {
          "base_uri": "https://localhost:8080/",
          "height": 1000
        }
      },
      "source": [
        "#info in file: train error, train loss, validation error, validation loss\n",
        "train_net(small_net, batch_size=64, learning_rate=0.01, num_epochs=1)"
      ],
      "execution_count": null,
      "outputs": [
        {
          "output_type": "stream",
          "text": [
            "Files already downloaded and verified\n",
            "Files already downloaded and verified\n",
            "outputs:  tensor([-2.4240e+00,  4.9929e-02, -1.0755e+00, -3.8307e-01, -1.4180e+00,\n",
            "        -4.3249e-01,  4.1209e-01, -8.4506e-01, -1.8407e+00, -6.1306e-01,\n",
            "        -2.2661e-01,  1.7625e+00,  1.9365e-01,  4.1975e-01,  1.7808e+00,\n",
            "         4.1860e-01,  2.9817e-01, -3.7793e-01,  4.0297e-01,  8.6277e-02,\n",
            "         3.7349e-01,  4.5105e-01, -4.5838e-01, -3.1778e-01,  6.9686e-01,\n",
            "        -1.0455e+00,  7.2845e-01, -1.4159e+00,  3.3278e-01,  1.2476e-01,\n",
            "         1.0102e-01,  2.6566e-01, -2.3795e-01,  1.2806e+00,  1.1481e-01,\n",
            "         6.4083e-01, -1.4398e+00,  1.8550e-01,  9.0753e-02,  2.3183e-01,\n",
            "        -3.6717e-01,  1.7197e+00,  8.2277e-01,  1.6862e+00,  6.4106e-01,\n",
            "        -1.3685e+00, -1.2245e+00,  3.0912e+00, -1.0104e+00, -3.6802e-01,\n",
            "         2.5947e-01, -6.4409e-01, -8.5184e-01, -1.1515e+00, -1.5883e+00,\n",
            "        -3.9745e-01, -3.0049e-03, -7.9816e-01,  4.0024e-01,  5.2352e-02,\n",
            "        -4.0114e-01,  4.5888e-01,  5.2740e-01, -1.7556e-01],\n",
            "       grad_fn=<SqueezeBackward1>)\n",
            "labels:  tensor([0, 1, 0, 0, 0, 0, 1, 0, 0, 1, 0, 1, 1, 1, 1, 1, 1, 0, 0, 0, 1, 1, 1, 1,\n",
            "        1, 1, 1, 0, 0, 1, 1, 0, 0, 1, 1, 1, 0, 1, 0, 0, 0, 1, 0, 1, 0, 0, 0, 1,\n",
            "        0, 0, 0, 1, 0, 1, 0, 0, 1, 0, 1, 1, 0, 1, 0, 1])\n",
            "outputs:  tensor([ 6.0645e-01,  3.1113e+00, -3.9910e-02,  1.9962e+00, -1.6104e+00,\n",
            "        -7.7082e-01, -3.0633e-01, -1.3577e+00, -6.8778e-01, -2.0037e-01,\n",
            "         2.5201e+00,  5.5766e-01, -5.3275e-01,  2.7408e+00, -7.2828e-01,\n",
            "         6.1024e-01,  2.9018e-01, -3.5255e-01,  2.9751e+00, -2.2431e-03,\n",
            "         1.0404e+00, -3.2839e+00, -6.1646e-01,  4.4194e-03,  9.0745e-01,\n",
            "         1.6253e-01,  2.8934e-01, -1.5857e+00,  7.3235e-01, -8.5187e-01,\n",
            "         1.4579e+00,  1.3027e+00,  6.8241e-01, -2.6461e-01, -1.5647e+00,\n",
            "         6.7532e-01, -2.0239e+00, -2.2138e-01,  7.1407e-01,  5.5335e-01,\n",
            "         9.0064e-01, -1.6817e+00,  8.3961e-01, -5.9753e-02,  8.1931e-01,\n",
            "         1.3238e+00,  1.7606e+00, -8.9391e-01,  1.0677e+00,  2.7197e-01,\n",
            "        -1.1664e-01,  1.6357e-01, -2.8709e-01,  1.8796e+00,  9.3748e-01,\n",
            "         2.1765e+00, -1.3822e+00, -5.0675e-01,  2.9467e+00,  2.0950e-01,\n",
            "        -3.4263e-01,  9.3540e-01,  1.1574e+00, -1.7673e+00],\n",
            "       grad_fn=<SqueezeBackward1>)\n",
            "labels:  tensor([0, 1, 1, 1, 0, 1, 1, 0, 1, 1, 1, 0, 1, 1, 1, 1, 0, 0, 1, 1, 0, 0, 0, 0,\n",
            "        1, 1, 0, 0, 0, 0, 1, 1, 1, 0, 0, 0, 1, 0, 1, 1, 0, 0, 1, 0, 1, 1, 1, 1,\n",
            "        1, 0, 0, 1, 0, 1, 1, 1, 0, 0, 1, 1, 1, 1, 1, 0])\n",
            "outputs:  tensor([ 0.3717, -1.2872, -1.3448, -0.7545, -0.3727, -1.0983,  1.2996, -0.1380,\n",
            "        -0.7657,  0.3584,  0.1086,  0.8801,  1.4353,  0.3543,  2.1275,  1.2125,\n",
            "         1.9627,  0.9689,  0.0873, -1.2459,  0.8423, -0.8436,  0.3743, -1.0715,\n",
            "        -3.7488,  0.0294,  0.0512,  1.2678, -1.3758,  0.3027,  0.4280, -0.7721,\n",
            "         0.3445, -0.3204, -2.0295, -1.4741, -1.8496, -0.5137, -0.4310,  0.2705,\n",
            "         0.5350, -1.1090, -0.0732,  1.6491, -0.1209,  0.7109, -0.1385, -0.6415,\n",
            "         0.2802, -0.1137, -1.3101, -1.9572, -1.8839, -2.5735, -0.1969, -0.6362,\n",
            "        -0.3994,  1.6315, -1.6531, -2.6349, -0.7074,  2.2793, -0.8701, -0.9907],\n",
            "       grad_fn=<SqueezeBackward1>)\n",
            "labels:  tensor([1, 1, 1, 0, 1, 0, 1, 1, 1, 1, 0, 1, 0, 0, 1, 1, 1, 1, 0, 0, 1, 0, 1, 0,\n",
            "        0, 1, 0, 1, 1, 1, 1, 1, 0, 0, 0, 1, 0, 1, 1, 1, 1, 0, 1, 1, 0, 1, 0, 0,\n",
            "        0, 1, 0, 0, 0, 0, 1, 0, 1, 1, 0, 0, 0, 1, 1, 0])\n",
            "outputs:  tensor([-0.5056,  1.4594,  0.0384,  0.3157,  1.2223,  1.1903, -1.0264,  0.6548,\n",
            "        -0.5830,  0.3343, -1.1985,  1.8227, -0.8261, -1.3816,  0.3879, -0.0590,\n",
            "         0.3828,  1.1104,  1.7111, -0.8713, -0.7365, -0.1754, -0.6943,  0.4644,\n",
            "         0.8292,  2.1392, -1.3502,  2.5664, -0.7707,  0.0947, -0.1501, -0.6382,\n",
            "         1.4017,  1.0710,  1.8830, -0.3685, -0.3048, -0.8546,  0.4660, -0.5273,\n",
            "        -0.4707, -0.8125,  2.9312,  1.3754, -1.4158, -0.9734, -0.7927,  0.5100,\n",
            "         1.9665, -1.1874,  1.3340,  1.5125,  1.5871,  0.2132,  3.5524,  2.7109,\n",
            "        -0.2850,  1.4340, -0.2763, -0.6401,  0.4962,  0.1362, -0.0155,  2.8258],\n",
            "       grad_fn=<SqueezeBackward1>)\n",
            "labels:  tensor([0, 1, 1, 1, 1, 1, 0, 0, 0, 0, 0, 1, 0, 1, 1, 1, 1, 0, 1, 1, 0, 0, 0, 1,\n",
            "        1, 1, 0, 1, 0, 0, 0, 0, 0, 1, 1, 1, 0, 0, 1, 1, 1, 1, 1, 1, 1, 0, 0, 1,\n",
            "        1, 0, 0, 1, 1, 0, 1, 1, 0, 1, 1, 1, 1, 0, 1, 1])\n",
            "outputs:  tensor([ 8.4244e-01,  1.5023e-01, -1.2877e-01,  6.4239e-02, -3.7418e-01,\n",
            "         7.6696e-01,  1.5377e-03,  5.3727e-01,  5.6257e-01,  2.8158e+00,\n",
            "        -1.4923e+00, -3.9818e-01,  1.0746e+00,  7.9891e-02,  8.6608e-02,\n",
            "        -2.3983e+00, -1.0880e+00, -5.4340e-01,  3.3091e+00,  1.3846e+00,\n",
            "         8.1409e-01,  1.3886e+00,  1.6552e+00, -1.4279e+00,  1.3600e+00,\n",
            "         1.4211e-01,  2.6562e-02,  1.6730e+00,  2.2430e+00, -1.5935e+00,\n",
            "         5.4549e-01, -7.9792e-02,  1.6627e+00,  2.5273e+00, -1.2504e+00,\n",
            "        -2.1134e-02,  3.4459e-01,  2.1561e-01,  4.9248e-01,  1.6441e+00,\n",
            "        -6.1394e-01,  8.2946e-01,  1.3708e-01, -8.3002e-01,  1.8269e+00,\n",
            "         6.9215e-01,  1.1376e+00,  8.6586e-01, -6.4901e-01, -1.9465e+00,\n",
            "        -2.7015e-01,  8.2795e-01, -1.4539e+00, -1.3199e+00,  3.2380e-01,\n",
            "         1.7254e-01,  1.3181e+00, -3.1508e-01,  9.4170e-01, -6.9380e-01,\n",
            "         2.3222e+00, -5.3721e-01,  3.8696e-01, -9.2327e-02],\n",
            "       grad_fn=<SqueezeBackward1>)\n",
            "labels:  tensor([1, 1, 1, 0, 0, 1, 1, 0, 0, 0, 0, 0, 1, 0, 1, 0, 0, 0, 1, 1, 1, 1, 1, 1,\n",
            "        1, 0, 0, 1, 1, 0, 1, 1, 0, 1, 0, 0, 1, 0, 1, 0, 0, 1, 1, 1, 1, 1, 1, 1,\n",
            "        0, 0, 0, 1, 0, 0, 1, 1, 1, 0, 1, 1, 0, 1, 1, 1])\n",
            "outputs:  tensor([ 2.0932, -0.0101, -1.8464, -0.0102, -0.8613, -0.7255,  0.0414,  0.1252,\n",
            "        -1.0192,  0.6338,  1.6903,  2.2402,  0.6713, -0.2172,  0.7304,  2.2017,\n",
            "        -0.2594, -0.0067, -1.2243, -0.7289,  1.4022, -0.4160,  1.0371,  0.4760,\n",
            "         0.7402,  0.6460,  0.6427,  0.6745,  0.7265,  1.7065, -0.7072, -0.6239,\n",
            "         0.4251,  1.6668, -0.5055,  0.5352, -0.7420,  0.8673, -3.3151, -0.4648,\n",
            "         1.4648,  0.1329, -0.2286, -0.5164,  1.2594, -1.4096,  0.6576,  3.2931,\n",
            "         1.4275, -0.9609,  0.3872, -0.3151,  0.3490,  0.0565, -0.1195,  0.2178,\n",
            "         0.8452,  0.7559,  1.0225,  0.0749, -0.1371,  0.6639, -0.4593, -0.2431],\n",
            "       grad_fn=<SqueezeBackward1>)\n",
            "labels:  tensor([1, 0, 0, 1, 0, 0, 1, 0, 0, 1, 1, 0, 0, 0, 0, 1, 1, 0, 1, 0, 1, 0, 1, 1,\n",
            "        0, 0, 0, 0, 0, 1, 0, 1, 1, 1, 1, 1, 0, 1, 0, 0, 1, 0, 0, 0, 0, 0, 0, 1,\n",
            "        1, 0, 0, 0, 1, 0, 1, 0, 0, 1, 0, 0, 0, 1, 1, 0])\n",
            "outputs:  tensor([ 1.6200, -0.5501,  0.2460, -0.0343, -0.1597,  0.5976, -1.2385, -0.4943,\n",
            "         2.4320,  1.4570,  1.1343,  1.2603, -0.2536,  1.2081, -0.7536, -0.1581,\n",
            "         0.9221,  0.2489,  0.2591, -0.8122,  2.6703,  0.7283,  0.1920,  2.1709,\n",
            "         2.1722, -1.0691,  4.0860, -3.7296, -0.0372,  0.6251,  2.5887,  0.1197,\n",
            "         2.0776,  0.6231, -0.4219, -2.0667,  0.8554, -0.0363,  0.5708,  0.2266,\n",
            "        -0.1489,  1.9169,  0.4589,  0.7435, -1.1447, -0.8748,  2.3178,  0.4066,\n",
            "         0.2759,  1.1352, -0.1363,  0.6979, -0.6158, -0.6648, -1.5404,  0.0441,\n",
            "         0.7054,  1.0568,  0.9912, -0.9707,  0.8317,  1.6958, -1.4559,  1.1176],\n",
            "       grad_fn=<SqueezeBackward1>)\n",
            "labels:  tensor([1, 0, 0, 0, 1, 0, 1, 0, 1, 0, 1, 1, 0, 1, 0, 1, 0, 1, 1, 1, 1, 0, 0, 1,\n",
            "        1, 0, 1, 0, 0, 1, 1, 0, 1, 1, 0, 0, 1, 1, 0, 0, 0, 0, 1, 0, 0, 0, 1, 1,\n",
            "        1, 1, 0, 1, 1, 1, 0, 1, 1, 0, 1, 0, 1, 0, 0, 1])\n",
            "outputs:  tensor([ 1.8719e+00, -1.5444e+00,  1.6063e+00, -5.6921e-01, -2.3873e+00,\n",
            "        -2.2032e+00,  1.2339e-01, -5.0437e-01, -4.2156e-01,  2.7552e-01,\n",
            "        -4.5577e-01, -9.8151e-02, -6.1720e-01,  1.5493e+00,  1.4210e+00,\n",
            "        -5.2391e-01,  4.6389e-01, -1.4269e+00,  1.4652e+00,  1.0348e+00,\n",
            "         6.5513e-01,  1.0475e+00, -2.1903e-04,  6.6122e-01,  9.4349e-01,\n",
            "         2.8726e-01, -1.9224e+00,  1.2464e+00,  1.9913e+00, -5.9258e-01,\n",
            "        -5.9269e-01, -1.7651e-01, -1.1996e+00,  1.3916e+00, -8.8762e-01,\n",
            "         3.9937e-01, -9.1525e-01,  5.9218e-01,  1.6709e-02, -5.9986e-01,\n",
            "         2.6152e+00,  2.8720e-01, -2.8301e-01,  8.6689e-01,  2.9237e+00,\n",
            "        -1.4602e-01,  1.4670e+00, -1.4222e+00, -1.0255e+00,  1.8523e-01,\n",
            "        -6.6476e-01,  9.6575e-01, -5.2135e-01,  1.5113e+00, -6.9979e-01,\n",
            "         1.3185e+00,  5.2102e-01, -1.7338e+00, -3.7842e-01,  5.9370e-01,\n",
            "        -2.2307e+00, -8.8171e-02,  1.9353e+00,  6.1068e-01],\n",
            "       grad_fn=<SqueezeBackward1>)\n",
            "labels:  tensor([1, 0, 1, 0, 0, 0, 0, 0, 0, 0, 1, 0, 0, 1, 0, 0, 0, 0, 1, 1, 0, 1, 0, 0,\n",
            "        1, 1, 0, 1, 1, 0, 0, 0, 0, 1, 1, 0, 1, 1, 1, 1, 1, 0, 0, 1, 1, 0, 1, 0,\n",
            "        1, 1, 1, 1, 0, 1, 0, 1, 1, 0, 1, 1, 0, 1, 1, 0])\n",
            "outputs:  tensor([-1.1947,  1.0417,  1.5325, -0.1099, -0.2678, -0.4336, -2.8912, -0.7364,\n",
            "        -0.1682, -0.3961, -0.6394,  0.8435,  0.3799,  0.2253,  0.6121,  0.8060,\n",
            "        -1.2653,  0.7266, -1.7868,  1.3386,  0.6590, -0.5328,  2.0531,  0.8903,\n",
            "        -0.9780,  1.4983, -1.0952,  1.5430,  0.4732, -1.1874,  1.2772,  0.2171,\n",
            "        -0.9983, -0.6022,  0.8493, -0.3761, -1.3020, -0.3981,  2.1217,  0.2210,\n",
            "        -1.9888,  2.0508,  2.0961, -2.1056, -1.5737,  0.6298,  2.3725, -1.1878,\n",
            "         0.7185, -2.4555, -0.0173, -0.8385, -0.1612,  1.2732,  0.9796,  0.0149,\n",
            "        -1.7278, -1.8166,  0.2236, -1.1712,  0.3728, -0.8268,  0.3960,  0.8143],\n",
            "       grad_fn=<SqueezeBackward1>)\n",
            "labels:  tensor([0, 1, 1, 0, 1, 0, 0, 0, 0, 0, 1, 0, 1, 0, 0, 1, 1, 0, 0, 1, 1, 0, 1, 0,\n",
            "        1, 1, 0, 1, 0, 0, 0, 0, 0, 1, 1, 0, 0, 1, 1, 1, 0, 1, 1, 0, 0, 1, 1, 1,\n",
            "        1, 0, 0, 0, 0, 0, 1, 0, 0, 0, 1, 0, 1, 0, 1, 0])\n",
            "outputs:  tensor([ 0.9434, -0.6972, -0.1590, -1.2061,  1.4737,  2.3654, -3.5129, -0.7818,\n",
            "         0.2831,  1.8654, -0.2686,  1.0649,  1.0488, -1.6641,  1.0326,  1.2500,\n",
            "         3.1243, -2.8701,  0.3544, -0.8519, -2.5760,  0.7364,  1.0285, -1.5048,\n",
            "         0.1799, -0.9697,  0.6858,  0.1617, -2.4572,  1.4639, -0.9312, -0.3685,\n",
            "        -0.5015,  0.5016,  2.1552,  0.2030, -2.3785, -0.3291, -0.8158, -0.2043,\n",
            "        -0.4861,  0.3451,  2.4145, -0.0043, -0.3018,  0.4844, -0.7163, -0.9601,\n",
            "        -2.2206, -0.7584,  0.7398,  1.3844,  0.6199, -0.2595, -1.2721, -0.3900,\n",
            "         0.2142,  0.5029, -0.1684, -1.4032, -0.9773, -0.9845, -2.4370, -0.3921],\n",
            "       grad_fn=<SqueezeBackward1>)\n",
            "labels:  tensor([1, 1, 1, 0, 1, 1, 0, 1, 1, 1, 0, 1, 0, 1, 0, 1, 1, 0, 0, 1, 0, 1, 1, 0,\n",
            "        0, 0, 1, 0, 0, 1, 1, 0, 0, 0, 1, 0, 0, 0, 1, 1, 1, 1, 1, 1, 0, 0, 0, 0,\n",
            "        0, 0, 1, 1, 0, 1, 0, 0, 1, 1, 1, 0, 1, 1, 1, 0])\n",
            "outputs:  tensor([ 0.5373, -1.8690,  0.8542, -0.0401, -0.4804,  0.4058, -1.7773,  1.4526,\n",
            "        -0.7195, -0.5433, -0.5499,  1.5400,  0.2756, -1.0860, -1.5827, -1.2079,\n",
            "         0.1761, -1.5279, -0.7784,  0.3795, -1.7216,  2.7446, -0.7289,  2.1622,\n",
            "         0.1775,  2.5235,  0.7756, -1.5354,  0.0906, -1.0141,  1.8646, -0.3323,\n",
            "         0.6595, -0.6217,  1.2778, -1.8621,  0.3330,  2.2860,  0.5501,  0.8072,\n",
            "        -1.2526,  1.2323, -0.2193, -0.4782, -1.0653, -2.1195,  0.3439,  0.5241,\n",
            "         1.1162,  0.7435, -0.7619,  0.3933, -0.6908, -0.9477,  2.1126,  0.1739,\n",
            "         0.5800, -0.7068, -1.4697, -0.9632,  0.0776,  0.4190, -1.4714,  0.0682],\n",
            "       grad_fn=<SqueezeBackward1>)\n",
            "labels:  tensor([0, 0, 1, 1, 0, 0, 0, 1, 0, 0, 0, 0, 0, 1, 0, 1, 1, 0, 0, 0, 0, 1, 1, 1,\n",
            "        0, 1, 0, 0, 0, 1, 1, 0, 1, 1, 1, 0, 1, 1, 1, 1, 0, 1, 0, 0, 0, 0, 1, 1,\n",
            "        1, 1, 0, 0, 0, 0, 1, 1, 1, 1, 0, 0, 1, 0, 0, 0])\n",
            "outputs:  tensor([ 1.2162e+00,  1.6625e+00,  3.2982e+00, -6.8773e-01, -4.0357e-01,\n",
            "         1.1337e+00, -7.0849e-01,  2.5192e-01, -7.7469e-01,  3.7558e-01,\n",
            "        -9.8486e-01,  3.1988e+00,  5.4000e-01,  1.2913e+00, -6.7580e-01,\n",
            "         4.8488e-01, -1.2793e+00,  2.0917e+00,  1.2970e+00, -2.5796e-01,\n",
            "        -4.9112e-01,  4.5919e-01, -3.0989e-01, -4.3887e-01,  4.7448e-01,\n",
            "         4.4607e-01,  4.1057e-01, -1.0369e+00, -1.1556e+00,  1.5721e+00,\n",
            "         3.5349e-01, -8.4601e-02,  1.2594e-01, -6.7971e-01, -5.3423e-01,\n",
            "         2.0586e+00,  8.5661e-02, -3.5829e+00, -2.4917e+00,  1.4391e+00,\n",
            "        -1.6628e+00,  1.2490e+00, -5.2011e-01,  4.8029e-03, -2.0414e+00,\n",
            "        -5.1951e-01, -1.7870e+00, -2.5906e+00, -1.3210e+00,  9.6290e-01,\n",
            "         8.4761e-01, -1.5327e+00,  1.4337e+00, -1.3430e+00, -1.5161e+00,\n",
            "        -4.5952e-01, -2.7893e-03,  1.8227e+00,  1.2653e-01,  1.1740e+00,\n",
            "        -7.4213e-01,  4.6881e-01,  4.6894e-01, -4.7051e-01],\n",
            "       grad_fn=<SqueezeBackward1>)\n",
            "labels:  tensor([0, 0, 1, 0, 0, 1, 1, 1, 1, 1, 1, 1, 1, 1, 0, 0, 1, 1, 0, 1, 1, 0, 0, 0,\n",
            "        1, 1, 1, 0, 0, 1, 1, 1, 1, 1, 0, 1, 1, 0, 0, 0, 0, 1, 0, 0, 0, 0, 0, 0,\n",
            "        0, 0, 0, 0, 1, 0, 0, 1, 0, 1, 0, 1, 0, 0, 0, 0])\n",
            "outputs:  tensor([ 2.1972, -0.5826, -2.9394, -0.8398,  0.0556, -0.5590,  2.9715, -0.0545,\n",
            "        -0.4375, -0.9023,  1.6837, -1.2463, -0.7236, -1.3711,  2.9567, -1.2447,\n",
            "         2.0226, -0.5520, -1.3770,  0.5621,  0.0738,  0.2932,  1.1900, -0.7086,\n",
            "         0.5476,  1.3348, -2.0703, -0.2424, -0.1819,  3.7953, -0.0267, -1.0519,\n",
            "        -0.2820,  3.3901,  1.1848, -0.9238, -0.1986,  1.0854,  1.7370,  0.7168,\n",
            "        -1.6559, -0.7477,  2.0191, -1.2182,  0.6910,  0.4792, -0.4849,  0.4157,\n",
            "         0.3085,  0.2370, -0.5485,  0.1265,  1.8253, -0.4610, -0.1275,  0.7490,\n",
            "        -0.4288, -0.3126, -0.6944,  1.6293, -2.9529,  2.2730, -0.0114, -2.9254],\n",
            "       grad_fn=<SqueezeBackward1>)\n",
            "labels:  tensor([1, 1, 0, 1, 1, 0, 1, 0, 0, 0, 1, 0, 0, 1, 1, 0, 1, 1, 0, 1, 0, 1, 1, 0,\n",
            "        1, 1, 0, 0, 1, 1, 1, 0, 1, 1, 0, 0, 1, 1, 1, 1, 0, 0, 1, 0, 1, 1, 1, 1,\n",
            "        1, 0, 0, 1, 1, 0, 0, 1, 1, 1, 1, 0, 0, 1, 1, 0])\n",
            "outputs:  tensor([-0.6953,  0.4002, -1.7241,  0.8622, -2.2290, -0.3239, -0.2111, -1.6583,\n",
            "        -0.8074, -0.5184,  0.6520,  0.9650, -1.9533, -0.6621, -0.2620, -1.0098,\n",
            "         0.3195, -0.8639,  0.1194, -1.2354,  1.7251,  1.5040, -0.7918,  0.7866,\n",
            "        -1.1120, -0.2812, -1.1134, -2.5490,  0.9724,  1.5909,  0.8158,  0.2901,\n",
            "         0.4569, -0.8801,  0.5077,  0.2722, -0.0359,  0.9982, -0.4646, -2.0307,\n",
            "         1.5653, -1.6647, -1.7979, -0.6159, -1.9800, -2.2515, -2.0354, -1.0367,\n",
            "         0.0975,  0.6709,  0.4073,  1.2752,  1.9964, -0.0057, -0.5829, -0.0516,\n",
            "        -1.1360, -0.2713, -2.0948,  1.3947,  0.9928,  0.1733, -1.3989, -0.1148],\n",
            "       grad_fn=<SqueezeBackward1>)\n",
            "labels:  tensor([0, 0, 0, 1, 0, 0, 1, 0, 0, 0, 1, 1, 0, 1, 0, 1, 1, 1, 1, 0, 0, 1, 0, 1,\n",
            "        0, 0, 1, 0, 1, 0, 1, 0, 1, 0, 0, 1, 1, 0, 0, 1, 1, 0, 0, 1, 0, 1, 0, 0,\n",
            "        0, 1, 1, 1, 1, 0, 0, 0, 0, 1, 0, 1, 0, 1, 0, 0])\n",
            "outputs:  tensor([-0.5775, -0.3894, -0.6370,  1.6300,  0.9407, -0.1425,  2.7805,  2.5954,\n",
            "        -1.1334,  0.7586,  0.3419, -2.7594, -1.4562, -1.5532,  1.3754,  1.6229,\n",
            "         0.5053, -0.8315, -0.6478, -0.5492,  1.2019, -0.0613, -0.0889,  0.1681,\n",
            "         0.0805, -2.9652,  0.7684, -1.5457, -1.2664, -0.7321, -0.7123, -0.7764,\n",
            "        -0.8426,  0.0879, -0.3226,  2.1198, -1.1079, -0.5805,  0.9814, -2.6020,\n",
            "         1.1490, -0.9201,  1.0721, -0.6941,  0.5357,  0.2276,  0.3717,  0.2281,\n",
            "        -1.4926, -0.5502,  0.1399,  0.3027,  1.1526, -0.0877, -1.0075, -1.8638,\n",
            "        -0.9586,  0.7353, -1.7339,  0.7177, -1.2151, -0.0864,  0.0820,  1.0065],\n",
            "       grad_fn=<SqueezeBackward1>)\n",
            "labels:  tensor([0, 1, 0, 1, 0, 0, 1, 1, 0, 1, 1, 0, 0, 0, 1, 1, 0, 0, 1, 1, 0, 1, 1, 0,\n",
            "        0, 0, 1, 0, 0, 0, 0, 0, 0, 0, 0, 0, 0, 1, 1, 0, 0, 0, 1, 1, 1, 1, 1, 1,\n",
            "        0, 1, 0, 0, 1, 0, 1, 0, 1, 0, 1, 1, 0, 0, 0, 0])\n",
            "outputs:  tensor([-1.3094, -0.5019,  0.7819, -0.5005,  0.5548,  0.1577, -0.7040, -0.1196,\n",
            "        -0.1386, -0.8427, -0.9496, -0.6932, -0.5616,  0.3081,  0.1023,  2.0081,\n",
            "        -1.2110,  0.9565, -0.7059, -2.1539, -0.5569,  1.4624, -0.5997, -1.0100,\n",
            "        -1.5181, -1.0461,  1.9410,  0.4010, -0.6523,  1.0610,  1.3032,  1.5834,\n",
            "         0.5918, -1.7358,  0.1791,  0.6711, -0.4815,  1.7389, -0.8913,  0.2866,\n",
            "        -0.8130,  0.2803, -0.0779,  0.4199,  0.4339,  0.7143, -2.1383,  0.7617,\n",
            "        -1.9118, -0.8661, -1.1878, -0.6225, -0.8664, -1.5749, -1.9526, -0.6241,\n",
            "        -0.9049,  0.5843, -0.5098, -0.1321, -1.5706, -2.4439,  0.3239, -0.3580],\n",
            "       grad_fn=<SqueezeBackward1>)\n",
            "labels:  tensor([1, 1, 1, 1, 1, 0, 0, 0, 1, 1, 0, 1, 0, 1, 1, 1, 1, 1, 0, 0, 1, 1, 1, 1,\n",
            "        0, 0, 1, 0, 1, 1, 1, 1, 1, 0, 1, 1, 1, 0, 0, 1, 0, 1, 1, 0, 1, 1, 0, 1,\n",
            "        0, 1, 0, 1, 0, 0, 0, 0, 0, 1, 1, 1, 0, 0, 0, 0])\n",
            "outputs:  tensor([ 0.6503, -0.7638,  0.7800,  0.9044,  0.0759, -0.5175, -0.2721,  1.3411,\n",
            "        -0.2495,  2.0908, -2.6067, -2.0102,  0.4880, -1.7641,  2.6574,  0.3586,\n",
            "        -0.6065,  0.2298, -0.5203,  1.0036, -1.5518, -0.1384, -1.0543, -1.7217,\n",
            "         2.9013, -1.1163, -0.5222, -1.0762,  0.2480, -0.3535,  0.5740, -0.9640,\n",
            "         1.8530,  0.2917,  1.8233,  2.5154,  1.6427,  0.5674, -0.4108, -1.1606,\n",
            "        -0.9441,  1.0265, -0.2350, -1.3010, -2.4521,  0.6468,  0.1207, -0.1073,\n",
            "        -0.0104,  2.5042,  1.2354,  0.7748, -1.1827,  0.7475,  1.9606, -0.7626,\n",
            "         0.2993, -1.2101, -0.7818, -0.5305,  0.6017, -0.3811, -0.8157,  0.9813],\n",
            "       grad_fn=<SqueezeBackward1>)\n",
            "labels:  tensor([1, 1, 1, 1, 0, 1, 1, 1, 1, 1, 0, 0, 1, 0, 1, 0, 1, 1, 0, 1, 0, 1, 1, 0,\n",
            "        1, 0, 0, 1, 1, 1, 0, 0, 1, 1, 1, 1, 0, 0, 0, 0, 0, 1, 0, 0, 0, 1, 1, 1,\n",
            "        1, 1, 1, 1, 0, 1, 1, 0, 1, 0, 1, 1, 1, 1, 0, 1])\n",
            "outputs:  tensor([ 0.6789,  0.8706, -1.7028, -1.2557, -0.9314, -0.5075, -2.1062, -0.8247,\n",
            "         0.3579,  1.0354, -2.4117,  0.4816, -0.8748,  0.4153, -0.4398,  2.1137,\n",
            "         1.4692, -0.5765,  1.5153, -1.4854,  0.1313, -0.5478, -0.1114, -1.0833,\n",
            "         1.2071, -0.6030,  3.4212, -0.2834, -0.5449, -0.7496, -0.6279,  0.2293,\n",
            "        -1.7883, -0.4837, -0.3019,  0.4259, -1.2816,  1.0156, -0.6566, -2.1236,\n",
            "        -1.3572, -0.5154, -0.6693,  1.6059, -0.6462, -1.1260,  0.0124,  0.8060,\n",
            "        -0.9002, -0.4315, -0.9427, -0.8986, -1.7438, -0.1973, -1.0133, -0.9721,\n",
            "        -0.6412,  0.7860,  0.9380, -0.8588, -0.6335, -0.2879,  0.2528, -0.2973],\n",
            "       grad_fn=<SqueezeBackward1>)\n",
            "labels:  tensor([1, 1, 0, 0, 1, 0, 0, 0, 0, 1, 0, 0, 1, 0, 0, 1, 1, 1, 1, 0, 1, 0, 0, 1,\n",
            "        1, 0, 1, 0, 0, 1, 0, 1, 0, 0, 1, 1, 1, 1, 0, 0, 0, 1, 0, 0, 0, 0, 1, 1,\n",
            "        0, 0, 0, 0, 0, 1, 0, 0, 0, 0, 1, 0, 0, 0, 0, 0])\n",
            "outputs:  tensor([ 0.7297, -1.5397,  1.2728, -0.9372, -1.5783,  1.1676, -0.0864,  0.6900,\n",
            "        -0.8721, -0.0279,  0.7485,  0.1362,  0.1832, -0.2595, -0.1591, -0.7121,\n",
            "         0.8935, -0.5041, -0.0114,  3.0382, -0.7668,  2.1245,  0.5610, -0.1100,\n",
            "         0.8972,  0.7283, -1.1514, -3.6120,  0.7195, -1.1831, -1.1502, -1.0087,\n",
            "         0.8871,  0.5050,  0.0128,  0.6795, -1.0807,  0.3182, -1.4347,  1.0293,\n",
            "        -2.0991,  1.3063,  0.1469, -1.5011,  1.0769, -1.2071, -0.0289, -0.2889,\n",
            "        -0.7699, -1.4621,  1.0633, -1.9705, -1.4129, -1.4134, -0.1462,  1.0191,\n",
            "         1.4747,  1.0888, -2.4933, -0.5027,  0.6811,  0.2193,  1.5508,  0.1076],\n",
            "       grad_fn=<SqueezeBackward1>)\n",
            "labels:  tensor([1, 0, 0, 0, 0, 1, 0, 1, 0, 1, 0, 1, 1, 0, 0, 0, 1, 0, 0, 1, 0, 1, 1, 1,\n",
            "        1, 1, 0, 0, 1, 0, 1, 1, 1, 1, 0, 1, 0, 1, 0, 1, 0, 1, 1, 0, 1, 0, 0, 0,\n",
            "        0, 0, 1, 0, 1, 0, 0, 1, 0, 0, 0, 0, 1, 0, 0, 1])\n",
            "outputs:  tensor([ 0.3505,  0.6136, -1.9569,  0.7250,  2.8430,  1.0981,  3.1395,  0.8664,\n",
            "         0.4446,  1.3838, -0.6049,  0.0753,  0.5058,  0.3064,  0.4431,  0.9942,\n",
            "        -1.7341, -0.7705,  0.6593,  3.0839,  0.5869,  0.6674,  0.5613,  0.9976,\n",
            "        -0.5638, -0.6535, -2.4823,  1.2338,  1.3202,  0.9808, -0.6357,  0.2701,\n",
            "         0.1338, -0.5906,  1.9428, -1.3019,  0.1170, -0.3087, -1.9337, -1.1450,\n",
            "         1.0442,  0.2207, -1.1175, -1.2883, -1.2765, -0.1660, -0.3151,  3.7494,\n",
            "         2.0970,  1.6000,  0.1171,  0.7079,  1.0374,  0.1359,  1.0623,  1.1557,\n",
            "        -0.5273,  0.6810,  1.6617, -0.0076,  1.0724, -0.8471,  0.4201,  0.3951],\n",
            "       grad_fn=<SqueezeBackward1>)\n",
            "labels:  tensor([1, 1, 1, 0, 1, 1, 1, 0, 0, 0, 0, 0, 0, 1, 1, 0, 0, 1, 1, 1, 0, 0, 0, 1,\n",
            "        0, 0, 0, 1, 1, 1, 0, 0, 1, 0, 1, 1, 0, 0, 0, 0, 1, 1, 0, 0, 1, 0, 0, 1,\n",
            "        1, 1, 1, 0, 1, 1, 0, 0, 1, 0, 1, 1, 0, 0, 1, 1])\n",
            "outputs:  tensor([ 0.2177, -0.1919,  0.1316, -1.6847,  0.9958, -1.1176, -1.0063,  1.3614,\n",
            "        -0.1733,  1.6218,  0.0609, -0.6451, -1.2594, -0.3387, -0.8220, -0.7007,\n",
            "         0.5638,  1.9887, -0.7218,  1.6280,  0.5186,  0.6256,  2.2237,  2.2025,\n",
            "         0.9285, -0.6899,  1.1437,  0.2480, -0.0410,  0.7982,  0.7532, -0.9111,\n",
            "         1.4026,  0.7617,  1.0745,  0.1644,  0.9465,  0.7398,  1.0460, -0.4700,\n",
            "        -0.2261, -0.2240,  0.5756, -2.4194,  2.8450, -0.2386, -0.5325, -0.1074,\n",
            "         1.0157,  0.3239,  0.6098,  0.3047,  1.0343,  0.0212,  1.4873,  0.1229,\n",
            "        -0.2378,  1.0570,  1.0632, -1.0284, -1.9768,  3.6981,  0.0697,  1.8967],\n",
            "       grad_fn=<SqueezeBackward1>)\n",
            "labels:  tensor([0, 1, 1, 0, 1, 0, 0, 1, 0, 1, 0, 0, 0, 1, 0, 1, 0, 1, 0, 1, 1, 1, 1, 1,\n",
            "        1, 0, 0, 0, 0, 1, 0, 0, 1, 0, 1, 0, 1, 1, 1, 1, 1, 0, 1, 0, 1, 0, 0, 1,\n",
            "        1, 0, 0, 0, 1, 0, 1, 1, 0, 0, 0, 0, 0, 1, 0, 1])\n",
            "outputs:  tensor([-2.3083e+00,  3.5886e-02, -1.5816e+00, -1.1031e+00,  8.4067e-02,\n",
            "        -1.0156e+00, -2.2290e+00, -1.1367e+00, -9.4537e-01, -1.3831e+00,\n",
            "        -2.5422e-03,  1.0182e+00, -1.7925e-02, -5.0743e-01,  3.8052e-02,\n",
            "        -1.8281e+00,  1.1390e+00,  1.1671e-01, -7.4775e-01,  7.9559e-01,\n",
            "        -9.5131e-01,  4.5442e-01,  2.2730e+00, -2.1896e+00,  7.3678e-01,\n",
            "        -7.0066e-01, -2.2844e+00,  7.8743e-01,  1.0319e+00, -1.1274e+00,\n",
            "         2.9134e+00,  2.3348e-01,  1.3559e-01,  1.5206e+00,  1.2649e-01,\n",
            "        -5.2384e-01, -8.7759e-01, -3.1250e-01, -2.6183e-01, -5.5813e-01,\n",
            "         1.5678e+00,  3.3887e-01,  5.3598e-01,  9.3557e-01, -8.8273e-01,\n",
            "        -1.1985e+00, -1.6779e+00,  1.5091e+00,  1.2654e+00,  1.2064e+00,\n",
            "        -1.0372e+00, -1.6158e+00,  2.7101e-01,  1.0691e-01,  3.2148e-01,\n",
            "         2.8608e-01,  3.8698e+00,  3.7382e-01,  1.2340e+00, -8.3601e-01,\n",
            "         5.5309e-01, -1.2008e+00,  6.5861e-01,  3.3055e-01],\n",
            "       grad_fn=<SqueezeBackward1>)\n",
            "labels:  tensor([0, 1, 0, 0, 1, 0, 1, 1, 0, 0, 1, 1, 0, 1, 1, 0, 0, 1, 0, 1, 0, 0, 1, 0,\n",
            "        0, 0, 0, 0, 1, 0, 1, 0, 0, 1, 1, 0, 1, 1, 0, 1, 0, 0, 0, 1, 1, 0, 0, 1,\n",
            "        0, 1, 0, 0, 0, 1, 0, 1, 1, 1, 1, 0, 0, 0, 1, 0])\n",
            "outputs:  tensor([ 1.3095, -0.2891, -0.2573, -0.8990,  1.1459, -1.4351,  0.6875, -0.4750,\n",
            "         0.5409, -0.2768,  0.0043, -0.4775, -1.4665, -0.5131, -0.3847, -1.9481,\n",
            "        -0.6595, -1.2082, -0.1899, -0.0097, -1.2137, -0.5637,  0.1829, -0.4966,\n",
            "         1.2426, -1.1109, -0.9294,  2.6657,  1.3415, -1.4082, -1.5504,  1.7156,\n",
            "        -0.6843, -0.1254,  2.0475,  0.4883,  0.7361,  1.1293,  1.3853, -0.2297,\n",
            "        -0.5916, -0.7104, -0.1252,  1.1378, -0.1599, -0.4645, -0.9899, -0.6092,\n",
            "        -1.9030, -0.3252,  0.1632,  2.8986, -0.3591,  0.4804, -0.3334, -0.8849,\n",
            "        -1.4386, -4.0466, -1.2946, -0.2448,  1.1446,  0.6407,  1.7814,  0.3652],\n",
            "       grad_fn=<SqueezeBackward1>)\n",
            "labels:  tensor([1, 0, 1, 0, 1, 0, 0, 1, 0, 1, 1, 0, 1, 1, 1, 0, 0, 0, 0, 1, 0, 1, 1, 0,\n",
            "        1, 0, 0, 1, 1, 0, 0, 1, 0, 0, 1, 0, 1, 1, 1, 1, 0, 0, 1, 1, 0, 1, 0, 0,\n",
            "        1, 1, 1, 0, 0, 1, 0, 0, 0, 0, 0, 0, 1, 0, 1, 1])\n",
            "outputs:  tensor([-0.4302, -1.9718, -0.0281, -0.8464, -1.2232,  0.8716,  3.0677,  1.6374,\n",
            "         0.3692, -1.5572,  0.1051, -1.0052, -0.8594, -1.1052, -0.7992, -0.6505,\n",
            "         0.1253, -1.6726,  1.6273,  0.5074,  0.0820, -0.4738, -0.2870,  0.4052,\n",
            "         0.1262, -0.4316,  1.2077, -0.4622, -2.7033,  0.5037,  1.1747, -0.7128,\n",
            "        -0.9292, -1.4862, -2.2500,  1.0074,  2.4080, -0.8146,  2.4700,  0.0135,\n",
            "         0.6837, -0.0590,  0.5990, -0.2189, -1.4954, -0.4854,  0.3491,  0.5757,\n",
            "        -0.9505, -1.9964,  0.2781, -0.1706,  0.1742, -0.8015, -1.3160,  0.4861,\n",
            "         1.3020,  0.1671, -0.1769, -0.9972, -1.4430,  0.7809, -0.4064, -0.7820],\n",
            "       grad_fn=<SqueezeBackward1>)\n",
            "labels:  tensor([1, 1, 1, 0, 0, 0, 1, 1, 1, 0, 0, 1, 0, 0, 1, 0, 1, 0, 1, 1, 1, 0, 0, 1,\n",
            "        0, 0, 1, 1, 1, 1, 0, 1, 0, 1, 0, 1, 1, 0, 1, 0, 1, 0, 1, 1, 0, 0, 1, 1,\n",
            "        0, 0, 0, 0, 1, 0, 0, 1, 1, 1, 1, 0, 1, 0, 1, 0])\n",
            "outputs:  tensor([ 0.5783,  0.2867, -0.6740, -1.0369,  0.2352,  0.0561, -1.0401, -0.1487,\n",
            "        -0.4921, -0.0317,  0.3959,  0.5881, -0.6874,  0.0920, -0.2585,  0.2490,\n",
            "         0.4986,  2.7975,  1.4274, -0.5525,  1.2789, -0.7047,  1.8924, -0.0126,\n",
            "         0.0162, -0.0869, -0.0975, -1.2772, -0.8280, -1.0064, -0.5988, -0.6998,\n",
            "        -1.7195, -1.2351,  0.0502, -1.6727, -0.4872,  0.8270,  1.5938, -0.6774,\n",
            "        -0.2067,  0.3503,  0.8659, -0.3705,  0.7253,  0.3702, -0.2308,  1.3007,\n",
            "         0.4290, -0.9196,  0.9844, -1.2985,  0.2125,  0.4432, -1.5523, -1.0816,\n",
            "        -0.7966, -1.4607,  0.0266, -0.4248,  0.2133,  0.1621, -1.0311,  0.7371],\n",
            "       grad_fn=<SqueezeBackward1>)\n",
            "labels:  tensor([1, 1, 0, 0, 1, 1, 0, 1, 0, 0, 0, 1, 0, 0, 1, 1, 1, 0, 1, 0, 0, 1, 1, 0,\n",
            "        1, 0, 1, 0, 1, 0, 0, 0, 0, 0, 1, 1, 1, 1, 1, 0, 0, 0, 1, 0, 1, 0, 1, 1,\n",
            "        0, 0, 1, 0, 0, 1, 0, 0, 0, 0, 0, 1, 1, 0, 0, 1])\n",
            "outputs:  tensor([ 0.5033, -0.0682, -0.7786,  1.5881,  1.7863, -1.2302,  0.3197,  0.1672,\n",
            "        -1.8784,  0.6741, -0.4397, -0.8594, -3.0706,  1.0079,  1.2776, -1.2858,\n",
            "         0.4871, -1.0566, -0.3510,  1.5359,  0.8527, -1.1381, -1.3127,  1.1789,\n",
            "         0.6263,  1.8865,  0.8679,  0.8750, -0.8111,  0.6727, -0.4839,  2.7050,\n",
            "        -3.2967,  0.6368,  0.8013, -0.8530,  0.8415, -2.1606,  0.7194,  0.4460,\n",
            "         1.6294,  0.4208,  0.6553,  0.7007,  0.8674,  1.1381,  0.6612, -0.8155,\n",
            "         1.9766,  0.7018, -0.0765,  0.7030,  0.0638,  1.4956,  0.5370,  2.2850,\n",
            "        -1.2873,  1.7187, -0.8267, -0.0048,  0.4265,  1.6749, -1.6201,  0.5332],\n",
            "       grad_fn=<SqueezeBackward1>)\n",
            "labels:  tensor([0, 1, 0, 1, 1, 1, 0, 0, 0, 1, 0, 0, 0, 1, 0, 0, 1, 0, 0, 1, 1, 0, 1, 1,\n",
            "        0, 1, 1, 1, 0, 1, 0, 1, 0, 1, 1, 0, 1, 0, 1, 1, 1, 1, 1, 0, 0, 1, 1, 0,\n",
            "        1, 1, 0, 1, 0, 0, 0, 1, 0, 1, 0, 0, 0, 1, 0, 0])\n",
            "outputs:  tensor([ 0.1664,  0.4831, -0.6275,  0.2449,  0.9456, -0.6401,  0.1232, -0.3984,\n",
            "        -0.7313,  0.6132,  1.0711,  0.5470, -0.4382, -0.0539, -0.0260,  0.2546,\n",
            "        -0.0741, -2.2393, -0.3820, -0.4719,  0.2026, -0.4497,  0.3803,  0.8732,\n",
            "        -0.0927,  1.5620, -0.5425,  0.7705,  0.2008,  0.6001, -1.0881, -0.0961,\n",
            "         0.0398, -0.1429, -0.6469,  0.7282, -0.4016,  0.5451, -1.7042,  0.8727,\n",
            "        -0.5893,  0.9481, -0.6715,  1.8807, -1.2529, -1.5222, -0.0293, -1.2873,\n",
            "        -1.2231,  0.4350,  4.1887, -0.6303, -0.1139, -0.0931, -0.1391,  0.3249,\n",
            "        -1.3740, -0.4016, -2.0143, -0.8277,  0.2225, -1.8430, -1.2412,  0.2696],\n",
            "       grad_fn=<SqueezeBackward1>)\n",
            "labels:  tensor([1, 0, 0, 1, 1, 0, 1, 1, 0, 1, 0, 1, 1, 0, 1, 0, 1, 0, 0, 0, 1, 0, 1, 1,\n",
            "        1, 1, 0, 1, 0, 1, 0, 1, 1, 0, 0, 1, 1, 1, 0, 0, 1, 1, 1, 1, 0, 0, 1, 1,\n",
            "        1, 1, 1, 1, 0, 1, 1, 1, 0, 1, 0, 0, 0, 0, 0, 1])\n",
            "outputs:  tensor([ 1.8588e-01, -1.1826e+00,  6.7765e-01,  1.9398e+00,  8.1366e-01,\n",
            "        -1.2447e-01,  9.4937e-02, -1.6418e+00, -4.3178e-01,  9.6656e-01,\n",
            "         2.4651e+00,  1.7861e+00, -1.6721e-01, -3.7189e-01,  1.8808e+00,\n",
            "        -6.9686e-01, -2.3548e+00,  7.3962e-02, -1.4796e+00,  2.1598e-01,\n",
            "        -2.5940e-03, -2.2367e+00, -2.6310e+00, -1.2619e+00, -2.6080e-01,\n",
            "        -1.2329e+00, -6.6446e-01, -1.4015e-01, -2.9304e+00, -3.7479e-01,\n",
            "         1.2053e+00,  8.9821e-01, -7.5599e-01, -1.1518e+00,  6.1048e-01,\n",
            "        -4.3681e-01,  1.4745e-01,  2.3178e+00, -1.4090e+00, -9.0980e-01,\n",
            "        -1.0294e+00, -2.1776e-01, -2.4167e+00, -1.2757e-02, -1.3859e+00,\n",
            "        -2.4340e+00,  6.4603e-02, -1.2164e-01, -6.1720e-01,  1.2159e+00,\n",
            "        -1.8296e+00,  3.8574e-01,  8.1254e-01,  4.6055e-01, -8.2148e-01,\n",
            "         1.0467e-01, -6.5724e-01, -1.4828e+00,  1.1441e-01, -1.3605e+00,\n",
            "        -1.1796e-01, -6.3588e-01,  8.9661e-02, -8.9802e-01],\n",
            "       grad_fn=<SqueezeBackward1>)\n",
            "labels:  tensor([1, 1, 0, 1, 1, 1, 1, 0, 0, 1, 1, 1, 0, 0, 0, 1, 0, 0, 0, 1, 0, 0, 0, 0,\n",
            "        0, 0, 1, 1, 0, 0, 1, 1, 0, 0, 0, 0, 0, 1, 0, 0, 0, 0, 0, 0, 0, 0, 1, 1,\n",
            "        1, 0, 0, 0, 1, 1, 0, 1, 1, 0, 0, 0, 0, 1, 1, 0])\n",
            "outputs:  tensor([-0.1214, -0.8882,  0.7754,  0.2580, -0.4265, -1.6294,  0.4764, -0.2221,\n",
            "         0.6488,  0.0708, -0.5512,  0.1431, -0.4118, -1.7716, -2.4490,  1.7401,\n",
            "        -0.2737,  1.6358,  0.4718, -0.8984, -0.4078,  2.1302,  0.6583,  2.0975,\n",
            "         0.3467, -0.1877, -0.2929,  0.4634, -1.7814, -2.2159, -0.5309, -1.3738,\n",
            "        -0.8323,  1.9235, -0.8381,  0.3529,  0.4015,  0.8389, -0.4013, -1.4607,\n",
            "        -1.8618, -0.4430, -1.7193, -0.4262, -0.5673, -0.4505, -1.8579,  2.1696,\n",
            "        -0.6214,  0.1506,  0.0469, -0.2555,  0.4045,  1.1605, -0.7232,  1.5901,\n",
            "        -1.0316, -0.5905, -0.7897, -1.2572, -0.8225,  0.9145,  0.0528, -0.4818],\n",
            "       grad_fn=<SqueezeBackward1>)\n",
            "labels:  tensor([0, 1, 0, 0, 0, 0, 0, 0, 1, 1, 0, 1, 0, 0, 0, 1, 0, 1, 1, 0, 0, 1, 0, 1,\n",
            "        0, 0, 0, 1, 0, 0, 0, 1, 1, 1, 0, 0, 0, 1, 1, 0, 0, 1, 0, 1, 0, 0, 0, 1,\n",
            "        1, 0, 1, 1, 1, 1, 0, 0, 0, 1, 0, 0, 0, 1, 0, 0])\n",
            "outputs:  tensor([-0.7194, -0.8094, -1.1126,  0.7009,  0.9552,  1.9171, -2.0108,  1.4377,\n",
            "        -0.5214,  0.3360, -0.5534,  0.2993, -0.0520, -0.4435, -1.4849, -1.8630,\n",
            "         0.3441,  1.7729,  0.5948,  0.4126,  0.6181,  1.8004,  0.8162, -0.1293,\n",
            "        -2.0864,  0.3780, -1.4820,  0.3289, -0.6843,  0.7737,  1.8148,  0.5999,\n",
            "         0.1844, -1.2284,  0.7988, -0.9866,  1.5740, -0.8418,  1.3508,  3.2189,\n",
            "        -1.4496, -0.7145,  0.3441, -1.2481, -0.8363,  1.1370,  0.9176,  0.2858,\n",
            "         0.1882,  2.1144, -1.5840,  0.8677, -1.7457, -1.4605,  1.1141, -0.1346,\n",
            "         0.3250,  1.8973, -0.7667, -1.3431,  3.8652, -3.1073,  1.7873, -1.0313],\n",
            "       grad_fn=<SqueezeBackward1>)\n",
            "labels:  tensor([0, 0, 0, 0, 1, 1, 0, 1, 0, 0, 0, 1, 1, 0, 0, 0, 1, 1, 1, 1, 1, 1, 1, 1,\n",
            "        0, 1, 0, 1, 1, 1, 1, 1, 1, 0, 1, 1, 0, 0, 1, 1, 1, 0, 0, 0, 0, 1, 0, 1,\n",
            "        0, 1, 1, 1, 1, 0, 1, 1, 0, 1, 0, 0, 1, 0, 1, 0])\n",
            "outputs:  tensor([-0.8411, -0.2520,  0.6301, -1.2163, -0.1038,  0.7665, -1.1628,  0.8745,\n",
            "         2.8453,  0.5432, -2.1996, -1.1952, -0.8828,  1.3629,  1.1645, -1.7966,\n",
            "        -1.0269,  0.9466, -1.5702, -0.2691,  0.9958, -0.1082, -1.2290,  1.6551,\n",
            "         0.4731,  0.6450, -0.2761, -1.3267, -2.4840, -0.6707, -0.8780, -0.5447,\n",
            "         0.1156, -0.9085,  0.7849, -0.2744, -0.3834,  1.5110, -0.5797,  2.0058,\n",
            "         0.9309,  1.2634, -1.3760, -0.4324,  0.5969, -1.6350, -1.0325, -1.2258,\n",
            "         1.2546,  0.3899, -0.0309, -0.1605,  2.0514, -0.4526, -1.9513, -0.4129,\n",
            "        -1.8128, -0.1430,  0.4249,  0.1161, -0.5660, -1.8526,  0.2000,  0.8959],\n",
            "       grad_fn=<SqueezeBackward1>)\n",
            "labels:  tensor([0, 0, 1, 0, 0, 1, 0, 1, 1, 0, 0, 0, 0, 1, 0, 0, 1, 1, 0, 0, 1, 1, 0, 1,\n",
            "        0, 1, 0, 0, 1, 0, 0, 0, 1, 0, 1, 0, 1, 1, 0, 1, 1, 1, 0, 1, 0, 0, 0, 0,\n",
            "        1, 0, 0, 0, 1, 0, 0, 0, 0, 0, 0, 1, 1, 0, 1, 1])\n",
            "outputs:  tensor([-0.3152,  2.2328,  0.1493, -2.1542, -0.6162,  0.0241,  1.7868, -1.2234,\n",
            "        -1.3861,  0.0289, -0.7060, -0.7532, -0.8306,  1.2393, -0.4121, -0.2802,\n",
            "         0.5512,  2.0188,  0.6890,  0.4683,  0.5758,  1.7507, -0.6052, -0.9823,\n",
            "        -0.3254, -0.9251,  0.5841, -0.3097,  1.1370,  0.2743,  0.5570, -1.7404,\n",
            "        -0.9111, -0.7107, -0.3574, -1.0703, -1.6325, -1.1444, -1.1264, -0.6715,\n",
            "        -0.6177, -0.1927,  0.4088, -1.2962, -0.1529,  0.6970,  1.9594, -1.9230,\n",
            "        -0.3131,  0.6050,  0.2911, -1.8919, -0.0533, -1.4837,  0.3737, -2.3789,\n",
            "        -2.1825, -0.2433, -0.2620,  0.2408,  0.0666, -0.0239,  1.9413, -0.9051],\n",
            "       grad_fn=<SqueezeBackward1>)\n",
            "labels:  tensor([0, 1, 1, 0, 1, 1, 1, 1, 0, 1, 0, 0, 0, 1, 0, 1, 1, 1, 1, 1, 1, 1, 0, 1,\n",
            "        1, 0, 1, 1, 1, 1, 1, 0, 0, 1, 0, 0, 0, 0, 1, 1, 1, 0, 0, 0, 1, 1, 1, 0,\n",
            "        0, 0, 1, 0, 0, 0, 1, 0, 0, 1, 0, 1, 1, 1, 0, 0])\n",
            "outputs:  tensor([ 1.1400,  2.4767, -0.2429,  0.1930, -0.1485, -0.2928, -0.3811,  0.4661,\n",
            "        -0.7576,  2.0477,  0.2046,  0.4829, -0.7271, -0.1822,  0.0496, -1.3900,\n",
            "        -0.5077, -1.3802, -0.4456, -2.9080,  0.2297,  0.1475,  0.5463,  2.2292,\n",
            "         1.5213, -1.2733,  0.4930,  0.3623, -0.0061, -1.1016,  0.9027,  1.1362,\n",
            "         0.7379,  0.4101,  0.1146, -2.4711,  2.0722, -0.4614, -0.3446, -0.9970,\n",
            "        -0.4221,  0.1271, -0.1279, -1.2977,  0.3412, -0.9801, -0.0525, -1.4762,\n",
            "        -0.2637, -0.6181, -0.0300, -0.1126,  0.6918,  0.4629,  0.5059,  1.4209,\n",
            "         0.9551, -0.3851,  0.7624, -1.1517, -0.7412,  0.4651,  1.2741,  0.9473],\n",
            "       grad_fn=<SqueezeBackward1>)\n",
            "labels:  tensor([1, 1, 1, 1, 1, 1, 1, 0, 1, 1, 1, 0, 0, 1, 1, 0, 0, 0, 1, 0, 1, 0, 0, 1,\n",
            "        1, 0, 1, 0, 0, 0, 1, 0, 1, 1, 1, 1, 1, 0, 1, 1, 0, 1, 1, 0, 0, 0, 0, 0,\n",
            "        0, 0, 0, 0, 0, 0, 1, 1, 1, 0, 0, 1, 1, 1, 1, 0])\n",
            "outputs:  tensor([ 4.8169e-04, -9.0710e-01,  1.7260e+00, -7.3347e-01, -1.3797e+00,\n",
            "         7.7729e-02, -2.0758e-01, -2.1575e+00,  3.6757e-01, -1.1964e-01,\n",
            "        -1.0073e+00,  6.8664e-01, -7.7039e-01, -1.0153e+00,  3.1592e-01,\n",
            "        -1.2316e+00, -1.3175e+00, -9.4705e-01, -4.0289e-01,  4.6506e-01,\n",
            "        -3.7385e+00,  3.4501e-01, -1.4530e+00,  5.6195e-01, -2.1072e+00,\n",
            "        -1.0915e+00,  7.8594e-01, -2.1075e+00, -4.6979e-01, -1.8651e+00,\n",
            "        -1.6327e+00,  8.1942e-01,  1.7569e-01,  4.2995e-01,  6.7112e-01,\n",
            "         1.0257e+00, -2.8819e-01,  1.3814e+00, -4.9524e-01, -4.1515e-01,\n",
            "         1.7161e-01,  1.6913e+00,  1.8003e+00,  2.3200e-01, -7.3265e-01,\n",
            "         4.3855e-01, -6.3814e-01,  7.1385e-02,  8.3335e-01, -5.4735e-01,\n",
            "         7.6182e-02,  5.2915e-01, -1.9959e+00, -1.1001e+00, -3.5963e-01,\n",
            "        -1.4213e+00,  1.1509e+00,  9.1099e-01, -6.1524e-01,  1.8888e-01,\n",
            "        -3.2415e-01,  1.8453e+00,  9.3920e-01,  2.9169e+00],\n",
            "       grad_fn=<SqueezeBackward1>)\n",
            "labels:  tensor([0, 0, 1, 0, 0, 0, 0, 0, 1, 0, 0, 1, 1, 1, 1, 0, 1, 0, 0, 1, 0, 0, 0, 0,\n",
            "        0, 0, 0, 0, 1, 0, 1, 0, 1, 1, 1, 1, 1, 1, 1, 0, 1, 0, 1, 1, 1, 0, 1, 0,\n",
            "        1, 0, 0, 1, 0, 0, 1, 0, 1, 1, 1, 1, 0, 1, 1, 1])\n",
            "outputs:  tensor([-0.3650, -1.2619,  0.6194, -0.0920, -1.0046, -0.4772, -2.0237,  0.2041,\n",
            "         0.7949, -0.2752, -0.0735, -2.0242,  1.6073, -0.8509,  1.1978,  0.2026,\n",
            "        -0.2584, -1.0812, -0.7950, -1.3913,  0.9702, -1.4363,  0.4910,  0.6386,\n",
            "         1.1491, -0.4731,  1.7039,  0.3414,  1.4974, -0.9284,  1.2007, -0.9693,\n",
            "        -0.8412, -0.8134, -0.1642, -0.3750,  0.5796,  1.3285,  0.7747,  2.6704,\n",
            "         1.9966, -0.0248, -0.9172,  0.2638, -1.1538, -1.9073, -1.0360,  0.2855,\n",
            "        -0.9536,  1.0327,  0.9048, -0.3563, -1.3294,  0.7293,  0.1261, -0.3024,\n",
            "        -2.2953,  0.7418,  1.0507,  2.0300, -0.3164,  0.3259,  0.1466, -0.3089],\n",
            "       grad_fn=<SqueezeBackward1>)\n",
            "labels:  tensor([1, 0, 1, 1, 1, 1, 0, 1, 0, 0, 0, 0, 1, 1, 1, 1, 0, 0, 1, 0, 1, 0, 1, 0,\n",
            "        1, 0, 1, 1, 1, 0, 1, 0, 0, 0, 1, 1, 1, 0, 0, 1, 1, 0, 0, 1, 0, 0, 0, 0,\n",
            "        1, 1, 1, 1, 0, 1, 0, 1, 0, 1, 1, 1, 0, 0, 0, 1])\n",
            "outputs:  tensor([-0.3974, -0.2396, -1.5684,  1.2242,  0.4167,  0.1077, -0.0100, -0.4970,\n",
            "         0.9895,  0.5969,  1.1343,  0.5374, -1.1105, -2.1207,  0.4097,  2.9642,\n",
            "        -0.4362,  0.3849,  1.0856,  0.1459,  0.2309,  1.2614, -0.8029, -1.6365,\n",
            "        -0.1345, -0.8164, -0.7846,  0.7404, -1.5368,  1.1533, -1.1957, -0.7835,\n",
            "        -1.0415,  1.6937, -1.0865, -1.6013,  1.9733, -0.3184,  0.1449, -0.0686,\n",
            "         0.7288,  0.8705, -2.0973,  0.8174,  0.0039,  1.5651, -1.1772, -3.5252,\n",
            "         0.4128,  0.3926, -0.8709,  0.0402,  0.6940,  0.4957, -1.3480, -1.5596,\n",
            "         0.9546, -0.1345, -1.1316, -0.8122,  0.6801, -1.3671,  0.4263,  0.4126],\n",
            "       grad_fn=<SqueezeBackward1>)\n",
            "labels:  tensor([0, 1, 0, 0, 1, 0, 0, 1, 1, 0, 1, 1, 0, 0, 0, 1, 0, 0, 1, 1, 1, 0, 1, 0,\n",
            "        1, 1, 1, 0, 0, 1, 0, 1, 0, 1, 0, 0, 1, 0, 0, 1, 1, 1, 0, 1, 0, 1, 0, 0,\n",
            "        1, 1, 0, 0, 1, 0, 0, 0, 1, 1, 0, 1, 1, 0, 1, 1])\n",
            "outputs:  tensor([ 0.1490,  1.9107, -2.7543,  0.5100, -2.0672,  0.9763,  0.4776, -0.3647,\n",
            "        -0.5160,  2.3682, -0.2833,  0.4236, -1.0102, -0.2410,  0.3720, -0.1797,\n",
            "        -0.8532, -1.1708, -0.9032,  1.6011, -1.7406,  0.7345, -0.0220, -0.4553,\n",
            "         1.6393,  1.5240,  1.1162, -1.1926,  0.2557,  0.0308,  2.8726,  0.2835,\n",
            "         1.6100, -0.8479, -1.1931,  0.8175,  0.2173, -0.7889, -0.7123,  1.9567,\n",
            "        -1.2463,  0.8642, -0.9819, -0.4176,  1.2199,  1.5776, -0.6121, -1.2982,\n",
            "         2.9592,  0.0074, -2.1846, -3.3358, -0.5447,  1.2883, -1.4293, -0.7514,\n",
            "        -0.8356, -2.0432, -1.3239, -1.0486,  1.1845,  0.0363, -0.2676, -0.9374],\n",
            "       grad_fn=<SqueezeBackward1>)\n",
            "labels:  tensor([1, 1, 0, 1, 0, 1, 0, 1, 1, 1, 1, 0, 0, 1, 0, 1, 0, 1, 1, 1, 0, 1, 1, 0,\n",
            "        1, 1, 1, 0, 1, 0, 1, 1, 0, 0, 0, 1, 1, 0, 1, 1, 0, 1, 1, 0, 1, 1, 0, 1,\n",
            "        1, 0, 0, 0, 1, 1, 0, 0, 0, 0, 1, 0, 1, 0, 1, 0])\n",
            "outputs:  tensor([ 1.3034e+00,  1.5168e+00, -1.4558e+00,  6.2802e-01, -1.8594e-01,\n",
            "         1.6141e-01, -8.6289e-01,  7.3439e-01, -2.2024e+00, -5.2257e-02,\n",
            "         4.9659e-01, -1.5146e+00, -6.5991e-01,  1.4116e+00, -1.7415e+00,\n",
            "        -1.4242e+00, -1.0164e-01, -4.1194e-01,  2.4715e+00, -8.2521e-01,\n",
            "         2.5403e+00, -1.2359e+00, -1.1257e+00, -1.3354e+00, -8.4226e-01,\n",
            "         2.7856e-01,  3.4596e+00,  1.0695e+00,  1.6093e+00, -7.6295e-01,\n",
            "        -6.4963e-01,  4.5387e-01,  1.0683e+00,  3.1302e-01,  1.0464e+00,\n",
            "         4.9854e-03, -1.6209e+00,  2.7247e+00, -1.2607e+00,  2.8231e-01,\n",
            "         9.0007e-01,  7.7248e-04, -1.5362e-01, -2.1050e+00, -4.4003e-01,\n",
            "        -9.1093e-02,  1.3222e+00,  1.5084e+00, -1.6300e-01,  1.0745e+00,\n",
            "         8.1107e-01,  1.5323e+00,  1.3787e-01, -2.6936e-01, -2.8587e-01,\n",
            "         1.1136e+00, -1.2908e+00,  5.0768e-01, -1.8200e-01,  2.5231e+00,\n",
            "        -2.2555e+00,  1.2304e+00, -1.1704e-01,  5.5825e-01],\n",
            "       grad_fn=<SqueezeBackward1>)\n",
            "labels:  tensor([1, 1, 1, 0, 1, 1, 0, 1, 0, 1, 1, 0, 0, 1, 0, 0, 1, 1, 1, 0, 1, 0, 1, 0,\n",
            "        0, 0, 1, 1, 1, 0, 0, 1, 1, 0, 1, 1, 0, 1, 0, 0, 1, 1, 1, 0, 0, 1, 1, 1,\n",
            "        1, 1, 0, 1, 1, 0, 0, 0, 1, 1, 1, 0, 0, 1, 0, 1])\n",
            "outputs:  tensor([ 0.1220,  0.1636,  0.8652,  0.2432,  1.7326,  1.0346,  1.3891,  1.3951,\n",
            "        -0.3428,  0.3248,  0.2805,  0.2823, -0.4237,  0.3925,  0.5759, -0.1223,\n",
            "         0.9666, -1.2846,  0.0896, -0.7637,  1.7560, -0.4744,  1.6112,  0.3656,\n",
            "         1.0398, -0.1357,  0.0236, -1.6628,  0.1913,  0.4643, -0.7692,  0.8355,\n",
            "        -0.3469,  1.4273,  1.2125,  0.3877, -1.7935, -0.1070,  0.5591, -0.8504,\n",
            "        -1.2570,  0.1987, -0.6846,  0.8405,  2.0794, -0.4257,  3.4097, -0.6352,\n",
            "        -1.4878,  0.9730,  0.9751,  0.5397, -1.9699,  2.2096, -0.9631,  0.8142,\n",
            "        -1.2173, -0.7136, -0.5725, -1.7986,  0.5873,  2.5559,  0.3008,  0.2392],\n",
            "       grad_fn=<SqueezeBackward1>)\n",
            "labels:  tensor([0, 0, 1, 0, 0, 1, 0, 1, 1, 1, 1, 1, 0, 1, 0, 1, 0, 0, 0, 0, 1, 0, 0, 0,\n",
            "        1, 0, 1, 0, 1, 1, 0, 1, 1, 1, 1, 0, 1, 0, 1, 0, 0, 1, 1, 1, 1, 1, 1, 0,\n",
            "        0, 1, 1, 0, 0, 0, 1, 1, 0, 0, 0, 1, 1, 1, 0, 1])\n",
            "outputs:  tensor([-0.3138, -2.0493,  0.8475,  0.0924,  1.8143, -0.2413, -0.7228, -0.3624,\n",
            "         2.4421, -0.7037, -0.5715, -0.1172,  1.0942,  0.2959,  0.6853, -0.2189,\n",
            "        -0.5102,  0.1340,  0.8479,  1.0997,  2.7507, -0.6930, -0.0985, -0.6434,\n",
            "         1.2771, -1.1633,  2.6606,  1.2463,  1.7736, -1.1076,  1.3998, -1.5999,\n",
            "         1.9244,  0.2149,  1.0044,  2.3403, -0.6970,  0.9352,  1.7782,  0.1417,\n",
            "        -1.2926, -0.4251,  0.6524, -0.8288, -0.2244, -2.0105, -0.9112,  0.1693,\n",
            "        -1.2388,  0.9147,  0.0633,  2.1957, -0.1744,  0.4609, -0.6919, -0.4288,\n",
            "         0.6869, -0.7210,  0.9949,  0.8244, -0.0553,  1.0250,  0.4635,  1.4347],\n",
            "       grad_fn=<SqueezeBackward1>)\n",
            "labels:  tensor([0, 0, 1, 1, 1, 1, 0, 0, 1, 0, 1, 0, 1, 0, 1, 0, 1, 0, 1, 1, 1, 0, 0, 0,\n",
            "        1, 1, 1, 1, 0, 0, 1, 0, 1, 1, 1, 1, 0, 0, 1, 0, 0, 0, 1, 0, 0, 0, 0, 1,\n",
            "        0, 1, 0, 1, 1, 0, 0, 0, 1, 1, 0, 0, 0, 1, 0, 1])\n",
            "outputs:  tensor([ 2.9944e+00,  1.5686e+00,  1.7651e+00,  1.7469e-03,  1.2685e+00,\n",
            "         7.5285e-01,  1.4442e+00,  1.8349e-01, -7.1006e-02, -9.1203e-01,\n",
            "         2.4313e+00,  1.0424e+00, -9.2116e-01,  1.0344e+00, -3.4905e-02,\n",
            "         1.6617e+00,  1.8349e+00,  1.0925e+00,  4.8526e-01,  6.2658e-01,\n",
            "         4.6688e-01, -6.4988e-01,  8.1342e-01, -6.5317e-01, -6.5319e-01,\n",
            "        -3.5889e-01,  1.4890e+00,  8.8959e-01,  3.9667e+00,  7.5714e-02,\n",
            "         2.1056e+00,  2.3105e+00,  1.8480e+00, -7.1512e-01,  4.5209e-01,\n",
            "         4.2729e-01, -2.7698e-01, -7.6367e-01,  2.4832e+00,  1.6220e+00,\n",
            "         1.1727e+00,  8.0079e-01,  1.4811e+00, -1.4330e+00,  9.2177e-01,\n",
            "         2.3511e-01,  1.5944e+00, -1.3167e+00, -2.1062e-01, -6.9455e-01,\n",
            "         3.6400e-01, -8.4312e-01,  2.6856e+00,  1.8833e-01, -5.3955e-01,\n",
            "        -6.9612e-01, -4.4984e-01,  1.9749e+00, -1.7234e+00, -5.0117e-01,\n",
            "         6.8983e-01,  2.8747e+00,  4.9687e-01,  1.2374e+00],\n",
            "       grad_fn=<SqueezeBackward1>)\n",
            "labels:  tensor([1, 1, 1, 0, 1, 1, 1, 1, 0, 1, 1, 1, 0, 0, 0, 1, 1, 1, 1, 0, 1, 0, 1, 0,\n",
            "        0, 1, 0, 0, 1, 0, 1, 1, 1, 0, 0, 1, 0, 1, 1, 1, 0, 0, 0, 0, 1, 1, 0, 0,\n",
            "        0, 0, 0, 1, 0, 1, 0, 1, 0, 1, 0, 0, 0, 1, 1, 1])\n",
            "outputs:  tensor([ 3.5211e+00,  1.8197e-01,  4.9568e-01,  1.4952e+00,  1.9452e+00,\n",
            "         3.9536e-03, -4.0264e-01, -4.7718e-01,  2.7658e+00, -1.2226e+00,\n",
            "        -4.9979e-02,  1.2454e+00,  4.0009e+00,  6.7467e-02,  9.5334e-01,\n",
            "         2.7315e+00, -9.6678e-01, -4.3446e-01,  6.0859e-01, -3.1275e-01,\n",
            "         1.6241e+00, -3.6564e-01,  1.5222e-01,  3.3424e-01,  1.6066e-01,\n",
            "         5.0800e-01,  2.3630e-01,  2.6538e+00,  1.4685e+00, -1.3981e+00,\n",
            "         1.1753e+00,  8.7900e-01,  2.1847e+00, -7.9661e-01,  8.5368e-01,\n",
            "         2.2121e-01,  1.9076e-01, -2.0035e-01, -9.0236e-01, -1.8955e-02,\n",
            "        -1.5356e+00, -2.9567e-01, -2.9572e-01,  1.0992e+00,  5.6827e-01,\n",
            "        -1.3600e+00,  9.3378e-01,  1.6368e-01,  4.8760e-01,  1.3600e+00,\n",
            "        -6.1571e-02, -1.6734e+00,  1.1596e+00,  5.4226e-01,  1.3603e+00,\n",
            "         4.6471e-01, -6.4918e-03,  2.3047e-01,  3.8706e-01, -1.9308e+00,\n",
            "         1.3110e+00,  1.4415e+00,  1.4533e-01, -1.1494e+00],\n",
            "       grad_fn=<SqueezeBackward1>)\n",
            "labels:  tensor([1, 1, 0, 1, 1, 0, 0, 0, 1, 0, 0, 1, 1, 0, 1, 1, 0, 0, 0, 1, 1, 0, 0, 0,\n",
            "        0, 0, 0, 1, 1, 0, 1, 1, 1, 0, 1, 0, 0, 1, 0, 1, 0, 0, 1, 1, 1, 0, 1, 0,\n",
            "        1, 1, 0, 0, 1, 1, 1, 1, 0, 1, 0, 0, 1, 1, 0, 0])\n",
            "outputs:  tensor([ 1.5193,  0.7304, -0.8641, -0.2519, -0.3221,  0.9713, -0.0373, -1.1780,\n",
            "        -0.0933, -0.0821, -0.6032, -0.1740,  0.2694,  0.8089,  0.2955,  2.3097,\n",
            "         0.4620,  0.4340, -0.2081, -1.2468,  1.4100, -1.9130, -0.6396, -0.6598,\n",
            "         2.2261, -0.2579,  1.2265,  0.8723,  0.1146,  0.2391, -0.3501,  0.0460,\n",
            "        -0.6765,  1.8725,  3.3093, -0.1679,  0.4710,  1.4220, -0.4025,  2.2669,\n",
            "        -0.7988,  0.0375, -0.7784,  1.8250,  0.0259, -2.4851,  0.9205, -1.3391,\n",
            "        -0.2943, -2.2973,  0.0972, -0.5606,  0.8125, -0.3716,  0.1699,  4.3472,\n",
            "        -1.2491, -0.5034,  2.9918, -1.1598,  1.6283,  0.5299,  0.6269, -0.1036],\n",
            "       grad_fn=<SqueezeBackward1>)\n",
            "labels:  tensor([1, 0, 0, 0, 0, 0, 0, 0, 1, 0, 0, 0, 1, 1, 0, 1, 0, 0, 1, 0, 1, 0, 0, 0,\n",
            "        1, 0, 1, 1, 1, 1, 0, 1, 0, 0, 1, 1, 1, 1, 0, 1, 1, 1, 0, 1, 0, 0, 1, 1,\n",
            "        1, 0, 1, 0, 0, 0, 0, 1, 0, 0, 1, 0, 0, 1, 1, 1])\n",
            "outputs:  tensor([ 0.6565, -0.7764,  1.3233,  0.6552, -1.9994, -0.5724, -0.9186, -1.4602,\n",
            "         0.6235, -1.5358,  0.7331,  1.6630,  0.5664,  0.8876, -0.9739, -1.6004,\n",
            "        -0.0864,  1.1823, -1.1463, -0.2228,  0.4583, -0.2262,  0.6695,  0.2042,\n",
            "        -0.1823, -1.4847,  0.7515,  0.2374,  2.5101, -0.3110,  1.3578,  0.8555,\n",
            "        -1.6064,  0.6001, -0.7592, -0.1669,  1.2236,  0.3657, -0.7915,  0.4975,\n",
            "         0.0683, -1.7613, -0.7667,  3.9044, -0.9040,  0.3636,  1.0856,  1.0684,\n",
            "         1.6352, -0.7394,  1.6997,  1.7857, -0.1317, -1.3324, -0.3660,  0.8090,\n",
            "         0.7926, -0.1259, -0.0925,  0.4993,  1.7774,  1.6837,  0.5592, -1.2492],\n",
            "       grad_fn=<SqueezeBackward1>)\n",
            "labels:  tensor([0, 1, 1, 1, 0, 0, 0, 0, 0, 0, 0, 1, 1, 0, 0, 0, 0, 0, 0, 0, 0, 0, 1, 1,\n",
            "        1, 0, 1, 1, 1, 1, 1, 1, 0, 1, 1, 0, 1, 0, 0, 1, 1, 0, 1, 1, 0, 0, 1, 1,\n",
            "        1, 0, 1, 1, 0, 0, 0, 1, 1, 0, 0, 1, 1, 1, 1, 0])\n",
            "outputs:  tensor([ 0.9094, -2.3880, -0.2010, -1.3327,  1.1210,  0.1353, -1.0181, -1.2800,\n",
            "         0.1968,  0.5117,  1.4250,  1.1364,  1.1352,  0.5564, -0.4425, -1.1371,\n",
            "         2.6075,  0.1578, -0.7325,  0.1408,  0.5645, -1.4682, -0.8806,  1.0229,\n",
            "        -0.2789,  0.5112,  0.3210, -2.6628, -0.0217, -0.7006,  1.0742,  2.1662,\n",
            "         1.5170,  1.4199, -0.0450,  0.1971, -0.3651, -1.2086, -0.3681,  0.2712,\n",
            "         0.8141, -1.8263, -0.1067, -0.4360, -0.0704,  0.4640,  2.9368, -2.8538,\n",
            "         0.5604, -1.6943, -0.2334,  0.4842,  0.1288, -0.8765, -1.6581,  1.8567,\n",
            "         1.6146, -1.2397, -0.7788,  2.8364,  0.3452,  1.0548, -2.8419, -0.9682],\n",
            "       grad_fn=<SqueezeBackward1>)\n",
            "labels:  tensor([0, 0, 1, 0, 0, 1, 0, 0, 0, 1, 1, 0, 0, 0, 0, 0, 1, 1, 0, 0, 1, 1, 0, 1,\n",
            "        0, 1, 0, 0, 1, 0, 0, 1, 1, 1, 0, 0, 0, 0, 0, 1, 1, 0, 1, 1, 1, 0, 1, 0,\n",
            "        1, 0, 1, 1, 0, 0, 1, 1, 1, 0, 0, 1, 1, 1, 0, 1])\n",
            "outputs:  tensor([ 0.8132, -1.3722, -0.8897, -1.0478,  0.1985, -0.2478, -0.3521, -0.6535,\n",
            "        -0.6966,  0.7477, -3.0570, -0.3284, -1.6001, -2.0499, -0.6836,  1.1679,\n",
            "         1.3299,  1.6617, -2.3153, -0.3080,  1.5632, -0.9563, -1.3114, -2.1759,\n",
            "         0.8054,  0.9790, -2.0639, -1.1761,  0.0274, -1.9604,  0.3302, -0.5932,\n",
            "        -0.1632,  0.5868, -0.0463,  0.5550,  1.2585, -0.1214,  0.5533, -0.9485,\n",
            "         0.1577, -0.1914, -0.3289,  1.3160, -0.6403, -1.9549,  0.7443, -0.9329,\n",
            "        -1.5400, -0.0427, -1.9402, -1.2536, -2.1285, -3.1041, -3.8186,  1.1993,\n",
            "         0.9970, -0.4067, -1.4569,  0.0547, -1.5756, -3.8528,  0.1036, -1.0025],\n",
            "       grad_fn=<SqueezeBackward1>)\n",
            "labels:  tensor([1, 0, 0, 0, 1, 1, 0, 0, 0, 1, 0, 1, 0, 0, 0, 1, 1, 1, 0, 0, 1, 0, 0, 0,\n",
            "        0, 1, 0, 0, 1, 0, 0, 1, 1, 0, 0, 0, 1, 0, 1, 1, 0, 0, 1, 1, 0, 0, 1, 0,\n",
            "        0, 0, 0, 0, 0, 0, 1, 1, 1, 1, 0, 1, 0, 0, 1, 1])\n",
            "outputs:  tensor([ 1.3264, -0.6753,  1.9453, -0.7778, -2.0908, -0.1388, -0.4553, -0.9577,\n",
            "        -0.1165,  0.5166, -1.4189, -0.9766,  0.3538,  0.2773,  0.1959, -0.8457,\n",
            "         2.9423, -0.1792, -0.3407,  0.8206, -0.5896, -1.3805,  1.4868, -0.8493,\n",
            "        -0.5680, -1.5065, -0.0563, -0.8842, -0.6211, -0.9130,  3.1340, -0.8604,\n",
            "        -0.2618,  0.0601, -0.0759, -1.9031,  1.4522, -1.1977,  1.6261, -0.0792,\n",
            "         0.7318,  0.8499, -0.6800, -0.7404, -0.2144,  0.2786,  1.7324,  0.5395,\n",
            "         0.8755, -1.5402, -0.7163, -2.5228, -3.3531,  1.8719, -0.2925,  0.6633,\n",
            "         0.1352, -2.7059,  0.4143,  1.5297, -1.0979,  1.8438, -2.5478, -0.3044],\n",
            "       grad_fn=<SqueezeBackward1>)\n",
            "labels:  tensor([1, 1, 0, 1, 0, 1, 0, 0, 1, 1, 0, 1, 1, 1, 0, 0, 1, 0, 0, 1, 1, 0, 1, 0,\n",
            "        0, 0, 1, 0, 0, 0, 1, 0, 1, 1, 1, 0, 1, 1, 1, 0, 1, 1, 0, 0, 1, 1, 1, 0,\n",
            "        1, 0, 0, 0, 1, 1, 0, 1, 0, 0, 0, 1, 0, 1, 0, 0])\n",
            "outputs:  tensor([ 3.3864, -0.1111, -0.8125, -1.0090,  0.6229,  0.2972,  0.9772,  0.5070,\n",
            "        -1.3235,  1.0147,  0.8076, -0.0403, -1.2495, -2.3152, -1.5330, -1.4095,\n",
            "         1.0352, -0.3801, -0.8690, -0.2943, -1.2814, -1.8586, -0.9568,  0.6374,\n",
            "        -1.4562,  0.5809, -1.4877,  1.2628, -0.0305,  0.6366, -0.5486,  0.3175,\n",
            "        -0.1711, -0.4741, -0.8333, -1.1717,  1.5476, -1.9403, -1.0939,  3.1166,\n",
            "         0.8314,  0.2568, -0.6443,  0.8486,  0.4060, -1.5113,  1.6881, -1.8627,\n",
            "         1.0140, -0.7111,  0.1757,  1.1826, -0.6153,  0.3597,  0.1330,  0.5040,\n",
            "        -2.7891, -0.4150, -2.0724,  1.4908,  0.3417,  0.3410, -0.9033, -0.2947],\n",
            "       grad_fn=<SqueezeBackward1>)\n",
            "labels:  tensor([1, 1, 0, 0, 0, 0, 1, 0, 0, 1, 0, 0, 0, 0, 0, 0, 1, 1, 0, 0, 1, 0, 0, 1,\n",
            "        0, 1, 0, 1, 0, 1, 1, 1, 0, 1, 0, 1, 1, 0, 1, 1, 1, 1, 0, 1, 1, 0, 1, 0,\n",
            "        0, 1, 1, 1, 0, 1, 1, 0, 0, 0, 0, 1, 0, 0, 1, 0])\n",
            "outputs:  tensor([-0.8451, -2.1574, -0.5801, -0.2850, -0.1621,  0.3018,  0.8543,  0.4105,\n",
            "        -1.8131,  0.1341, -0.8411,  0.6307, -0.1986,  0.5479, -1.4004, -2.3151,\n",
            "        -0.6389, -2.4474,  0.5557, -0.2622, -1.2881, -0.2738, -0.2958, -1.0866,\n",
            "         0.2038,  0.2951, -1.7290, -1.6768, -3.2697, -1.2997, -0.7986,  0.0656,\n",
            "        -1.9299, -0.5805, -0.9558,  0.5702,  0.0425, -2.0101, -1.6009, -2.1815,\n",
            "        -0.2701, -0.2529,  0.8299, -0.4400, -1.7269,  0.2599, -1.7230, -1.8177,\n",
            "        -1.9081, -0.1293, -0.8729, -0.1673, -1.6248, -0.2716, -0.6003, -2.4221,\n",
            "        -1.8847, -0.3605, -2.0450,  0.2510, -1.2100, -0.2525, -1.3988, -0.7658],\n",
            "       grad_fn=<SqueezeBackward1>)\n",
            "labels:  tensor([1, 0, 0, 0, 0, 1, 1, 1, 0, 1, 0, 1, 1, 1, 0, 0, 0, 0, 1, 0, 0, 0, 1, 0,\n",
            "        1, 0, 0, 0, 0, 0, 0, 0, 0, 0, 0, 0, 0, 0, 1, 1, 1, 0, 1, 1, 0, 1, 1, 0,\n",
            "        0, 1, 0, 1, 0, 1, 1, 0, 0, 1, 0, 1, 1, 1, 0, 0])\n",
            "outputs:  tensor([-1.2579e+00, -3.0169e-01, -2.6010e-02, -9.1110e-01, -9.2193e-02,\n",
            "         2.5063e-01, -4.2436e-01,  5.8007e-01, -6.6853e-01, -1.9288e+00,\n",
            "         1.5388e-01, -2.3182e-01, -1.1302e+00, -1.0041e-01, -9.1522e-01,\n",
            "        -1.5390e+00, -1.7711e+00, -8.6590e-01,  2.6682e-03, -2.3660e-01,\n",
            "         2.3425e+00,  1.0099e+00, -2.1862e-01, -1.1368e+00, -1.3926e+00,\n",
            "         1.0830e+00, -4.8764e-01, -2.7192e+00, -2.5337e+00,  2.3707e+00,\n",
            "        -2.7921e-01,  2.6723e-01,  2.2553e-01, -4.6445e-01, -1.3504e+00,\n",
            "        -1.8905e+00,  8.5407e-02, -1.4053e-01, -1.0397e+00,  1.7195e+00,\n",
            "        -1.4800e-01,  1.1774e+00, -3.5557e-01, -1.1186e+00, -2.4219e+00,\n",
            "         1.2314e+00, -1.7504e+00, -9.0959e-01,  7.8305e-01, -7.8551e-01,\n",
            "        -8.0065e-01, -2.0916e+00, -1.3593e+00, -1.6606e-01,  2.0379e-01,\n",
            "        -1.0752e+00, -7.7644e-01, -2.2617e-01, -1.5805e+00, -1.6985e+00,\n",
            "         3.9304e-01, -5.1980e-01, -1.8394e+00, -7.1373e-01],\n",
            "       grad_fn=<SqueezeBackward1>)\n",
            "labels:  tensor([0, 0, 1, 0, 1, 1, 0, 1, 0, 0, 1, 0, 1, 0, 1, 0, 0, 0, 1, 1, 1, 1, 1, 0,\n",
            "        0, 1, 0, 0, 0, 1, 1, 1, 0, 1, 1, 0, 1, 0, 0, 1, 1, 1, 0, 0, 0, 1, 0, 0,\n",
            "        1, 1, 0, 0, 1, 1, 1, 1, 0, 0, 0, 1, 1, 0, 0, 1])\n",
            "outputs:  tensor([-0.4006, -1.3826, -0.1101,  0.0259,  0.1393,  0.7844, -2.1686,  1.1373,\n",
            "        -1.1898,  1.0170, -0.4477,  1.2430, -0.2622,  0.0235,  1.5560,  1.2159,\n",
            "         0.1284, -2.2016, -0.6105,  1.5548,  0.0912, -2.7716, -0.4969,  1.0291,\n",
            "         2.7553,  1.2122,  1.4063,  0.8656,  1.7870, -0.9212, -1.8667, -0.3862,\n",
            "         0.4764, -0.0249, -0.3546, -0.1641, -1.2516, -1.1818, -3.7087, -2.3267,\n",
            "        -2.1946, -0.4148,  0.9127,  0.1887, -1.1010, -1.8735,  2.0861, -0.3247,\n",
            "        -0.5451, -1.8188, -2.4139, -2.3686, -0.0724, -0.1988,  0.5496,  0.4630,\n",
            "        -0.2245,  0.8760, -1.7815,  0.6688,  0.3306, -0.2063,  0.0480,  0.0800],\n",
            "       grad_fn=<SqueezeBackward1>)\n",
            "labels:  tensor([0, 1, 0, 0, 1, 1, 0, 1, 1, 0, 0, 1, 1, 0, 1, 0, 1, 0, 0, 1, 0, 0, 0, 1,\n",
            "        1, 0, 1, 1, 1, 0, 0, 0, 1, 1, 0, 1, 0, 0, 0, 0, 0, 1, 1, 0, 1, 0, 1, 1,\n",
            "        0, 0, 0, 0, 1, 1, 1, 0, 0, 0, 0, 1, 0, 0, 1, 1])\n",
            "outputs:  tensor([ 0.5414,  0.7433,  0.7638, -2.3837,  0.3254,  0.5850, -0.7587,  0.0259,\n",
            "        -1.0385, -0.8180,  1.9194,  2.0432, -0.7991,  0.3468, -1.4583, -0.7322,\n",
            "         0.8317,  2.0520, -1.8946, -0.3745, -1.5165, -3.3633, -1.4524,  1.0975,\n",
            "         0.3654, -1.5076, -0.3850, -0.7336, -0.5520, -0.1491,  0.2532,  2.1089,\n",
            "        -0.9396,  0.3218, -1.7490, -1.2334, -2.8052,  0.0469,  1.5586, -0.8848,\n",
            "         0.6056, -1.2980, -0.1397, -1.7517,  1.7232,  0.9163,  0.1323,  0.8067,\n",
            "        -0.1478,  0.1035, -0.8067,  1.2493, -1.4341,  1.0622, -1.8076, -0.1135,\n",
            "         1.6599, -1.5907,  0.5930,  0.6752, -0.0617,  1.3524, -1.6374,  0.2057],\n",
            "       grad_fn=<SqueezeBackward1>)\n",
            "labels:  tensor([0, 1, 1, 0, 1, 1, 0, 0, 0, 0, 1, 1, 0, 1, 1, 1, 1, 1, 0, 1, 0, 0, 0, 0,\n",
            "        0, 0, 0, 0, 0, 0, 1, 1, 1, 1, 0, 0, 0, 0, 1, 0, 0, 0, 0, 0, 1, 1, 0, 1,\n",
            "        0, 1, 1, 1, 0, 0, 1, 1, 1, 0, 1, 1, 1, 1, 0, 0])\n",
            "outputs:  tensor([-0.3938,  1.0049, -0.7595,  0.6930, -0.1588, -1.0923,  1.0151,  0.6344,\n",
            "        -0.5723,  2.0892, -1.4654, -0.7686,  0.0111, -0.6879,  0.4235,  1.9929,\n",
            "        -1.7369,  0.6378, -0.9276, -2.0967, -1.6707,  0.3619, -2.5966,  1.1512,\n",
            "         0.1379, -1.2176, -2.4784,  1.3229, -0.6647,  1.9603,  0.9413, -0.6798,\n",
            "        -0.6401,  0.1299, -0.3580,  0.9248,  0.1787, -0.5151,  1.9893, -1.5474,\n",
            "        -1.6128,  1.2186, -0.7456, -1.3506, -0.8623, -2.2399, -1.3332, -0.0370,\n",
            "         3.0520,  0.2684,  0.1808, -1.1420, -3.4611, -2.3060,  1.4122, -0.4075,\n",
            "        -1.0246, -1.7480,  0.2931, -0.5463, -0.5093, -1.8526, -1.0852,  1.1125],\n",
            "       grad_fn=<SqueezeBackward1>)\n",
            "labels:  tensor([0, 1, 1, 0, 1, 1, 1, 1, 1, 1, 0, 1, 1, 0, 0, 1, 0, 1, 0, 0, 0, 1, 0, 1,\n",
            "        0, 1, 0, 1, 0, 1, 1, 1, 1, 0, 0, 0, 0, 1, 1, 0, 1, 1, 0, 0, 0, 0, 0, 1,\n",
            "        1, 1, 1, 1, 0, 1, 0, 0, 0, 0, 0, 0, 1, 0, 0, 1])\n",
            "outputs:  tensor([-1.4301, -0.7385, -1.5160, -0.6185,  1.5935, -0.0327,  0.5046, -0.7226,\n",
            "        -0.1587,  1.7310,  0.6952, -1.8632, -1.1723, -0.2204,  0.2351,  0.4865,\n",
            "        -2.3130, -1.7922,  0.3449,  0.7282,  0.7594,  0.6671,  0.6679,  0.1609,\n",
            "         1.5975,  0.6955,  2.2268, -1.1864, -1.3132, -0.3502,  0.9251,  4.4407,\n",
            "         0.1592, -1.1461, -2.0681, -0.4104,  1.2306, -0.1720,  0.1834,  0.2106,\n",
            "        -0.7546, -0.7910,  1.2204,  0.9535, -0.1491,  2.4898, -0.7630, -0.2852,\n",
            "        -0.1933,  1.2978,  0.4183,  1.7406, -0.8089, -0.7399,  0.7037,  0.9218,\n",
            "        -0.2245,  2.2282, -0.2097,  1.5600,  1.3723, -0.9665,  1.5124, -0.4938],\n",
            "       grad_fn=<SqueezeBackward1>)\n",
            "labels:  tensor([0, 1, 0, 1, 1, 0, 1, 1, 1, 1, 1, 0, 0, 0, 1, 0, 0, 0, 1, 0, 1, 0, 1, 1,\n",
            "        1, 1, 1, 1, 0, 1, 1, 1, 1, 0, 0, 1, 1, 1, 1, 1, 0, 0, 1, 1, 1, 1, 1, 0,\n",
            "        0, 1, 0, 1, 1, 0, 0, 0, 0, 1, 1, 1, 1, 0, 1, 0])\n",
            "outputs:  tensor([-0.9334, -0.2560, -0.9648, -0.3891, -0.7675,  1.0524,  1.0976, -1.6613,\n",
            "         0.0344,  0.8842,  0.1014,  0.2497, -0.4770, -0.6692,  1.5828, -0.1169,\n",
            "         2.3139,  1.2277, -1.3347, -0.7858, -1.2730, -0.6786, -1.7861, -0.2765,\n",
            "        -1.3170,  0.6436,  0.7961, -0.8751, -1.9201,  0.8890,  0.0231,  1.4268,\n",
            "        -0.8161,  1.0565,  0.6438,  1.5642,  1.6274,  2.2700,  0.3355,  1.5130,\n",
            "         3.7234, -0.5510, -0.1249, -0.8343, -1.1306,  0.1374, -0.0668,  0.6650,\n",
            "         1.0555, -0.9690,  0.1462, -0.2035,  0.8795,  0.8462,  0.4040, -1.9488,\n",
            "        -2.3418, -0.2138,  1.0430,  1.9953, -0.0430, -0.3227,  0.3838, -0.3407],\n",
            "       grad_fn=<SqueezeBackward1>)\n",
            "labels:  tensor([0, 0, 0, 0, 0, 1, 1, 0, 1, 1, 0, 1, 0, 0, 1, 1, 1, 1, 0, 0, 0, 1, 0, 1,\n",
            "        1, 1, 0, 0, 0, 1, 0, 0, 0, 0, 1, 1, 1, 1, 0, 1, 1, 0, 1, 0, 0, 0, 1, 1,\n",
            "        1, 0, 1, 0, 1, 1, 1, 0, 1, 1, 1, 1, 0, 0, 1, 0])\n",
            "outputs:  tensor([ 1.2957, -0.6217,  0.2004, -0.1683, -0.4796,  1.5427, -1.8980,  1.3144,\n",
            "        -0.2063,  1.3712,  0.7305,  1.6021, -0.1641, -0.1905,  0.9938,  0.5163,\n",
            "         1.2585, -0.3005, -2.7247,  2.1008,  2.6114, -0.3052,  1.3805,  0.6402,\n",
            "        -0.5148, -0.5523, -1.0862,  2.4904,  2.3419,  0.4143,  0.3464, -1.6141,\n",
            "         1.2203,  0.8996,  3.3297,  1.3569, -0.3962, -0.0679, -0.2578,  1.1672,\n",
            "         0.5758,  0.1611, -1.7399,  2.3584,  1.5589, -0.9989,  1.7154,  0.3746,\n",
            "         3.7119, -1.1136,  1.7886,  0.7402,  0.4713, -0.4460,  3.1168, -2.4606,\n",
            "         0.6343,  1.0014, -0.5941, -0.3213, -1.4984,  0.4786,  0.7856, -1.8066],\n",
            "       grad_fn=<SqueezeBackward1>)\n",
            "labels:  tensor([1, 0, 0, 0, 0, 1, 0, 0, 0, 1, 0, 1, 1, 1, 1, 0, 1, 0, 0, 1, 1, 1, 1, 0,\n",
            "        0, 0, 0, 1, 1, 0, 1, 0, 1, 1, 1, 1, 0, 0, 0, 0, 1, 1, 0, 1, 1, 1, 1, 0,\n",
            "        1, 0, 1, 1, 1, 1, 1, 0, 1, 1, 0, 0, 0, 0, 0, 0])\n",
            "outputs:  tensor([ 1.9184,  2.7204,  1.9365, -0.1827,  1.6228, -1.0269, -0.4916, -0.3424,\n",
            "        -0.0278, -0.9163, -0.0245,  1.9385, -0.3930,  3.3533, -1.1737, -1.3865,\n",
            "        -1.1686, -1.2151,  1.0477,  0.9000,  1.7437, -0.4876, -0.1064,  0.8498,\n",
            "         0.5357,  1.5614,  1.9929, -1.3986,  4.5624,  0.8793,  1.3674,  1.1328,\n",
            "        -1.6840, -0.6713, -0.6066,  0.0975,  0.9663, -0.8173,  2.1399, -1.2594,\n",
            "         2.4532,  0.0302,  1.4551, -1.5127,  1.9760,  1.8038,  0.0323, -0.2831,\n",
            "         2.6915, -0.9121,  1.6787,  0.1702,  0.4784,  1.3208,  0.8973,  0.0711,\n",
            "         1.1670,  1.6070,  1.0230,  0.1438, -1.1289, -1.0315,  0.4644,  0.0664],\n",
            "       grad_fn=<SqueezeBackward1>)\n",
            "labels:  tensor([1, 1, 1, 0, 1, 0, 0, 0, 1, 0, 0, 1, 1, 1, 0, 0, 0, 0, 0, 1, 1, 0, 0, 1,\n",
            "        0, 1, 1, 0, 1, 1, 1, 1, 0, 1, 0, 1, 1, 1, 1, 0, 1, 0, 1, 0, 1, 1, 1, 1,\n",
            "        1, 0, 0, 1, 0, 0, 1, 1, 1, 0, 0, 1, 0, 0, 1, 0])\n",
            "outputs:  tensor([ 1.8385,  0.8290,  1.3309,  1.0015,  1.7587,  0.4141, -1.5096, -0.4569,\n",
            "        -0.3238, -0.9277, -1.9397, -1.9287,  0.1957, -0.6879, -0.4308, -1.2829,\n",
            "         1.5923, -0.1545, -1.3636, -2.7958, -0.0526,  0.7670, -0.9582, -0.1595,\n",
            "         2.2593, -0.3834, -0.2454, -0.1527,  2.6803,  1.9180, -0.5641,  1.1554,\n",
            "         0.4440,  1.0593, -2.5430, -1.9221, -0.4855,  1.3394, -1.7544, -1.7006,\n",
            "         0.1184,  1.8618, -1.7527, -0.2986,  1.5616, -1.0507,  0.4208,  0.8982,\n",
            "         0.5969,  1.8289, -0.6703, -0.2285, -0.1042, -0.9729,  2.1129, -0.3322,\n",
            "        -0.6722, -1.3056, -1.8810,  0.7916, -1.5401,  0.5386, -0.7345,  0.4299],\n",
            "       grad_fn=<SqueezeBackward1>)\n",
            "labels:  tensor([1, 0, 0, 1, 1, 1, 1, 0, 0, 0, 0, 1, 0, 1, 0, 1, 1, 0, 0, 0, 0, 1, 0, 0,\n",
            "        1, 1, 1, 0, 1, 0, 0, 1, 0, 1, 0, 1, 0, 1, 0, 0, 0, 1, 0, 1, 1, 0, 0, 1,\n",
            "        0, 1, 1, 0, 0, 0, 0, 0, 0, 0, 0, 1, 0, 0, 0, 1])\n",
            "outputs:  tensor([ 2.8531,  1.0392, -1.2607, -1.5191,  0.8753, -0.6185,  2.4846, -0.0604,\n",
            "         3.0167,  0.8958, -1.1042,  0.2958, -0.3665,  2.5096, -1.2095, -0.9584,\n",
            "         0.7806,  0.9495, -0.0987,  1.2197, -0.6750,  0.3952, -0.9244,  0.0283,\n",
            "         0.6085, -1.6050, -1.5977,  0.8145, -0.1689, -1.6102,  0.5991, -0.6430,\n",
            "        -1.0525, -1.0347,  0.4031,  1.6956, -1.8299,  0.3159,  0.1107, -0.3734,\n",
            "        -1.8450, -1.4500, -0.9486, -0.1388, -0.0853, -0.3275,  0.7415, -1.3322,\n",
            "        -1.3476,  1.6387, -0.3572,  0.7481, -1.0457,  0.5390, -0.2114,  0.5837,\n",
            "        -0.0673,  0.3314, -1.0212, -1.3770, -0.9923, -0.0873, -2.4971, -0.5834],\n",
            "       grad_fn=<SqueezeBackward1>)\n",
            "labels:  tensor([1, 1, 1, 0, 1, 0, 1, 0, 1, 1, 1, 1, 0, 1, 0, 0, 1, 0, 1, 1, 1, 1, 0, 1,\n",
            "        1, 0, 0, 1, 0, 0, 1, 0, 1, 0, 1, 1, 1, 0, 0, 0, 1, 0, 0, 0, 0, 1, 1, 1,\n",
            "        0, 0, 1, 1, 0, 1, 1, 1, 1, 1, 0, 0, 0, 1, 0, 1])\n",
            "outputs:  tensor([-1.2756,  0.9102, -0.7980,  2.1034,  3.2287,  0.2161, -0.9645,  0.2933,\n",
            "        -0.1546,  0.2072, -0.5059, -0.8136, -0.7753, -0.0592,  0.9680, -0.5780,\n",
            "         1.4988, -0.9169,  1.1144,  1.1490,  1.2946,  0.7229, -0.4641,  1.2028,\n",
            "         0.8832,  0.4341,  0.8004,  2.7915,  1.6485,  1.3391,  4.4065,  0.4437,\n",
            "         0.5183, -0.8750, -1.6172,  0.4513,  2.8635,  0.0590, -1.4263, -0.7353,\n",
            "         1.1637, -0.7909, -0.9357, -0.6113,  1.6286,  2.0068,  1.0808,  0.2816,\n",
            "         0.2813,  0.0311,  2.4406,  3.6783,  0.3344, -1.6497, -0.4243,  0.2600,\n",
            "         2.5940,  1.0664, -0.7401,  0.5316, -0.7450, -1.4937, -0.9354, -0.3217],\n",
            "       grad_fn=<SqueezeBackward1>)\n",
            "labels:  tensor([0, 1, 0, 1, 0, 0, 1, 1, 0, 1, 0, 0, 0, 1, 1, 0, 1, 0, 0, 0, 1, 0, 0, 1,\n",
            "        1, 1, 0, 1, 1, 1, 1, 1, 0, 1, 0, 1, 1, 1, 0, 0, 0, 0, 0, 0, 1, 1, 1, 1,\n",
            "        1, 0, 1, 1, 0, 0, 0, 0, 1, 0, 0, 1, 0, 0, 0, 1])\n",
            "outputs:  tensor([ 0.9851,  1.3754, -0.2554,  0.0663, -1.4492,  0.3162,  0.2923,  1.0243,\n",
            "         0.6076, -0.8825, -0.3328, -0.5594,  0.0856, -0.6814, -0.3823, -0.0521,\n",
            "         0.4435, -3.8790, -1.2404, -0.7379, -0.5144, -1.1725,  0.5973,  0.2788,\n",
            "         0.4657,  0.1218,  0.2491, -0.0253, -1.3301, -0.1431,  0.6615,  0.2747,\n",
            "         1.1205,  2.6759,  0.4438,  1.1164, -1.0599,  2.4274,  0.0763,  1.3308,\n",
            "         1.6432, -0.7931, -0.8266, -0.6365, -1.2494,  1.7364, -0.1048,  0.7391,\n",
            "         0.8424,  1.9384,  1.9709, -1.6528, -0.3056,  1.1325,  1.9387,  1.7017,\n",
            "         1.4254, -1.9248, -0.5249, -0.2388, -1.6299,  1.6702,  4.4343, -1.1870],\n",
            "       grad_fn=<SqueezeBackward1>)\n",
            "labels:  tensor([1, 1, 0, 0, 0, 0, 0, 1, 1, 1, 0, 1, 1, 0, 0, 1, 1, 0, 1, 1, 0, 0, 1, 0,\n",
            "        1, 0, 1, 1, 0, 0, 1, 0, 1, 1, 0, 1, 0, 1, 1, 1, 1, 0, 1, 0, 0, 1, 1, 1,\n",
            "        1, 1, 1, 0, 0, 0, 1, 1, 1, 1, 0, 0, 0, 1, 1, 1])\n",
            "outputs:  tensor([-0.8929, -1.2702,  0.8562, -0.5846, -0.2965,  0.6989, -1.5545, -0.0757,\n",
            "        -0.1647, -2.0371, -1.0917, -0.0783, -0.8418, -0.4569,  0.4703, -2.6759,\n",
            "         1.4227, -0.3906,  0.7396, -0.0229, -1.0128,  2.1384,  2.6775,  0.8056,\n",
            "         2.8991,  2.3923,  4.5840,  4.5175, -0.1360,  1.4734,  0.3258, -0.4013,\n",
            "        -1.4421, -1.7629, -0.6452, -1.5858,  0.5582, -0.8805,  0.3641,  1.1274,\n",
            "         0.5338, -0.2171,  1.0194,  0.6495,  0.4829,  0.1489,  0.8033,  0.7115,\n",
            "         0.7423,  0.4671, -0.7234,  1.6939, -0.6020,  0.9591,  1.0457,  2.3425,\n",
            "        -0.8484,  1.3674, -1.0719,  1.1557, -2.8648,  1.0660,  3.0625, -1.6202],\n",
            "       grad_fn=<SqueezeBackward1>)\n",
            "labels:  tensor([0, 0, 0, 0, 1, 1, 0, 0, 0, 0, 1, 1, 0, 0, 1, 0, 1, 0, 1, 0, 0, 1, 1, 0,\n",
            "        1, 1, 1, 1, 1, 1, 1, 0, 0, 0, 0, 0, 1, 0, 0, 1, 0, 0, 1, 0, 1, 0, 1, 1,\n",
            "        1, 1, 0, 1, 0, 1, 1, 1, 0, 1, 0, 1, 0, 0, 1, 0])\n",
            "outputs:  tensor([-0.7780,  0.2168,  1.1706, -1.2168,  0.6090,  1.2452, -1.4074,  1.3541,\n",
            "        -0.4409, -1.1593, -1.3343,  0.1284,  0.8749, -1.7013,  0.6573, -0.3995,\n",
            "        -0.1186,  1.0701, -0.1152, -1.9859, -2.0011,  1.6495,  1.9715, -0.5541,\n",
            "        -0.8281,  3.0137,  1.1905, -0.5356,  1.0364,  0.7396,  2.0909,  0.9848,\n",
            "        -0.8372,  2.0113, -0.5131,  0.8193,  2.2182,  0.8041, -2.0102, -0.6076,\n",
            "        -0.6812, -0.3438, -0.1797, -0.3622,  2.9142, -2.1076, -0.7431,  1.1005,\n",
            "         0.8517, -0.8502, -0.5804, -1.7899, -0.3559, -1.0262,  0.0723, -1.1128,\n",
            "         0.2347,  1.2746, -0.7351, -2.3075,  0.7530, -1.0737, -0.3324, -2.4129],\n",
            "       grad_fn=<SqueezeBackward1>)\n",
            "labels:  tensor([0, 1, 1, 1, 1, 1, 0, 1, 0, 1, 0, 1, 1, 0, 0, 0, 0, 1, 0, 0, 0, 1, 1, 0,\n",
            "        0, 1, 0, 0, 1, 1, 1, 0, 0, 1, 0, 1, 0, 1, 0, 0, 0, 0, 0, 0, 1, 1, 0, 1,\n",
            "        1, 0, 0, 0, 0, 1, 0, 0, 1, 1, 1, 0, 1, 0, 0, 0])\n",
            "outputs:  tensor([-0.2871,  0.1725,  0.1441, -0.6012,  1.1914,  1.3035,  0.2760, -3.1987,\n",
            "        -0.9955,  0.3873, -2.0221,  3.3426, -1.5295, -0.0740, -0.9078, -0.7150,\n",
            "        -2.5305,  0.1213,  0.0861, -1.8860, -0.1604, -0.4937, -1.2046, -0.1958,\n",
            "         1.2889,  0.0389, -0.8167,  0.8344,  0.4677, -1.1775, -0.3867,  1.0136,\n",
            "        -2.0486,  1.1811,  2.2276,  2.2375, -2.6975,  0.3936, -0.1822, -3.2846,\n",
            "        -1.2540,  1.6112, -0.4453,  0.3540, -1.5255, -2.8239,  0.5098,  2.1625,\n",
            "         2.3552, -0.5323, -2.0671, -0.1224,  0.5058,  2.5495, -0.4655,  0.9733,\n",
            "        -0.0858,  0.4941,  1.1638, -0.2273, -1.9100, -2.3849,  0.8448, -1.1791],\n",
            "       grad_fn=<SqueezeBackward1>)\n",
            "labels:  tensor([1, 1, 0, 1, 0, 1, 1, 0, 1, 1, 0, 1, 0, 0, 0, 0, 0, 0, 0, 0, 1, 0, 1, 1,\n",
            "        1, 1, 0, 0, 1, 0, 1, 1, 0, 1, 1, 1, 1, 0, 0, 0, 0, 1, 1, 1, 0, 0, 1, 1,\n",
            "        1, 0, 0, 0, 1, 1, 0, 1, 0, 0, 0, 1, 0, 0, 1, 0])\n",
            "outputs:  tensor([-0.7698, -2.2264,  0.9012, -0.8397,  1.2961,  0.5345, -0.7860, -1.7847,\n",
            "        -0.1208, -0.7992,  0.7980, -0.9067, -0.4748, -0.1070,  0.9823, -1.7996,\n",
            "         0.5053,  1.6219,  0.3165, -0.4368, -0.5228, -0.1890,  0.3848, -2.1680,\n",
            "         1.7907, -0.2159,  0.2821,  1.7748,  2.6677, -1.2589, -1.1076, -1.5811,\n",
            "        -0.4141, -0.6162, -1.9305,  1.1954,  1.5433, -0.0383, -0.1367, -0.4410,\n",
            "        -1.2279,  1.6757, -1.4719,  0.1415,  0.7311,  0.1635,  2.7502, -2.2850,\n",
            "        -0.8281,  1.1117, -1.0176, -0.8117,  0.0411,  0.3260, -2.8663, -1.3023,\n",
            "         2.0614,  0.2398,  0.5338, -2.0802,  0.9840, -1.4075,  0.2585,  1.0348],\n",
            "       grad_fn=<SqueezeBackward1>)\n",
            "labels:  tensor([0, 0, 0, 1, 1, 0, 1, 1, 1, 0, 0, 1, 0, 0, 1, 1, 1, 1, 0, 1, 0, 0, 1, 0,\n",
            "        1, 0, 1, 1, 1, 1, 0, 0, 0, 0, 0, 0, 1, 1, 0, 0, 0, 1, 0, 0, 0, 0, 1, 0,\n",
            "        0, 1, 0, 0, 0, 1, 0, 0, 1, 0, 0, 1, 1, 1, 1, 1])\n",
            "outputs:  tensor([-0.3714, -1.3016, -0.7215,  1.4536,  1.4278, -2.4012, -0.4705,  2.2106,\n",
            "         2.4365, -0.3559,  2.3511, -1.9942, -0.1386,  1.5599, -1.5416, -0.7903,\n",
            "         0.4884, -0.4216,  0.1567,  0.6835,  0.7566, -0.4693, -1.9543,  0.5689,\n",
            "         0.3377, -0.6435, -1.3600, -2.8864,  1.4009,  0.5906,  3.7197,  0.1709,\n",
            "        -1.6556,  1.6395,  0.9747,  2.1224, -0.2053,  1.1187,  1.2902,  0.1336,\n",
            "         0.1284, -1.3245,  0.1673, -0.3701, -1.1783, -0.7335,  0.4456,  0.3792,\n",
            "        -2.9053,  0.5775,  1.1069,  1.1209,  1.7956,  0.1004, -0.8601,  1.6616,\n",
            "        -0.3647,  3.6203, -0.7517, -0.5709, -0.5654, -0.0264,  0.0760,  0.1630],\n",
            "       grad_fn=<SqueezeBackward1>)\n",
            "labels:  tensor([0, 0, 1, 1, 1, 0, 1, 1, 0, 0, 1, 0, 0, 1, 0, 1, 0, 0, 1, 1, 1, 1, 0, 1,\n",
            "        1, 1, 1, 0, 1, 0, 1, 1, 1, 1, 1, 1, 0, 1, 0, 0, 0, 0, 1, 1, 0, 1, 1, 0,\n",
            "        1, 1, 1, 1, 1, 0, 0, 1, 1, 1, 0, 1, 0, 0, 1, 1])\n",
            "outputs:  tensor([-0.4492,  0.6162, -0.2961,  0.4707,  1.7763, -0.4646,  0.7317, -1.4623,\n",
            "         0.7067, -1.3497, -0.8778,  2.2359,  0.6899, -1.4751, -0.4551,  0.6477,\n",
            "         0.2801, -0.3944,  2.1843,  2.3317, -0.8366, -1.1236,  0.2498, -0.5380,\n",
            "        -0.7762, -0.3467, -0.8856,  0.1896,  1.2880, -0.3729, -1.1824, -1.7434,\n",
            "        -0.9596, -1.9865, -2.1052, -0.6241, -0.4476,  1.7556, -0.2134, -0.6234,\n",
            "         1.0655,  1.6352, -1.5620,  1.1806, -0.9320, -0.8509,  2.2816, -2.3878,\n",
            "        -0.5832,  0.1798, -0.1815, -1.3705,  0.9531, -1.3860,  0.9503,  1.1790,\n",
            "         2.8304,  0.6644, -0.7694, -0.2355,  0.9909, -0.6202,  1.7877,  0.6225],\n",
            "       grad_fn=<SqueezeBackward1>)\n",
            "labels:  tensor([0, 0, 0, 0, 1, 0, 1, 0, 0, 1, 0, 1, 0, 1, 0, 1, 1, 0, 1, 1, 0, 0, 1, 1,\n",
            "        0, 1, 0, 0, 1, 0, 0, 0, 0, 0, 1, 0, 1, 0, 1, 0, 1, 1, 0, 1, 0, 1, 1, 0,\n",
            "        0, 1, 1, 1, 0, 0, 1, 0, 0, 1, 0, 0, 0, 1, 1, 1])\n",
            "outputs:  tensor([-0.2413, -0.5364,  0.4162, -1.5304,  1.4340, -0.6409, -1.5607,  0.2562,\n",
            "        -1.0196, -2.6398, -1.5592,  0.2812,  0.2879, -1.9126,  0.8669, -0.0773,\n",
            "        -1.5739, -0.6037,  0.6507,  2.0996,  1.4405, -1.2925,  0.6049, -2.4102,\n",
            "        -0.4342, -2.0783, -0.6944, -0.5163, -0.0945,  0.7555, -0.9227, -1.6433,\n",
            "         1.1707,  0.1231, -0.1350,  3.2967, -0.0167,  1.1295, -0.2530,  0.6658,\n",
            "        -0.2339,  0.2872, -0.8208,  0.6099, -0.0239, -0.7722, -0.7461,  0.1585,\n",
            "         0.0345, -0.1027, -0.9223, -0.5701, -0.7659, -1.6512, -2.1861, -0.8482,\n",
            "        -1.8349,  1.2123, -1.3873,  2.8887, -1.2502, -0.1650,  1.9383, -1.9160],\n",
            "       grad_fn=<SqueezeBackward1>)\n",
            "labels:  tensor([0, 1, 0, 0, 1, 1, 0, 0, 0, 0, 0, 1, 1, 0, 0, 0, 1, 1, 1, 1, 1, 1, 0, 0,\n",
            "        1, 0, 1, 1, 1, 1, 1, 0, 0, 0, 1, 1, 0, 1, 0, 0, 0, 0, 0, 1, 0, 0, 0, 0,\n",
            "        1, 1, 1, 0, 1, 0, 0, 1, 0, 0, 0, 1, 0, 0, 1, 0])\n",
            "outputs:  tensor([-1.9233e+00, -1.3979e+00, -6.7095e-01,  1.8983e+00, -6.0955e-01,\n",
            "        -3.1766e-01,  7.4408e-01,  6.5550e-01,  1.3278e+00, -6.9947e-01,\n",
            "         2.3037e-02, -7.7537e-01, -6.7641e-01, -5.9379e-02, -1.6574e+00,\n",
            "        -1.8215e+00, -9.5438e-01, -1.0599e+00,  4.9175e-01,  1.1401e-01,\n",
            "        -2.6416e-01,  1.8408e+00, -1.2184e+00, -2.2849e+00, -4.3765e-01,\n",
            "        -4.0106e-01, -1.8016e+00, -2.9787e-01, -7.3622e-01, -3.6907e-04,\n",
            "         8.0400e-01,  4.2894e-02, -1.0528e+00,  3.6395e-02,  2.9297e+00,\n",
            "         2.4467e+00,  1.6938e-02,  2.4728e+00, -3.4106e-01, -4.7433e-01,\n",
            "        -2.3349e+00,  1.7799e-01, -1.8283e+00,  8.2759e-01, -4.9663e-01,\n",
            "        -6.0326e-01,  1.1423e+00,  3.4560e-01,  2.5862e+00, -5.2181e-01,\n",
            "        -8.3521e-01,  3.1372e+00,  9.3585e-01, -1.1303e+00, -2.3347e-02,\n",
            "        -1.3268e+00,  2.1077e+00, -6.2900e-01, -2.4891e+00,  1.3157e-01,\n",
            "        -1.3803e+00, -1.3036e+00,  3.5723e-01, -6.7711e-01],\n",
            "       grad_fn=<SqueezeBackward1>)\n",
            "labels:  tensor([0, 0, 0, 1, 1, 1, 0, 1, 1, 0, 0, 0, 1, 0, 1, 0, 0, 0, 1, 0, 0, 0, 1, 0,\n",
            "        0, 0, 0, 1, 0, 1, 1, 0, 0, 0, 1, 1, 0, 1, 0, 0, 0, 1, 0, 0, 1, 1, 1, 1,\n",
            "        1, 0, 1, 1, 1, 0, 1, 0, 1, 0, 0, 1, 1, 0, 1, 1])\n",
            "outputs:  tensor([-0.5175, -0.1418, -0.0173,  0.0117, -2.0682,  0.7074, -0.1020,  1.9409,\n",
            "        -1.0932, -4.5918,  0.8469, -3.3761,  2.4061, -2.8348,  1.6421, -0.4014,\n",
            "        -2.0573, -0.5395,  1.2261,  1.2457, -0.3988,  0.4121,  0.3592, -1.0220,\n",
            "        -1.8175, -1.6509,  1.4713, -1.7046,  0.7755, -2.0318,  0.0817, -1.4084,\n",
            "        -0.5001, -0.6056,  0.1706,  0.6066, -1.8936,  1.4251,  1.6935, -2.2820,\n",
            "         0.6302, -2.2527,  0.6225,  0.4751, -3.2025,  0.4375, -2.6643, -1.1505,\n",
            "        -1.8076,  1.7939,  1.7750, -1.3247, -2.6254, -0.4945,  1.9022,  0.1153,\n",
            "        -3.0289,  1.0626, -1.6637, -0.3174, -0.5096,  0.4187, -0.6888,  0.2985],\n",
            "       grad_fn=<SqueezeBackward1>)\n",
            "labels:  tensor([0, 0, 1, 1, 0, 0, 1, 1, 0, 0, 1, 0, 1, 0, 1, 1, 0, 1, 1, 0, 1, 1, 1, 0,\n",
            "        0, 0, 0, 0, 0, 0, 0, 0, 1, 0, 1, 1, 0, 1, 1, 0, 0, 1, 1, 1, 0, 1, 0, 0,\n",
            "        0, 1, 1, 0, 0, 0, 1, 1, 0, 1, 1, 0, 1, 1, 0, 1])\n",
            "outputs:  tensor([ 0.4316,  0.5071, -2.1418, -0.6778,  2.0214,  1.8117, -1.8876, -1.6374,\n",
            "        -0.6764,  0.0212,  0.2747,  1.7060, -0.7955,  0.1922, -1.8008, -0.1024,\n",
            "        -0.5654, -1.2747, -0.0677, -1.7054, -1.2593,  0.7381, -0.0526, -0.7269,\n",
            "        -0.1094,  2.1427, -0.8933, -1.5712,  0.0212, -0.3780,  0.0300,  0.9847,\n",
            "        -0.3755,  1.9133, -1.3729, -0.4874, -1.3343, -1.2558, -2.0177, -2.0330,\n",
            "         3.1721, -1.4747, -1.4257, -1.4404,  0.3885,  1.1280,  0.8485, -0.8522,\n",
            "        -0.0515,  1.2069,  0.3832, -2.3301,  1.7564,  0.0587,  2.6959, -1.1367,\n",
            "        -0.3015,  0.0951,  1.6435, -1.0817,  1.1913, -0.2571,  0.2666,  2.1277],\n",
            "       grad_fn=<SqueezeBackward1>)\n",
            "labels:  tensor([1, 1, 0, 0, 1, 1, 1, 1, 0, 0, 1, 1, 0, 1, 0, 1, 0, 1, 0, 0, 0, 0, 1, 0,\n",
            "        1, 1, 0, 0, 1, 0, 0, 1, 1, 1, 0, 0, 1, 0, 0, 0, 1, 0, 1, 0, 1, 1, 0, 1,\n",
            "        1, 1, 1, 0, 1, 1, 1, 1, 1, 1, 1, 1, 1, 0, 1, 1])\n",
            "outputs:  tensor([ 4.4478e-01, -5.9750e-01, -2.1006e-01,  6.6457e-01, -1.5056e+00,\n",
            "         2.2793e-01, -1.2375e+00, -7.9784e-01,  7.1693e-01, -1.5782e+00,\n",
            "         2.8902e+00, -5.2762e-01, -4.0564e-01, -8.5576e-01, -6.6502e-01,\n",
            "        -1.3766e+00, -2.6959e-01, -1.9336e+00,  1.3318e+00, -7.8941e-01,\n",
            "        -7.3708e-01,  1.1311e+00,  1.8171e-01, -1.2064e-01,  9.6292e-01,\n",
            "        -9.7784e-01,  1.8420e+00,  5.6717e-02, -4.1538e-01, -2.0113e-03,\n",
            "         1.4301e+00,  2.4303e+00, -7.4461e-01,  8.1371e-01, -9.5331e-01,\n",
            "         1.9446e+00,  3.8607e-02,  1.7058e+00,  1.4577e+00,  1.3487e+00,\n",
            "         4.9704e-01, -1.7784e+00,  1.1506e+00,  2.3506e+00,  5.3200e-01,\n",
            "        -1.6714e+00, -8.4715e-01,  2.4994e-01,  1.9628e+00, -2.7333e-01,\n",
            "         1.0291e+00,  8.9337e-02, -1.1303e-02, -3.4812e-01, -6.5174e-01,\n",
            "        -7.0152e-01, -5.1484e-01, -1.7107e+00,  1.7906e+00,  2.0195e+00,\n",
            "         3.3243e-01, -2.7153e+00,  1.4867e+00, -3.5082e-02],\n",
            "       grad_fn=<SqueezeBackward1>)\n",
            "labels:  tensor([0, 0, 0, 1, 0, 1, 0, 0, 1, 1, 1, 1, 0, 0, 1, 0, 1, 1, 1, 0, 0, 0, 1, 1,\n",
            "        1, 0, 1, 0, 0, 1, 0, 1, 0, 1, 0, 1, 1, 1, 1, 1, 1, 1, 1, 1, 0, 1, 0, 0,\n",
            "        1, 0, 1, 1, 0, 0, 0, 0, 0, 0, 1, 1, 1, 0, 1, 1])\n",
            "outputs:  tensor([-1.3604,  0.7666,  0.1563, -1.3308, -2.0065, -2.0649, -0.5846, -0.4466,\n",
            "        -0.6402, -0.1286, -0.2717,  0.4644,  0.0949,  1.9233, -1.1898,  2.6740,\n",
            "        -0.4644,  0.0955,  1.3804, -2.0197, -0.9416, -1.0720,  3.9044, -0.5056,\n",
            "         1.1040,  1.7767, -1.2105, -0.6543,  0.5611, -0.4833,  0.4026,  0.0063,\n",
            "        -0.3383, -4.2378,  1.0450,  0.1073, -0.6619,  1.4777, -0.3044, -2.0591,\n",
            "         1.4777, -0.7928, -0.0131, -0.3422,  5.9814,  1.3668, -0.5536,  0.5691,\n",
            "         0.8680, -0.2976, -1.6775, -2.2541,  1.7269,  2.0268, -1.0652,  1.3848,\n",
            "        -0.9979, -0.1012,  0.0832, -3.5123,  1.1930, -1.8456, -1.9620, -1.4367],\n",
            "       grad_fn=<SqueezeBackward1>)\n",
            "labels:  tensor([0, 1, 1, 0, 0, 0, 1, 0, 0, 0, 0, 1, 0, 0, 1, 1, 0, 1, 0, 0, 0, 0, 1, 1,\n",
            "        1, 1, 0, 0, 0, 0, 1, 1, 0, 0, 0, 1, 1, 1, 0, 1, 1, 0, 1, 0, 1, 0, 1, 1,\n",
            "        1, 0, 0, 0, 1, 1, 1, 1, 1, 0, 0, 0, 1, 0, 0, 0])\n",
            "outputs:  tensor([-1.4392, -0.2239, -1.5117, -1.4775, -0.1261,  1.0095, -0.2021, -0.9470,\n",
            "        -0.2269, -0.2094,  0.4680, -0.7563,  0.9873,  0.2763, -0.7000,  1.7076,\n",
            "        -1.7490,  1.5894,  0.2118, -0.4669, -1.7047, -0.6542, -0.1346,  0.4095,\n",
            "        -0.5349, -0.9105,  0.9679, -1.1006,  1.6805,  1.0243,  0.6197,  0.5597,\n",
            "        -1.3242,  1.1093, -1.3897, -0.4992, -0.7885,  1.2615, -0.4788,  0.3160,\n",
            "        -1.6742,  0.0810, -0.3052, -0.4772, -1.2753, -0.4195, -0.3467,  0.7496,\n",
            "        -0.1366,  1.1150, -0.5795, -1.4484,  1.2086,  1.0222,  1.1785, -0.1102,\n",
            "        -0.7646, -0.6922, -1.0138,  0.1530, -1.1869, -0.6616, -0.7901, -0.3911],\n",
            "       grad_fn=<SqueezeBackward1>)\n",
            "labels:  tensor([0, 1, 0, 0, 1, 1, 0, 0, 0, 1, 1, 0, 1, 1, 0, 0, 0, 0, 1, 1, 0, 0, 0, 0,\n",
            "        1, 0, 1, 0, 1, 1, 1, 1, 0, 1, 1, 0, 0, 1, 1, 0, 0, 1, 0, 1, 0, 0, 0, 1,\n",
            "        1, 0, 0, 1, 1, 1, 1, 0, 1, 0, 0, 1, 0, 0, 1, 0])\n",
            "outputs:  tensor([ 0.3445,  0.2477, -1.2852,  1.0727,  0.1837,  1.4577, -1.1618,  1.1706,\n",
            "         1.2180,  0.3938,  0.3391, -0.1664, -1.3440, -0.2314, -0.1608,  1.8044,\n",
            "        -0.6652, -0.6758,  0.2881,  0.5470,  0.0627, -1.1043, -0.8237,  1.1809,\n",
            "        -1.0174, -0.2989, -0.6328, -0.1071,  1.0322,  0.9755, -0.6675,  0.8518,\n",
            "        -0.4205,  0.9808, -0.5648, -0.1937,  0.5980, -3.9665, -0.5280,  0.5306,\n",
            "        -0.0670,  0.3445, -1.7867, -0.0624,  2.2608,  0.3962,  0.4453,  1.4725,\n",
            "        -0.5913, -0.0342,  1.9616, -1.4948, -2.0433, -1.4767,  1.0904,  1.5259,\n",
            "        -1.7412,  1.2200,  0.5335,  0.1981, -1.0917, -0.8268,  1.0474,  0.0661],\n",
            "       grad_fn=<SqueezeBackward1>)\n",
            "labels:  tensor([0, 1, 0, 1, 0, 0, 0, 0, 1, 1, 0, 0, 0, 1, 1, 1, 0, 1, 0, 1, 1, 0, 1, 1,\n",
            "        0, 1, 0, 0, 1, 0, 0, 1, 1, 1, 0, 0, 0, 0, 0, 1, 0, 1, 0, 0, 1, 0, 0, 1,\n",
            "        0, 1, 0, 0, 0, 0, 0, 1, 0, 0, 0, 0, 0, 0, 1, 1])\n",
            "outputs:  tensor([-0.3675, -0.7160, -2.6058, -1.5950, -2.1800, -0.2129,  1.2857, -0.8094,\n",
            "         1.7345, -0.8209,  0.0781,  2.0624,  0.3187, -2.1654, -2.2827, -2.7174,\n",
            "        -2.4250, -0.5553,  2.5358,  3.7337, -1.4178, -1.0017, -0.1622,  0.3003,\n",
            "         2.4580,  0.2969, -0.9184, -1.1215,  0.3882,  1.7611,  0.6965,  2.9722,\n",
            "         0.7658,  2.3099,  0.1199, -1.0471, -0.3450,  0.2590,  2.2494, -1.9845,\n",
            "        -0.2668, -0.6221,  0.8803,  1.6589,  0.2840,  1.3980,  1.7695, -0.3263,\n",
            "        -0.1623,  0.1695, -0.4108,  1.3694,  0.6383,  0.2675, -1.0238,  1.2634,\n",
            "        -0.1497,  2.6833, -0.2511, -0.0754,  1.0832,  0.4375,  0.2938,  0.6930],\n",
            "       grad_fn=<SqueezeBackward1>)\n",
            "labels:  tensor([0, 0, 0, 1, 0, 0, 1, 1, 0, 0, 1, 1, 1, 0, 0, 0, 0, 0, 1, 1, 0, 0, 1, 0,\n",
            "        1, 1, 0, 1, 0, 1, 0, 1, 1, 1, 0, 0, 1, 1, 1, 0, 0, 0, 1, 1, 1, 0, 1, 1,\n",
            "        1, 1, 0, 1, 0, 0, 0, 1, 0, 1, 1, 0, 1, 1, 1, 1])\n",
            "outputs:  tensor([-4.6227e-01,  1.5718e+00, -5.3126e-01, -2.4432e-02,  1.3396e+00,\n",
            "         1.3734e+00, -1.8309e-01, -3.5153e-01, -9.2754e-01, -1.4579e+00,\n",
            "        -1.7397e+00, -1.6950e-01, -2.6142e-01,  1.5493e+00,  4.9130e+00,\n",
            "        -5.7606e-01, -4.1663e-02, -6.3612e-01,  2.0360e-01, -2.0875e-01,\n",
            "         1.0302e+00, -7.7670e-01, -1.7006e+00,  7.5288e-01,  4.7180e-01,\n",
            "         1.9267e+00,  4.4714e-02,  1.4159e+00, -3.3344e-03,  1.0164e+00,\n",
            "        -2.2077e-01, -1.0415e+00,  3.5394e-01, -1.1577e-02, -6.8216e-02,\n",
            "         7.5674e-01, -4.5256e-01, -1.5041e-01,  4.0445e-01,  5.5712e-01,\n",
            "        -1.3437e+00,  8.1488e-01,  6.5263e-01, -1.0955e+00, -2.0354e+00,\n",
            "         1.3613e+00, -7.2330e-01, -5.8982e-01,  1.7645e+00, -2.4017e-01,\n",
            "         6.3016e-01, -1.6755e+00, -8.8551e-01,  3.3018e+00,  7.9953e-02,\n",
            "        -1.1408e+00, -1.5637e+00,  1.6752e-01, -2.0515e+00,  1.5344e-01,\n",
            "        -8.6764e-01, -9.9042e-01,  2.1779e+00, -1.5072e+00],\n",
            "       grad_fn=<SqueezeBackward1>)\n",
            "labels:  tensor([1, 0, 1, 0, 1, 1, 0, 1, 0, 0, 0, 0, 1, 1, 1, 0, 0, 1, 0, 0, 1, 0, 0, 1,\n",
            "        1, 1, 0, 1, 0, 1, 0, 0, 1, 0, 0, 1, 0, 0, 1, 1, 1, 0, 0, 0, 0, 1, 0, 0,\n",
            "        1, 0, 1, 0, 1, 1, 0, 0, 1, 1, 0, 0, 0, 0, 1, 1])\n",
            "outputs:  tensor([ 0.1697, -0.4973,  0.0352,  0.0604,  1.2694,  1.9697, -0.7203, -0.6897,\n",
            "        -0.4770,  0.6591, -0.4273, -0.9481,  1.6720, -1.6873, -0.2679,  0.2007,\n",
            "         1.3546, -0.4356,  0.2919,  2.0456, -0.8123, -0.8960,  2.9633, -0.0515,\n",
            "         3.0850,  0.2802, -0.0220, -2.8907, -1.4337, -0.9226, -0.3194,  3.2462,\n",
            "        -0.0401,  0.6473, -1.7091, -0.8983, -0.6425, -0.1833, -0.1390, -0.4100,\n",
            "        -1.5795,  0.8933, -1.6661,  0.2640,  2.1112,  0.1591, -0.1187, -0.4547,\n",
            "        -0.9065, -0.1622, -0.5279,  0.5871, -0.7363, -0.2768,  3.6736,  0.5830,\n",
            "        -0.8053,  1.4563, -1.7875, -0.2058, -0.7895,  0.8937, -0.3783, -0.7177],\n",
            "       grad_fn=<SqueezeBackward1>)\n",
            "labels:  tensor([1, 1, 1, 1, 1, 1, 0, 0, 1, 1, 0, 1, 1, 0, 0, 1, 0, 1, 1, 1, 0, 1, 1, 0,\n",
            "        1, 0, 1, 0, 0, 0, 1, 1, 0, 1, 0, 0, 1, 0, 1, 0, 1, 1, 1, 0, 1, 0, 0, 1,\n",
            "        0, 1, 1, 0, 0, 1, 1, 0, 0, 1, 0, 0, 0, 1, 1, 1])\n",
            "outputs:  tensor([ 0.0722,  1.6806, -0.3932, -3.0997, -1.4358, -0.8951,  2.5971, -0.0589,\n",
            "        -0.4902, -0.2240,  0.4302, -1.2193, -0.1203,  0.1086, -1.0316, -0.4866,\n",
            "         0.0327,  0.3307, -0.2042, -0.3993,  0.5897, -0.9908, -0.2125, -2.0605,\n",
            "        -0.1640, -1.9016, -0.6099, -0.6881, -1.0232, -1.1478, -0.0500, -1.0412,\n",
            "        -0.0048,  0.9100,  0.2672,  0.2812,  0.5761,  0.3318, -0.1897, -0.4464,\n",
            "         0.3282, -0.8000, -0.9662, -0.4268, -2.1830,  0.2068, -1.1373,  0.7747,\n",
            "        -1.2126,  0.1800,  2.1045,  0.5977, -1.5615,  0.1168, -0.5581,  0.1276,\n",
            "         0.0591, -0.5926, -1.0445, -1.2324, -0.5106,  0.1294,  0.5054,  3.1797],\n",
            "       grad_fn=<SqueezeBackward1>)\n",
            "labels:  tensor([1, 1, 0, 0, 0, 0, 1, 0, 0, 0, 0, 1, 1, 0, 1, 1, 0, 0, 1, 1, 1, 0, 0, 0,\n",
            "        0, 0, 0, 0, 0, 1, 0, 1, 0, 1, 0, 1, 0, 1, 0, 0, 0, 0, 1, 0, 0, 1, 0, 0,\n",
            "        0, 0, 1, 1, 0, 1, 1, 1, 0, 0, 0, 0, 0, 1, 1, 1])\n",
            "outputs:  tensor([-0.7668,  1.4300, -2.5414, -0.2061,  0.8694, -2.1452,  2.1305, -0.0314,\n",
            "         0.1847, -0.9891, -0.5391, -1.8299,  2.6991,  0.5810, -0.9148,  0.0792,\n",
            "        -0.9085, -0.7138,  1.1996, -1.7782, -0.4241,  3.0311,  0.1436,  1.2721,\n",
            "        -0.8571, -0.0166, -1.3233,  1.5005, -1.6216, -0.1839, -1.0882, -1.4663,\n",
            "        -2.1872,  0.0330,  1.3054, -0.1815, -2.8765,  0.6711,  0.9955,  0.8803,\n",
            "        -1.5096, -0.3862, -0.6969,  1.5995,  0.1663, -0.1787, -2.5520, -1.1908,\n",
            "        -0.5434, -0.6982,  0.2783,  0.7814,  0.7075, -2.1131, -0.2645,  1.3779,\n",
            "        -1.7173, -1.6695, -1.9227,  1.5231, -0.3213, -0.8878, -0.1253, -0.6627],\n",
            "       grad_fn=<SqueezeBackward1>)\n",
            "labels:  tensor([0, 1, 0, 0, 1, 0, 1, 0, 0, 1, 0, 0, 1, 1, 0, 1, 0, 0, 1, 0, 0, 1, 1, 1,\n",
            "        0, 1, 0, 1, 0, 1, 0, 0, 0, 0, 1, 0, 0, 1, 0, 0, 0, 0, 1, 1, 1, 1, 1, 0,\n",
            "        0, 1, 1, 1, 1, 0, 0, 1, 0, 0, 0, 1, 1, 0, 1, 1])\n",
            "outputs:  tensor([ 0.3539, -0.5772,  0.7862, -1.1574, -0.5544,  0.0630, -1.9039, -0.7338,\n",
            "         1.1908, -0.8697,  2.7990, -0.1756, -1.9488,  0.9513, -1.2406,  1.5292,\n",
            "         1.3074, -0.4215, -3.3508,  1.4957,  2.4054,  1.0292,  2.2669,  1.9806,\n",
            "        -1.7479, -2.6114,  0.0135,  1.0204,  0.1398, -0.5890,  0.7924,  2.2460,\n",
            "        -0.2550,  0.9318, -1.2190, -0.5194, -1.5495, -1.6688,  0.6212,  0.2634,\n",
            "         0.6124,  0.2225, -0.7209, -0.3449, -0.5973,  1.0979,  0.8443,  1.1468,\n",
            "         1.3364,  3.5246,  0.2751, -0.1677,  0.8875, -0.2915,  0.4499, -0.5980,\n",
            "        -0.3783, -0.4786, -0.0796, -1.6106, -1.2324, -1.1201, -1.9715, -2.6068],\n",
            "       grad_fn=<SqueezeBackward1>)\n",
            "labels:  tensor([1, 1, 1, 0, 0, 1, 0, 0, 1, 0, 1, 0, 0, 0, 0, 1, 1, 1, 0, 0, 1, 1, 1, 1,\n",
            "        1, 0, 1, 0, 0, 0, 1, 1, 1, 1, 0, 0, 0, 1, 0, 0, 0, 1, 1, 0, 0, 1, 1, 0,\n",
            "        0, 1, 0, 1, 1, 0, 0, 1, 1, 1, 0, 0, 0, 0, 0, 0])\n",
            "outputs:  tensor([ 1.2421, -1.6261, -1.5017, -1.8402,  1.3021, -0.8909,  1.2658, -0.9804,\n",
            "         0.0836,  0.1680, -1.5994,  0.1993,  0.2063,  0.1360,  0.8803,  1.1042,\n",
            "        -1.5972, -0.4860, -0.4348, -1.1817,  0.1668,  1.1420, -0.8512, -0.3637,\n",
            "        -0.2208,  2.1508, -0.5458,  0.7276,  1.7693,  0.6207,  0.5342,  0.4012,\n",
            "        -0.7845, -0.0187, -1.2996,  1.8048, -0.8358,  1.8005, -0.2142, -0.0775,\n",
            "         0.9410, -1.9836, -1.7689, -1.0916,  1.0545, -0.6359,  0.4219, -0.1416,\n",
            "         0.1601,  0.0108,  1.2602, -0.8425, -0.3982,  0.5184, -1.4636, -0.6923,\n",
            "        -0.5860,  0.3104, -0.6128, -0.4652,  1.0079, -0.9944, -0.5994, -0.0507],\n",
            "       grad_fn=<SqueezeBackward1>)\n",
            "labels:  tensor([1, 1, 0, 0, 0, 0, 1, 0, 0, 1, 1, 1, 1, 1, 1, 1, 0, 1, 0, 0, 1, 1, 0, 1,\n",
            "        0, 1, 0, 1, 1, 0, 1, 1, 0, 1, 1, 1, 0, 1, 1, 0, 0, 0, 1, 0, 1, 1, 1, 1,\n",
            "        1, 1, 1, 0, 0, 1, 0, 1, 1, 1, 0, 0, 1, 0, 0, 1])\n",
            "outputs:  tensor([ 1.2843,  1.3605, -1.2841, -1.3972,  0.2454, -0.7191,  0.8101, -1.6461,\n",
            "         0.6073,  0.0188, -2.5676,  2.1563, -0.3565, -0.3770,  0.3292, -0.3115,\n",
            "         0.0606, -1.0272, -0.3603,  1.9824,  0.7161, -1.3881,  0.4053,  0.1110,\n",
            "         0.6095,  1.2739,  0.7303, -0.6957,  1.5337,  0.5117,  0.8867, -0.4409,\n",
            "         1.5176, -0.7848, -0.5835,  1.0515,  0.6561,  2.3176,  0.6295, -0.0891,\n",
            "        -2.3180,  2.8169, -0.6031,  0.7280, -0.9102, -1.5693,  0.7625, -0.1571,\n",
            "         0.7092,  1.7268, -1.2542,  0.5929, -0.6239,  0.0232, -0.1283, -0.7558,\n",
            "         0.8110, -0.1780,  0.6578, -1.8788,  0.9791,  0.1695,  0.6618,  0.5160],\n",
            "       grad_fn=<SqueezeBackward1>)\n",
            "labels:  tensor([1, 1, 0, 0, 1, 1, 1, 0, 1, 1, 0, 1, 1, 0, 1, 0, 0, 1, 0, 1, 1, 0, 1, 0,\n",
            "        1, 1, 0, 0, 0, 0, 0, 0, 0, 0, 0, 0, 1, 1, 1, 0, 0, 1, 1, 0, 0, 0, 0, 1,\n",
            "        1, 1, 0, 1, 0, 0, 0, 0, 0, 0, 1, 0, 0, 0, 0, 1])\n",
            "outputs:  tensor([ 1.2429e+00,  7.0307e-01,  4.3242e-01, -2.6075e-01, -1.7454e+00,\n",
            "         2.8156e-01,  2.0386e-01,  1.3556e-01,  2.5048e+00, -3.2422e-01,\n",
            "        -7.1662e-01, -3.5301e-01, -1.5323e+00, -6.0412e-01,  2.1696e+00,\n",
            "        -1.6574e+00, -7.7004e-01,  1.6897e+00, -1.0828e+00,  1.7316e-01,\n",
            "         5.7228e-01,  1.9326e-01, -7.9536e-01,  9.6022e-02,  5.6241e-01,\n",
            "        -1.0512e+00, -1.6255e-01,  1.1419e+00, -3.3381e-01, -1.8975e-01,\n",
            "         1.9614e-01, -8.7103e-01, -7.3375e-01, -4.4067e-01,  1.4325e+00,\n",
            "        -6.3793e-01, -5.2309e-01,  2.4755e-01, -7.0972e-01, -1.3670e+00,\n",
            "        -1.9845e+00,  1.3071e+00,  1.6150e+00,  1.2553e-01, -3.9759e-01,\n",
            "        -8.1477e-01,  2.6850e-01,  1.6049e-03,  2.4956e+00,  1.0231e+00,\n",
            "        -1.2826e-01, -1.4477e+00,  1.1281e+00, -1.3030e+00, -2.3991e-01,\n",
            "         2.6785e-01,  4.1509e-01, -8.4869e-01, -4.4077e-01, -4.7687e-01,\n",
            "         1.1599e+00,  1.1325e+00, -1.0037e+00,  3.2170e-01],\n",
            "       grad_fn=<SqueezeBackward1>)\n",
            "labels:  tensor([1, 1, 0, 0, 0, 1, 0, 0, 0, 0, 1, 1, 1, 0, 0, 1, 0, 1, 1, 1, 1, 0, 1, 0,\n",
            "        1, 1, 0, 1, 1, 1, 1, 0, 1, 0, 1, 0, 1, 1, 0, 1, 0, 1, 1, 0, 0, 0, 0, 1,\n",
            "        1, 0, 0, 0, 1, 0, 1, 1, 0, 1, 0, 0, 1, 1, 0, 1])\n",
            "outputs:  tensor([ 1.3008e+00,  5.3297e-01, -1.0659e+00,  2.3875e+00, -1.0059e+00,\n",
            "         5.0979e-01,  1.4326e-02,  6.1778e-03, -1.4388e+00,  2.8384e-01,\n",
            "        -1.4116e-01, -2.4378e+00, -1.4089e+00, -1.6280e+00,  9.9798e-01,\n",
            "         1.2230e+00,  4.1549e-01, -6.0803e-01, -1.0499e+00,  3.0353e+00,\n",
            "        -1.4404e+00, -8.0653e-01,  2.7028e+00, -1.1236e+00, -2.3320e-01,\n",
            "         1.7138e-02, -5.6771e-02,  5.1626e-01, -9.5439e-01,  3.3721e+00,\n",
            "         5.1151e-01,  2.7844e-01, -1.6737e+00,  1.3148e-01,  1.1117e+00,\n",
            "        -1.9665e+00, -1.2549e+00,  3.3750e+00,  3.8227e-01,  3.1161e-03,\n",
            "        -6.2770e-01, -1.7362e+00, -1.6627e+00,  3.2084e-01, -2.1405e-01,\n",
            "         3.9852e-01, -1.4723e+00, -5.2465e-01, -1.9058e-01, -1.3783e+00,\n",
            "         9.2330e-01, -3.4223e-01, -5.5007e-01, -1.4086e+00, -8.4364e-01,\n",
            "         5.3567e-02,  8.0440e-01,  5.8012e-01, -7.6541e-01, -2.1888e+00,\n",
            "         7.5005e-01, -1.0029e+00, -6.7903e-01,  3.8997e-01],\n",
            "       grad_fn=<SqueezeBackward1>)\n",
            "labels:  tensor([1, 0, 0, 1, 0, 1, 0, 0, 0, 0, 1, 0, 0, 0, 1, 1, 1, 0, 0, 1, 0, 1, 1, 1,\n",
            "        1, 1, 1, 0, 1, 1, 0, 1, 0, 0, 1, 0, 1, 1, 0, 0, 1, 1, 0, 0, 1, 1, 0, 0,\n",
            "        1, 0, 1, 0, 0, 1, 1, 1, 1, 1, 0, 0, 1, 0, 1, 0])\n",
            "outputs:  tensor([ 1.2602,  0.5650,  0.7088,  1.3135, -0.7040,  0.9046, -0.2577,  0.0527,\n",
            "         3.3074,  0.2517,  0.6384,  1.0156,  0.9354,  2.0749,  1.2812,  1.9344,\n",
            "        -0.2885,  1.1513,  2.5119,  3.8585, -0.9756, -0.8046, -1.3462, -0.8344,\n",
            "        -1.1730,  1.4384, -0.7175, -1.5328,  1.3374, -0.1842, -0.4867,  0.5182,\n",
            "         0.1388,  1.8152,  2.0445,  0.2552, -1.4914, -0.8239,  1.1078,  1.7335,\n",
            "        -1.0224,  2.5315, -1.4048,  0.7137,  0.0474, -0.3936,  0.5827, -0.6022,\n",
            "        -1.2302,  0.8190, -0.6044, -1.0031,  0.7380,  1.0587, -1.4723,  1.4978,\n",
            "        -0.6944, -1.6412,  1.3145,  1.8623, -0.5426, -1.3151,  2.5202,  0.8396],\n",
            "       grad_fn=<SqueezeBackward1>)\n",
            "labels:  tensor([1, 1, 1, 1, 0, 1, 0, 1, 1, 0, 0, 0, 0, 1, 0, 1, 0, 1, 0, 1, 1, 0, 1, 1,\n",
            "        0, 0, 0, 1, 1, 0, 1, 0, 0, 1, 1, 1, 0, 0, 0, 1, 0, 0, 0, 1, 1, 0, 1, 0,\n",
            "        0, 1, 0, 0, 1, 1, 1, 1, 0, 0, 0, 0, 0, 0, 1, 1])\n",
            "outputs:  tensor([ 0.3185, -1.0923,  0.3483,  1.1429,  0.1890, -0.0576,  0.6348, -0.3249,\n",
            "        -0.4232, -0.1765,  1.5081, -0.8872,  0.8326,  1.1286,  0.0594,  2.3178,\n",
            "        -1.3912,  1.6059,  0.0801, -1.0768, -0.3902,  0.1268,  0.5383,  0.3132,\n",
            "        -0.2584, -1.4377,  1.8151, -0.8779,  3.0299, -0.1289, -2.6650,  1.0415,\n",
            "         1.1979,  0.1893, -0.8346,  0.2522, -2.3631,  0.4427, -0.9230,  0.6738,\n",
            "         0.5084, -0.5323, -0.1200, -0.9565, -0.7565, -0.6899,  2.5277,  1.8625,\n",
            "         0.5193, -1.8667, -2.4458,  1.7980, -0.2003,  2.4689,  2.6151, -0.7403,\n",
            "        -0.2566,  0.3920,  0.2082, -0.0653, -1.9586, -0.6244, -1.8999, -0.0658],\n",
            "       grad_fn=<SqueezeBackward1>)\n",
            "labels:  tensor([0, 0, 1, 1, 1, 1, 0, 1, 0, 1, 0, 0, 1, 1, 1, 1, 0, 1, 1, 0, 1, 1, 1, 1,\n",
            "        0, 1, 0, 0, 1, 0, 0, 1, 1, 1, 0, 0, 0, 0, 0, 1, 1, 0, 1, 0, 0, 0, 1, 1,\n",
            "        0, 0, 0, 1, 1, 1, 1, 0, 0, 1, 0, 0, 0, 0, 0, 1])\n",
            "outputs:  tensor([ 1.9014,  2.3847,  0.3332, -0.9854,  2.0480,  2.7669, -0.4007, -1.1261,\n",
            "        -1.0547,  2.5171,  1.8671,  2.4582,  0.5243,  2.3699, -0.6172, -0.3915,\n",
            "         1.5041,  1.5114, -0.7762,  2.5103, -0.3612,  0.7546,  0.0145,  1.4442,\n",
            "         0.2235, -1.5916,  0.6938,  1.3222,  0.9048, -0.1382,  2.3510,  0.4613,\n",
            "         0.2153, -0.8152, -1.0179, -0.1138, -1.7836,  0.6906,  1.1478, -0.8400,\n",
            "        -0.0663, -1.1865,  3.2955, -1.4603,  1.2971,  2.0683,  0.6303,  2.8139,\n",
            "        -1.0617,  0.0598,  0.6528,  0.2558,  0.8844, -1.3761,  0.9612,  0.2633,\n",
            "         0.5946, -2.9431, -0.5442, -0.9849,  1.7115, -0.4371, -1.3402,  0.9241],\n",
            "       grad_fn=<SqueezeBackward1>)\n",
            "labels:  tensor([1, 1, 1, 1, 1, 1, 0, 0, 1, 1, 1, 1, 0, 1, 0, 0, 1, 1, 0, 1, 1, 0, 0, 0,\n",
            "        1, 0, 1, 1, 0, 0, 1, 0, 1, 0, 1, 1, 0, 1, 1, 0, 0, 0, 1, 0, 1, 1, 1, 1,\n",
            "        0, 1, 1, 0, 1, 0, 1, 0, 1, 0, 0, 0, 0, 1, 1, 1])\n",
            "outputs:  tensor([ 0.6140, -0.1404, -0.0996, -3.8629, -1.8121,  1.2161, -2.5082,  0.6942,\n",
            "         0.7438,  0.2807, -0.5231, -0.3852,  0.1588,  0.5379, -0.9862,  2.9429,\n",
            "         0.6762, -0.5279,  1.0228, -2.1859,  0.4173,  0.3241,  0.0301,  1.2598,\n",
            "         1.7692,  0.6904,  1.3328,  0.0732, -1.0885,  0.2155, -0.5934,  0.2068,\n",
            "        -0.6788,  0.0786, -0.4766, -1.3896, -0.1530,  0.7656, -0.2655, -1.7123,\n",
            "         1.5095,  1.0279,  0.7465,  0.5248, -1.2425, -0.1412,  0.9642, -0.0727,\n",
            "         1.9348, -1.5411,  0.9989, -1.5049,  2.3956,  2.1664,  0.3382,  0.6957,\n",
            "         0.3632, -0.1527, -0.9283, -0.0889,  0.1583, -0.4275,  0.7907, -2.0108],\n",
            "       grad_fn=<SqueezeBackward1>)\n",
            "labels:  tensor([1, 1, 1, 0, 0, 1, 0, 1, 1, 1, 0, 0, 0, 1, 0, 1, 1, 0, 0, 0, 1, 1, 1, 0,\n",
            "        1, 0, 1, 0, 0, 1, 0, 0, 0, 1, 0, 0, 0, 1, 1, 0, 1, 1, 0, 1, 0, 0, 1, 1,\n",
            "        1, 0, 1, 0, 1, 0, 1, 0, 1, 1, 0, 1, 1, 0, 1, 0])\n",
            "outputs:  tensor([-1.6139,  0.9302, -0.7328, -0.2580, -0.2839, -0.4323, -1.6712, -1.0905,\n",
            "         0.3379,  0.4188, -1.2106, -0.4716, -0.3502, -1.5043,  1.4145,  0.4608,\n",
            "        -0.5038, -0.5184,  0.1220,  2.5977,  0.0750, -0.5405, -0.8988,  0.0610,\n",
            "        -0.7235, -1.0384, -0.5099,  1.8349,  0.4052,  1.3657, -0.8562, -0.6413,\n",
            "         1.6406, -0.7280, -1.0200,  0.4459, -0.8423, -1.3536,  1.1664,  1.7367,\n",
            "        -0.6090, -0.2795,  2.2701,  2.3100, -0.8186,  0.8301,  0.5993,  2.5314,\n",
            "         0.8449,  0.5995,  1.7699,  4.0646,  0.8502, -0.0565, -0.0368, -2.9241,\n",
            "        -0.0840,  0.5106, -1.6291,  0.0540, -0.5660,  1.3567,  1.3680, -1.1078],\n",
            "       grad_fn=<SqueezeBackward1>)\n",
            "labels:  tensor([0, 1, 1, 1, 0, 0, 1, 0, 0, 1, 0, 1, 0, 0, 1, 0, 0, 0, 0, 1, 1, 1, 0, 1,\n",
            "        1, 1, 1, 1, 0, 1, 1, 1, 0, 0, 1, 1, 1, 0, 0, 0, 1, 0, 1, 1, 0, 1, 0, 1,\n",
            "        1, 0, 1, 1, 1, 0, 1, 0, 1, 1, 0, 0, 0, 1, 1, 0])\n",
            "outputs:  tensor([-1.2050,  1.1390, -1.5406,  0.7123,  0.4962,  1.0957,  1.6587, -0.8904,\n",
            "         1.0521, -0.6833,  2.0653, -0.6695, -0.1276,  1.5849,  0.5006,  1.3298,\n",
            "         0.0777, -1.0724, -2.0403,  0.7838,  0.9342,  0.8983, -0.0138, -0.3686,\n",
            "        -1.1996,  1.1765, -0.2390,  0.9148, -1.3992, -1.8474,  1.0586, -0.5190,\n",
            "        -0.7806, -0.5145,  1.4493, -0.7599, -0.1112, -1.3657, -0.4672,  0.8724,\n",
            "         1.0211, -0.2364,  0.8313,  1.6426, -1.6763, -0.4387,  1.1661,  0.5750,\n",
            "        -0.8806,  0.0856,  0.2433, -1.1588,  3.5949,  0.5733, -0.4532, -0.4878,\n",
            "         0.0322, -0.3469,  3.7150,  0.4646,  1.4270, -0.2715,  0.5984,  3.0809],\n",
            "       grad_fn=<SqueezeBackward1>)\n",
            "labels:  tensor([0, 1, 1, 1, 1, 0, 1, 0, 1, 1, 1, 0, 0, 0, 0, 1, 1, 0, 0, 0, 1, 1, 0, 0,\n",
            "        0, 1, 0, 1, 0, 1, 1, 0, 0, 1, 1, 0, 0, 0, 0, 1, 1, 0, 1, 1, 0, 0, 0, 0,\n",
            "        0, 1, 0, 0, 1, 0, 0, 1, 0, 0, 1, 1, 1, 1, 0, 1])\n",
            "outputs:  tensor([-1.7532e+00, -7.7205e-01, -6.7183e-01,  7.1229e-01,  2.1718e-01,\n",
            "         1.8755e+00,  8.0416e-01,  7.4362e-02,  2.0435e+00, -1.0645e+00,\n",
            "         6.7001e-01,  2.5667e-01,  5.5687e-01, -1.4065e+00,  1.0307e+00,\n",
            "         4.0378e-01, -3.6285e-01,  2.4660e-01, -1.9366e+00,  1.8556e+00,\n",
            "         5.0162e-01,  2.1409e-01,  2.3096e-01,  9.2651e-01,  1.2384e+00,\n",
            "        -2.4378e-01, -1.2688e+00, -1.6391e+00,  1.8997e+00,  8.4977e-01,\n",
            "         3.1667e-02, -4.9623e-02,  2.9098e+00, -8.2276e-01,  1.6311e+00,\n",
            "        -2.9498e-01, -1.7096e+00, -8.5691e-01,  2.1890e-01,  2.0559e+00,\n",
            "        -1.2626e-01, -2.4599e-01, -1.5689e+00,  3.3213e+00, -3.8883e-01,\n",
            "        -1.1006e+00,  2.9919e-01, -2.1386e+00, -2.4678e+00, -7.3939e-02,\n",
            "        -1.8967e-03, -2.1614e-01,  1.5710e-01, -1.8385e-01, -1.6398e-02,\n",
            "         2.3700e+00,  1.2849e+00, -3.1822e-01, -9.2560e-01, -1.0701e+00,\n",
            "        -8.9189e-01, -1.1588e+00, -6.5491e-01, -3.7763e-02],\n",
            "       grad_fn=<SqueezeBackward1>)\n",
            "labels:  tensor([0, 0, 0, 0, 1, 1, 1, 1, 1, 0, 1, 0, 1, 0, 0, 0, 1, 1, 0, 1, 0, 1, 0, 1,\n",
            "        1, 0, 0, 0, 0, 1, 1, 0, 1, 1, 1, 0, 0, 1, 0, 1, 0, 0, 0, 1, 1, 0, 0, 0,\n",
            "        0, 0, 0, 1, 0, 0, 1, 1, 1, 1, 0, 0, 0, 0, 0, 1])\n",
            "outputs:  tensor([-0.3701, -0.1895, -1.4080,  1.0722, -0.1303,  1.0826,  1.2758, -1.2073,\n",
            "        -0.4493,  2.3319, -0.8761, -1.6434, -0.9149,  2.4742, -1.4125, -1.1533,\n",
            "         1.7690, -2.1263,  1.3694,  1.2997,  2.1698, -0.4179, -0.4137,  1.4412,\n",
            "        -0.7163,  0.8337, -0.2837, -0.9314, -0.3125,  0.0785, -0.1230, -1.5392,\n",
            "         0.3685,  0.6869, -0.7699, -1.5395, -1.7178, -0.5657,  1.9944,  0.7195,\n",
            "        -0.3954, -0.1503,  2.5383, -1.6497,  0.7991,  0.5866, -1.5652, -0.1117,\n",
            "        -1.4349,  0.6254, -1.4319, -1.2737, -1.7396,  2.4183, -1.0763,  1.3701,\n",
            "         0.6741, -0.2726, -1.2365,  1.5868, -1.3420, -0.8777, -0.3076, -1.5461],\n",
            "       grad_fn=<SqueezeBackward1>)\n",
            "labels:  tensor([0, 1, 1, 1, 0, 1, 1, 0, 0, 1, 1, 0, 0, 1, 0, 1, 1, 0, 1, 1, 1, 0, 1, 1,\n",
            "        1, 0, 0, 0, 1, 0, 0, 0, 1, 1, 0, 0, 0, 0, 1, 1, 1, 0, 1, 1, 1, 1, 0, 1,\n",
            "        0, 1, 0, 0, 0, 1, 1, 1, 1, 1, 0, 1, 0, 0, 0, 0])\n",
            "outputs:  tensor([-1.3943,  0.3975,  1.0928, -0.5755, -0.6303,  1.0745, -0.0610,  1.5009,\n",
            "         0.4448,  1.5742, -1.3508,  0.4650, -1.1689, -0.1709, -0.8449,  0.7191,\n",
            "         1.2299, -0.6053,  0.2249, -1.1851,  0.9149, -1.0249,  0.7991,  0.5015,\n",
            "         2.2474, -0.1116, -1.3165,  2.1498, -2.4835,  0.3306, -0.0668, -0.9118,\n",
            "        -1.8348,  1.4331,  0.1897, -0.7432, -1.3258,  0.9119, -0.8905,  0.6093,\n",
            "        -0.3690, -0.6268, -1.2305,  0.0295,  0.0538, -0.9290, -0.1145,  1.5252,\n",
            "        -0.4333,  1.4763, -1.2526,  0.1536, -0.2357,  1.5278, -1.2373, -2.4452,\n",
            "        -0.4747, -0.1569,  0.3921, -0.6179, -0.5499, -0.1929, -0.1858,  0.2929],\n",
            "       grad_fn=<SqueezeBackward1>)\n",
            "labels:  tensor([0, 0, 0, 0, 1, 1, 0, 1, 1, 1, 1, 1, 0, 0, 0, 1, 1, 1, 1, 0, 1, 0, 0, 1,\n",
            "        1, 1, 0, 1, 1, 0, 1, 0, 0, 1, 1, 1, 0, 0, 0, 1, 0, 1, 0, 0, 1, 0, 1, 1,\n",
            "        1, 1, 0, 0, 0, 1, 1, 0, 0, 0, 1, 0, 0, 1, 0, 1])\n",
            "outputs:  tensor([-0.3067,  0.0571, -0.0230,  0.6642, -1.8651,  1.5188,  1.0164, -0.9392,\n",
            "        -2.6079, -0.4318,  1.8946,  0.9726, -1.7744, -1.5087,  2.7041, -1.9800,\n",
            "        -2.5005, -0.0343, -0.2198, -0.2852, -0.8854,  0.5240, -0.3865, -0.2504,\n",
            "         0.0333,  0.5082, -1.8258,  0.0215,  0.4294, -0.5672, -0.3884,  2.0435,\n",
            "        -1.0573,  1.2263,  1.2218, -0.1356,  0.9405, -1.1385,  0.6863, -1.2757,\n",
            "        -0.2312,  0.3438,  2.0769,  1.8245, -1.8773, -0.9927, -0.7398, -1.3710,\n",
            "         0.2566,  0.9980, -0.1006, -0.1524,  0.7995,  0.0931,  1.6315,  0.0754,\n",
            "        -0.5813, -0.3400, -1.1316, -0.8299,  0.7853, -0.8253, -0.7947,  2.0844],\n",
            "       grad_fn=<SqueezeBackward1>)\n",
            "labels:  tensor([0, 1, 1, 1, 0, 1, 0, 0, 0, 1, 1, 1, 0, 0, 1, 0, 0, 0, 1, 0, 0, 0, 0, 0,\n",
            "        1, 0, 0, 1, 0, 0, 0, 1, 0, 1, 1, 1, 1, 0, 1, 0, 0, 0, 1, 1, 0, 0, 0, 1,\n",
            "        0, 1, 1, 0, 1, 0, 1, 1, 0, 0, 1, 0, 1, 0, 0, 1])\n",
            "outputs:  tensor([-0.9420,  1.3146, -0.1353, -0.9173, -0.2639, -0.8311,  0.1443, -0.7820,\n",
            "        -0.8129,  2.8072,  0.0936,  1.4996,  0.1319, -0.9874, -0.0085, -0.6204,\n",
            "        -2.0419,  3.1220, -0.7056,  0.1720, -0.5347,  0.5300, -0.8568,  0.4937,\n",
            "        -0.8825,  1.1201, -1.3107,  0.0734, -0.6158, -0.5482,  0.7050, -0.1200,\n",
            "         0.4299, -2.7612, -0.0580,  1.9149,  1.5681,  0.1755,  1.1967, -0.6632,\n",
            "        -0.0678, -0.9745,  0.3793,  1.1182, -4.2519, -1.0081,  0.2519,  0.9047,\n",
            "         2.2616, -2.3098, -0.3550, -0.4112, -1.3582,  0.3396,  0.6898,  0.5726,\n",
            "        -1.3295,  0.1505,  1.0869,  0.0550, -0.9999,  0.1817,  0.9321,  1.6540],\n",
            "       grad_fn=<SqueezeBackward1>)\n",
            "labels:  tensor([0, 1, 1, 1, 0, 0, 1, 0, 0, 1, 0, 1, 0, 0, 0, 0, 0, 1, 0, 0, 0, 1, 0, 0,\n",
            "        0, 0, 0, 1, 1, 0, 0, 0, 0, 1, 1, 1, 1, 1, 0, 0, 0, 0, 0, 1, 0, 0, 1, 1,\n",
            "        1, 0, 0, 1, 0, 1, 1, 1, 1, 1, 1, 0, 0, 1, 0, 1])\n",
            "outputs:  tensor([ 1.8114, -1.0781, -0.4048,  0.2198, -1.7872, -0.4292, -0.0809, -2.2356,\n",
            "        -0.6520, -1.8576,  0.3966, -0.1745, -1.1248, -0.5244,  0.4739,  0.7876,\n",
            "        -0.2002,  0.3764, -0.2068, -0.8531, -1.6011,  0.9000, -1.0977,  0.3844,\n",
            "        -0.6050,  0.2519,  1.2534, -0.0627, -0.7992,  0.7516, -0.2786,  1.1855,\n",
            "         1.2978,  2.5654, -1.1244,  0.3278, -1.6039, -1.0451, -1.9800,  0.9624,\n",
            "         0.2833, -0.9672, -0.1720, -0.2899,  1.9408, -0.9700,  0.0701,  1.3300,\n",
            "        -1.4660, -0.2121,  0.5602,  1.1052,  0.0574, -0.6719,  2.6602,  0.3176,\n",
            "         0.5515,  0.8548, -1.2831, -1.6088, -0.5097,  0.3812, -0.8111,  2.7384],\n",
            "       grad_fn=<SqueezeBackward1>)\n",
            "labels:  tensor([1, 0, 0, 1, 0, 0, 1, 0, 0, 0, 1, 0, 0, 0, 1, 1, 0, 0, 0, 0, 0, 1, 0, 0,\n",
            "        0, 0, 0, 0, 0, 1, 1, 1, 1, 1, 0, 1, 1, 0, 0, 0, 1, 0, 1, 0, 0, 0, 1, 1,\n",
            "        0, 1, 1, 0, 0, 0, 1, 0, 1, 0, 1, 1, 0, 1, 0, 1])\n",
            "outputs:  tensor([ 0.4251, -1.2731, -1.0792, -2.5685, -0.2765, -1.7054, -0.8923, -0.2235,\n",
            "        -1.7116, -1.3374,  1.1966, -1.4655,  0.3552,  0.0989, -2.8418, -0.5815,\n",
            "         0.0448,  2.8619,  1.7881,  0.6831, -2.0670,  0.0085,  1.8036, -0.9194,\n",
            "         1.1857, -0.3130, -0.7272, -0.2057, -0.4758, -1.1550,  2.1101,  0.9358,\n",
            "        -2.1585, -1.2051,  0.2180, -2.5048,  2.9599, -1.3439, -1.7822, -0.2297,\n",
            "         2.6648, -1.6192, -2.1201,  0.7830,  0.2652, -0.1479,  0.0436,  0.1959,\n",
            "         0.3256, -1.6595, -0.2225, -1.6018,  0.0923, -1.2233, -2.2966, -2.1616,\n",
            "        -0.8373, -0.4780, -1.9490,  1.9095, -0.4310,  0.0693,  0.1069, -0.9221],\n",
            "       grad_fn=<SqueezeBackward1>)\n",
            "labels:  tensor([0, 0, 0, 0, 1, 0, 1, 0, 1, 1, 1, 0, 1, 1, 0, 1, 1, 1, 1, 0, 0, 1, 0, 0,\n",
            "        1, 0, 0, 0, 0, 0, 1, 1, 1, 0, 0, 1, 1, 0, 0, 0, 1, 0, 0, 0, 1, 1, 1, 0,\n",
            "        1, 0, 1, 0, 1, 0, 0, 0, 0, 1, 0, 1, 0, 1, 0, 0])\n",
            "outputs:  tensor([ 0.5759, -1.4840, -2.0373, -1.9876,  0.1644,  1.8415, -0.7495,  1.1207,\n",
            "         0.3477,  2.2698,  1.3768, -1.6230, -0.0708, -0.3896,  1.3829, -2.2464,\n",
            "        -0.8956,  1.3728, -2.4686,  1.3060, -1.3533,  0.9251,  1.2240, -1.6853,\n",
            "        -1.5860,  1.8047,  1.2013, -0.0822, -0.6455,  1.6096, -1.4245, -3.5406,\n",
            "        -0.1132, -0.7269, -1.6831,  2.4478, -1.8275, -0.2021, -1.4433, -0.7609,\n",
            "         4.1702, -0.3367,  2.5192, -0.4858,  0.6026, -1.1985,  0.0259, -1.9387,\n",
            "         1.8566, -0.5273,  2.2668, -0.9172, -1.2148,  1.3143,  0.3357, -0.7000,\n",
            "         0.3571, -1.5789, -0.5330, -0.8557,  0.1238, -1.2739,  1.0293,  1.4363],\n",
            "       grad_fn=<SqueezeBackward1>)\n",
            "labels:  tensor([0, 0, 1, 1, 1, 1, 1, 1, 1, 1, 0, 0, 1, 0, 1, 0, 0, 1, 1, 1, 0, 1, 0, 0,\n",
            "        0, 0, 0, 0, 0, 1, 0, 0, 1, 0, 0, 1, 0, 1, 0, 0, 1, 1, 1, 0, 0, 1, 1, 0,\n",
            "        1, 0, 1, 1, 0, 1, 0, 0, 1, 0, 1, 0, 0, 0, 0, 1])\n",
            "outputs:  tensor([-1.1099e+00, -1.2170e+00, -7.6158e-01, -6.1671e-01, -4.1428e-01,\n",
            "        -1.0880e+00, -2.2979e+00, -2.6832e+00,  1.2217e+00, -6.8718e-01,\n",
            "        -1.7794e+00,  9.4941e-01, -1.1575e+00,  9.9274e-01, -2.9212e-01,\n",
            "        -1.2421e+00,  1.0394e+00, -1.7323e+00,  6.9943e-01,  1.2122e+00,\n",
            "         8.2589e-01, -1.9694e-01,  1.5988e-02, -3.5099e+00, -9.0439e-02,\n",
            "         2.5211e-01,  1.7259e+00,  4.8688e-01, -6.0104e-01, -3.1111e+00,\n",
            "        -1.3060e+00,  1.7156e-01,  4.9232e-02,  1.2901e+00,  1.3868e+00,\n",
            "         3.5314e-02,  2.0477e+00,  7.0307e-01,  1.9704e+00,  1.2349e+00,\n",
            "        -1.3539e+00, -2.7652e-01,  2.4606e-03, -6.8110e-01,  1.2139e+00,\n",
            "         1.1423e+00, -2.7930e-01, -1.4381e+00,  8.3114e-01, -8.3570e-01,\n",
            "        -1.6147e+00,  1.9598e-01, -3.2816e-01, -1.6099e+00, -1.2508e+00,\n",
            "         1.1292e+00,  7.7253e-01,  1.8746e+00,  5.3487e-01,  2.6557e-01,\n",
            "        -3.9690e-01, -5.4649e-01, -1.1247e-01, -1.0097e+00],\n",
            "       grad_fn=<SqueezeBackward1>)\n",
            "labels:  tensor([0, 0, 0, 0, 0, 0, 0, 0, 1, 1, 0, 1, 1, 1, 0, 0, 1, 0, 1, 1, 1, 1, 1, 0,\n",
            "        1, 0, 1, 1, 0, 0, 0, 1, 1, 1, 1, 1, 1, 1, 1, 1, 0, 1, 1, 0, 1, 1, 0, 0,\n",
            "        1, 0, 0, 1, 0, 0, 0, 1, 0, 1, 1, 1, 1, 1, 0, 0])\n",
            "outputs:  tensor([-0.1424, -0.0300,  1.3508,  1.3504, -0.4593,  0.0404, -0.2109, -0.7365,\n",
            "         0.4521, -0.6328, -1.4060,  0.7656, -0.7893, -2.1475, -0.3854, -0.8468,\n",
            "        -0.6860, -2.4046, -2.0872,  0.4356, -1.6271,  2.9631, -2.6220, -1.7615,\n",
            "         0.5982, -0.6986,  1.5376,  0.1574,  1.9205, -1.2671, -0.3982, -1.5314,\n",
            "         0.4689,  0.8912,  1.2079,  0.0552, -0.6400,  2.0557, -0.1307, -1.4957,\n",
            "        -0.4891, -3.8335, -1.7447, -1.0444, -0.3667,  0.0294, -0.1247, -0.5922,\n",
            "        -0.5097, -0.3102,  0.6091, -1.3546,  1.8256, -0.4034, -0.1946,  0.8023,\n",
            "         0.2449, -1.4514, -1.2016, -0.6308, -3.2715, -1.8630, -1.3620,  1.3122],\n",
            "       grad_fn=<SqueezeBackward1>)\n",
            "labels:  tensor([0, 1, 1, 1, 0, 0, 1, 0, 1, 0, 0, 1, 0, 0, 1, 0, 1, 0, 0, 0, 1, 1, 0, 0,\n",
            "        1, 1, 1, 0, 1, 1, 0, 0, 1, 1, 1, 0, 1, 1, 1, 0, 1, 0, 0, 0, 0, 1, 1, 0,\n",
            "        0, 1, 1, 1, 0, 0, 0, 1, 1, 1, 1, 1, 0, 0, 0, 1])\n",
            "outputs:  tensor([-1.0268,  0.1083, -0.6385, -0.5647, -0.5173, -0.6274, -0.6246, -0.2669,\n",
            "         2.8311, -0.9313,  1.2382,  1.5931, -3.4791,  0.5565, -1.0982, -1.3573,\n",
            "         0.7249, -1.8339, -0.9802, -0.7447, -1.5454, -1.7160, -0.9591, -1.4145,\n",
            "         0.5492,  1.4700, -2.0079, -0.3150, -1.4897,  2.3370, -1.4143,  1.5524,\n",
            "         0.5890,  0.0298, -1.6525,  0.4777,  0.1134, -0.8996,  1.6506, -0.5151,\n",
            "         0.1743, -1.9454, -1.1767, -1.3672, -1.9608,  0.3050,  0.2747,  0.8443,\n",
            "         0.0439, -1.3938,  0.2074,  0.2333,  0.8633,  1.9038, -1.1884, -1.2659,\n",
            "        -0.9976, -1.2693, -1.7832,  0.4450, -0.5811, -0.7754, -0.7827, -0.9011],\n",
            "       grad_fn=<SqueezeBackward1>)\n",
            "labels:  tensor([0, 0, 0, 1, 1, 1, 0, 0, 1, 1, 1, 0, 0, 1, 0, 1, 0, 0, 0, 0, 0, 0, 0, 0,\n",
            "        1, 1, 0, 0, 0, 1, 1, 1, 1, 0, 1, 1, 1, 1, 0, 1, 0, 1, 0, 0, 0, 1, 1, 1,\n",
            "        1, 0, 1, 1, 1, 1, 0, 0, 0, 0, 1, 1, 1, 0, 0, 1])\n",
            "outputs:  tensor([-1.2358,  0.5844,  1.0623,  1.7940,  0.1063, -0.0946, -2.2218, -1.8985,\n",
            "         0.4515, -0.4560, -2.1629,  2.9010, -0.1823, -0.1498, -0.4055,  1.5054,\n",
            "        -0.6374, -0.6516,  1.8410,  1.5094,  1.0332, -1.0434,  3.5293, -0.7272,\n",
            "         0.0159, -0.8631, -0.3489,  0.4457, -0.6626, -2.2580, -1.1756,  0.2203,\n",
            "         0.5683,  1.6034, -1.9467, -0.0461, -1.0785,  2.4447, -0.1517, -1.0608,\n",
            "         2.7167,  2.4073, -0.4847,  0.4092, -1.3519,  0.3727, -0.3506,  1.4007,\n",
            "        -1.0281,  0.7103,  1.3018,  1.9043,  1.0318,  2.1277,  0.6421, -1.7085,\n",
            "         1.1089, -1.4484, -0.4328, -0.1047,  1.7263, -1.4569,  1.4689,  2.2053],\n",
            "       grad_fn=<SqueezeBackward1>)\n",
            "labels:  tensor([1, 0, 1, 1, 1, 0, 0, 0, 1, 1, 0, 1, 1, 1, 0, 1, 0, 0, 1, 0, 1, 0, 1, 0,\n",
            "        0, 0, 1, 1, 0, 1, 0, 1, 1, 1, 0, 1, 0, 1, 0, 0, 1, 1, 0, 1, 0, 0, 0, 1,\n",
            "        0, 1, 1, 1, 1, 1, 1, 0, 1, 0, 0, 0, 1, 0, 1, 1])\n",
            "outputs:  tensor([ 0.2576, -1.3432, -1.8006, -2.5277,  0.0178,  0.8348,  0.7452,  0.3308,\n",
            "        -0.1528,  0.3587,  0.3836,  0.4133, -0.0799, -1.5533, -0.4815, -1.0323,\n",
            "        -1.8844, -0.7222,  1.4108, -0.9083, -2.0012, -1.0997,  0.9504, -0.0393,\n",
            "        -0.8349, -0.4483,  3.7795, -0.3295, -1.5712, -0.1247,  0.2778, -0.7580,\n",
            "        -1.7675,  0.1898, -1.0427,  0.0861, -0.4425, -0.1497, -2.0630,  0.5889,\n",
            "        -0.3351, -1.7062, -0.3648, -1.1126, -0.1576,  0.7121,  0.2655, -0.9362,\n",
            "         1.6011, -1.0445, -1.1248,  0.8858,  1.0655,  0.4925,  0.9874,  1.3499,\n",
            "        -1.3585, -0.1764, -1.9539,  0.3252, -0.6242,  0.9249, -1.3237,  0.2626],\n",
            "       grad_fn=<SqueezeBackward1>)\n",
            "labels:  tensor([0, 0, 0, 0, 0, 1, 1, 1, 0, 0, 0, 0, 1, 0, 0, 1, 0, 1, 1, 0, 0, 0, 1, 1,\n",
            "        0, 0, 1, 0, 0, 0, 1, 0, 0, 1, 0, 1, 1, 1, 0, 1, 0, 1, 1, 1, 1, 0, 1, 1,\n",
            "        1, 0, 0, 1, 0, 0, 1, 0, 1, 0, 1, 1, 0, 0, 0, 0])\n",
            "outputs:  tensor([ 0.9222,  1.8480, -2.8564,  0.7432,  1.5767, -0.9103,  0.4926, -0.7814,\n",
            "         3.5002,  2.1895, -1.0608,  0.8667,  1.8229,  0.3926, -0.2885, -1.3684,\n",
            "        -1.0706,  3.2938,  0.2587, -2.1016,  0.8009, -0.5211,  0.2672,  1.2574,\n",
            "         0.6393,  1.1807,  0.3759, -0.7707, -2.3567, -0.8246,  0.4847, -1.2729,\n",
            "        -1.7017,  0.3758, -3.1006,  0.0887,  0.6184,  0.2149,  1.1320, -0.3045,\n",
            "         0.6209,  1.4661,  0.5555,  0.0289,  0.7124,  1.6349, -1.7080, -0.2183,\n",
            "         0.6001, -0.6580,  0.0159, -0.2826,  1.1459,  3.0321, -2.4168, -0.6294,\n",
            "         0.5926, -0.1376,  2.7328,  0.4549,  1.5576, -1.1394,  1.9000,  0.4951],\n",
            "       grad_fn=<SqueezeBackward1>)\n",
            "labels:  tensor([1, 1, 0, 0, 1, 1, 0, 0, 1, 1, 1, 1, 1, 0, 0, 0, 0, 1, 0, 0, 1, 1, 1, 1,\n",
            "        1, 0, 0, 0, 0, 1, 1, 0, 0, 1, 1, 0, 1, 1, 1, 0, 1, 1, 0, 0, 1, 1, 0, 0,\n",
            "        1, 0, 0, 0, 0, 1, 0, 0, 0, 1, 1, 1, 0, 0, 0, 1])\n",
            "outputs:  tensor([ 0.5346,  1.6649, -1.5751,  1.1688, -0.6356,  0.0658,  1.5551, -0.0895,\n",
            "         1.7870,  1.7917,  0.9919,  2.2973,  2.1876, -0.5494,  0.9266, -0.9515,\n",
            "        -0.1802,  1.4352,  0.5522, -1.5600,  0.9998,  0.0938,  1.3615, -1.2661,\n",
            "        -1.7295, -0.4632, -0.7080, -0.1444,  2.2789,  0.2331, -0.1188, -1.9387,\n",
            "         0.5472, -1.6916, -0.8726,  1.1477,  0.1720,  0.5157, -0.4404, -0.4750,\n",
            "        -0.6804, -1.1959, -0.4125, -0.7795,  0.9618,  0.5714,  1.6982,  0.1259,\n",
            "        -0.3339,  1.5472,  1.2607,  0.5699, -0.4621,  3.6767,  1.6058, -0.1594,\n",
            "        -1.4448, -0.5022,  0.6493, -1.2434, -0.0884,  3.6509,  1.5101,  1.2729],\n",
            "       grad_fn=<SqueezeBackward1>)\n",
            "labels:  tensor([0, 1, 0, 1, 1, 1, 0, 0, 1, 1, 1, 1, 1, 0, 1, 0, 1, 0, 1, 0, 1, 1, 0, 0,\n",
            "        1, 1, 1, 0, 1, 0, 0, 0, 1, 0, 0, 1, 1, 1, 1, 1, 1, 0, 0, 0, 0, 1, 1, 0,\n",
            "        0, 1, 1, 1, 1, 1, 1, 0, 0, 0, 0, 0, 0, 1, 1, 0])\n",
            "outputs:  tensor([ 0.2981, -1.0689, -1.7094, -0.5479, -2.0865, -1.1126, -1.3160, -0.7158,\n",
            "         1.3451,  0.6407,  0.1139, -0.9711, -1.5392, -1.9072,  2.1690,  1.9838,\n",
            "         0.1639,  1.2431,  0.7152, -0.3257, -0.6782,  1.8169, -0.4652,  0.4060,\n",
            "        -2.1041,  1.6138, -0.8147, -0.3801,  1.4805,  0.5156, -0.2689,  1.2350,\n",
            "        -1.2304,  0.1713, -1.9079,  0.0617, -0.1115,  0.1304, -0.5759,  1.5413,\n",
            "        -0.1917, -1.9920,  2.3969, -0.9169, -1.1219, -0.2863,  0.3956,  0.1013,\n",
            "        -0.7186,  0.5155, -0.6044, -0.1541, -0.0953, -1.5917, -0.7413, -0.2285,\n",
            "         1.2221,  0.0758, -1.1647, -2.0271, -0.6411,  1.2278, -0.5096,  2.8142],\n",
            "       grad_fn=<SqueezeBackward1>)\n",
            "labels:  tensor([0, 0, 0, 0, 0, 0, 0, 0, 0, 1, 1, 0, 0, 0, 0, 1, 0, 1, 1, 1, 0, 1, 0, 1,\n",
            "        0, 1, 0, 0, 0, 1, 0, 1, 0, 0, 0, 1, 0, 1, 0, 1, 1, 0, 1, 0, 0, 1, 1, 1,\n",
            "        1, 0, 1, 1, 0, 0, 0, 1, 0, 1, 0, 0, 0, 1, 0, 1])\n",
            "outputs:  tensor([ 0.3723,  0.4122, -0.4617, -3.5152,  1.4314,  2.7056, -1.1134, -0.0396,\n",
            "         1.6117,  1.5375,  3.0073,  1.5850,  1.4686,  0.2011,  2.5021, -2.1487,\n",
            "        -1.4430,  1.3105,  0.4515, -1.6351, -0.1945,  1.4457,  0.3929,  0.2939,\n",
            "        -0.6052,  0.8348,  3.7051, -2.4153,  0.9186,  0.1867,  0.4404,  0.0894,\n",
            "        -1.3378, -0.1011,  1.5452, -1.2920, -0.0627,  0.2407, -1.1494,  1.3448,\n",
            "        -1.0031,  0.6768,  2.0899,  0.6823,  0.6810,  1.8833,  0.3956, -0.6989,\n",
            "         2.7035, -0.7736,  0.2616,  2.2103,  3.2567,  1.8903,  0.6548, -0.7646,\n",
            "         0.5994, -1.0310,  2.6400, -2.1878,  5.0975,  0.8207, -1.5266,  0.4983],\n",
            "       grad_fn=<SqueezeBackward1>)\n",
            "labels:  tensor([1, 1, 0, 0, 1, 1, 0, 0, 1, 1, 1, 1, 0, 1, 1, 0, 0, 1, 1, 0, 0, 1, 0, 0,\n",
            "        0, 0, 1, 0, 0, 1, 0, 1, 0, 1, 1, 0, 0, 1, 1, 1, 0, 1, 0, 0, 0, 0, 1, 0,\n",
            "        0, 0, 1, 1, 1, 1, 1, 0, 0, 0, 1, 0, 1, 1, 0, 1])\n",
            "outputs:  tensor([-0.4713, -1.7838, -1.2506, -1.3166,  0.7905, -0.2666,  0.0108, -0.9773,\n",
            "        -0.7043, -0.9968,  0.1430,  1.7575,  0.7933, -0.9713,  1.0774, -0.4871,\n",
            "        -1.4353,  1.4078,  1.3850,  0.4364,  0.7292,  0.4959, -0.2917,  3.3807,\n",
            "         3.2053,  2.1847, -2.2333, -0.8617,  1.6429, -1.3469, -1.8666, -1.1645,\n",
            "         0.1410, -0.1706,  3.9446,  0.0466,  0.3514,  0.7531,  0.1147, -1.5778,\n",
            "        -0.0857,  1.0047, -0.5145, -0.3182,  3.6819,  0.0971, -2.3232,  1.9278,\n",
            "        -1.9246,  0.2564,  2.7601,  1.9006, -2.1457,  0.9822,  0.9537, -0.2677,\n",
            "         1.4391,  1.3253,  1.6026,  1.3991, -2.5486, -0.8852,  0.9928, -1.0312],\n",
            "       grad_fn=<SqueezeBackward1>)\n",
            "labels:  tensor([0, 0, 0, 0, 1, 1, 0, 0, 0, 0, 1, 1, 1, 0, 1, 1, 0, 0, 1, 1, 0, 1, 0, 1,\n",
            "        1, 0, 0, 0, 1, 0, 0, 0, 0, 0, 1, 0, 1, 1, 0, 0, 1, 1, 0, 0, 1, 1, 0, 1,\n",
            "        0, 1, 1, 1, 0, 0, 1, 1, 1, 1, 1, 1, 0, 0, 1, 1])\n",
            "outputs:  tensor([-0.7429,  1.7405, -0.5108,  1.4527,  2.2504,  1.4770, -0.0188,  1.4410,\n",
            "         0.0937,  0.0631,  1.8995,  1.0199,  3.5312, -0.9033, -0.0049,  2.5084,\n",
            "        -1.0473,  1.6123,  0.3491,  2.8310,  0.8120,  0.7532, -0.3513,  1.0269,\n",
            "         0.5731, -0.4999, -2.6853,  1.3743, -1.1738, -1.2584, -0.0573,  0.0117,\n",
            "        -0.6999, -1.4702, -0.9994,  0.5410, -0.3310, -1.4396,  1.9383,  0.5247,\n",
            "        -1.8428,  0.2047, -1.0425,  2.6860, -2.7531,  0.4804,  0.3138, -1.0917,\n",
            "        -0.0421, -0.5800,  0.3625,  0.7647, -1.7129,  3.0446, -0.6794, -1.0856,\n",
            "         1.9321,  0.5207, -0.5961,  2.2403,  0.6038, -1.2527, -0.3618,  0.4627],\n",
            "       grad_fn=<SqueezeBackward1>)\n",
            "labels:  tensor([0, 1, 0, 1, 1, 1, 1, 1, 1, 1, 1, 1, 1, 1, 1, 1, 0, 0, 0, 1, 0, 1, 1, 1,\n",
            "        1, 0, 0, 0, 0, 0, 1, 1, 0, 0, 0, 0, 0, 0, 0, 1, 0, 0, 0, 1, 0, 1, 1, 1,\n",
            "        0, 0, 1, 1, 1, 1, 0, 0, 1, 0, 0, 1, 1, 0, 0, 1])\n",
            "outputs:  tensor([ 1.7526,  0.1456,  0.0706, -2.3602,  1.6279,  1.7099, -1.2269,  0.9848,\n",
            "        -1.0306, -0.2182,  0.3641,  1.3588,  0.9887,  0.1413,  0.0138, -0.3608,\n",
            "        -1.1287,  0.9566, -0.2922,  2.5889, -0.2547,  0.4590,  0.4045,  0.7260,\n",
            "         1.3026,  3.8646, -0.4002, -0.9169,  2.8918, -1.1434,  1.7437,  2.0969,\n",
            "        -0.2787,  0.0282, -0.5330,  1.2073, -1.7369,  0.6990,  2.1624, -0.4261,\n",
            "        -0.3036, -1.2455, -2.0680,  0.0240,  1.2249, -2.4737, -0.6060, -1.4170,\n",
            "         0.5061, -0.5162, -2.8791, -0.0673,  0.3186,  0.3802, -1.7919, -0.1766,\n",
            "         0.8154,  0.0551,  0.5172, -1.3471,  0.7706, -0.5985,  2.6895, -0.8760],\n",
            "       grad_fn=<SqueezeBackward1>)\n",
            "labels:  tensor([0, 1, 0, 0, 1, 1, 0, 0, 0, 0, 1, 1, 1, 1, 0, 1, 1, 1, 1, 1, 1, 1, 1, 0,\n",
            "        1, 1, 0, 0, 1, 0, 0, 1, 1, 1, 0, 1, 0, 1, 1, 1, 1, 0, 0, 1, 1, 0, 0, 0,\n",
            "        1, 0, 0, 0, 1, 1, 0, 0, 1, 1, 1, 1, 1, 1, 1, 1])\n",
            "outputs:  tensor([-1.0153e+00, -2.0526e+00, -6.2109e-01, -1.5746e+00, -2.0651e+00,\n",
            "         1.1497e+00, -1.0681e-01,  2.8467e-01,  3.3950e-01, -9.0572e-01,\n",
            "        -4.1904e-01, -1.7773e-01,  3.9739e-01, -1.1056e+00,  1.9502e+00,\n",
            "         2.4052e+00,  3.4858e-01,  7.7096e-01, -6.8246e-01,  7.0390e-01,\n",
            "         4.9181e-02, -5.2583e-01,  1.8765e+00,  9.8280e-02, -1.2385e-01,\n",
            "        -3.5522e-01,  8.1496e-01,  2.6006e-01,  2.2407e+00, -5.6521e-01,\n",
            "        -7.6288e-01,  1.3411e+00, -1.2269e+00,  1.0059e+00,  3.5723e-01,\n",
            "        -4.7922e-02,  2.3709e+00, -2.7017e-01, -1.1330e+00, -4.5157e-01,\n",
            "         1.1949e+00,  3.1124e+00,  1.5584e+00,  3.6553e-01,  1.8896e-01,\n",
            "         1.7148e-01,  2.0355e+00,  4.4987e-01, -9.9615e-01,  6.9515e-01,\n",
            "         6.2935e-01,  1.5290e-03, -2.2892e-02,  5.1302e-01,  2.3190e+00,\n",
            "        -8.1805e-02,  1.5498e+00,  1.7247e-01, -2.4901e-01, -1.1621e+00,\n",
            "         2.5375e+00, -1.5945e-01, -2.3937e-01, -8.4208e-02],\n",
            "       grad_fn=<SqueezeBackward1>)\n",
            "labels:  tensor([0, 0, 0, 0, 0, 1, 0, 1, 1, 1, 0, 0, 0, 0, 1, 1, 0, 1, 0, 1, 0, 0, 1, 0,\n",
            "        1, 0, 1, 1, 1, 1, 0, 1, 0, 1, 1, 0, 1, 1, 0, 1, 1, 1, 1, 0, 1, 0, 1, 1,\n",
            "        0, 1, 1, 1, 1, 1, 1, 1, 1, 0, 0, 0, 1, 1, 0, 0])\n",
            "outputs:  tensor([-0.7157,  1.5248, -0.1735,  1.5580, -1.3913, -1.6102, -0.2884, -0.4686,\n",
            "        -0.8429,  1.0963, -0.6644, -1.9151,  0.0549,  0.3643,  0.6594, -1.7587,\n",
            "         0.2976,  1.5427, -0.7491, -0.4083, -0.8477, -0.7959,  2.6935,  0.8766,\n",
            "        -2.4505, -0.4323,  1.9127, -1.5564, -1.0722,  0.0866,  1.0698,  0.8914,\n",
            "         1.3483, -0.9991, -0.7632,  2.0447,  1.0375,  2.2189, -1.3195, -1.7718,\n",
            "         2.6068,  1.0033,  2.0142,  2.1829,  0.7195,  1.4307, -1.0420, -0.6353,\n",
            "        -0.2303,  0.2424, -0.6843,  1.2003, -0.3516,  0.1848,  2.4439, -1.2687,\n",
            "        -1.5872,  0.0312,  0.3788, -0.6963,  1.4938, -1.1705, -1.2290,  0.6086],\n",
            "       grad_fn=<SqueezeBackward1>)\n",
            "labels:  tensor([0, 1, 0, 1, 0, 0, 0, 0, 1, 1, 1, 0, 0, 1, 1, 1, 0, 1, 0, 0, 0, 1, 1, 1,\n",
            "        0, 0, 1, 0, 0, 0, 1, 0, 0, 0, 0, 1, 1, 1, 0, 1, 1, 1, 1, 0, 1, 0, 1, 0,\n",
            "        1, 0, 0, 1, 0, 1, 1, 1, 0, 1, 1, 1, 0, 0, 0, 1])\n",
            "outputs:  tensor([ 0.7693, -0.1238,  1.2907, -0.7461, -0.4748, -0.0331,  1.1909,  0.5117,\n",
            "         0.9036, -1.8034,  2.9967, -0.4383,  1.3159,  1.0634,  1.2057,  1.2853,\n",
            "        -1.0079,  0.2541, -0.3685,  1.2894,  0.2313, -1.0486,  0.1367,  0.5165,\n",
            "        -1.2861,  1.3061, -1.2720, -1.7219, -0.0707, -0.2589, -0.2709, -1.1824,\n",
            "        -0.6157, -1.1992,  0.9182, -1.1747, -1.7952,  2.0436, -1.8048,  0.3963,\n",
            "         1.8248,  2.5790,  1.3776,  0.4050, -1.0158,  2.9615, -1.1006, -1.9961,\n",
            "        -0.3492, -0.9961,  1.0287,  1.7854,  0.6282,  0.6262,  0.0140, -0.8489,\n",
            "         0.7757, -0.2282, -0.4031, -0.2694,  0.2075,  0.1257, -1.2165, -3.6459],\n",
            "       grad_fn=<SqueezeBackward1>)\n",
            "labels:  tensor([1, 0, 1, 0, 1, 1, 0, 1, 1, 1, 1, 1, 1, 1, 0, 1, 1, 0, 1, 1, 1, 0, 1, 1,\n",
            "        0, 0, 0, 0, 0, 0, 0, 0, 0, 0, 0, 0, 0, 1, 0, 0, 1, 1, 1, 1, 0, 1, 0, 0,\n",
            "        1, 0, 1, 1, 0, 0, 1, 1, 1, 0, 1, 1, 0, 1, 0, 0])\n",
            "outputs:  tensor([-0.4867,  2.4646,  0.1267,  1.3668,  0.3748,  0.7780, -0.3538,  1.7644,\n",
            "         1.2389, -0.3235, -1.4131,  0.3503, -1.6243, -0.1565, -1.0236,  1.6583,\n",
            "        -0.2561,  0.2795,  0.6166, -0.6446,  0.3441, -0.6414, -0.8108,  0.2364,\n",
            "        -0.7202,  2.7908,  1.1565,  1.3456,  1.1056,  2.5153, -1.0429, -2.9376,\n",
            "         0.2217, -0.3999,  1.8634, -0.7402, -1.6908, -0.7627, -0.0502, -0.3799,\n",
            "        -1.0164,  0.5606,  1.6700,  0.8460, -0.4563,  1.4615,  1.7267,  1.6039,\n",
            "        -1.1492,  0.9733,  0.6187,  1.3374,  1.6325,  1.3036, -0.2401,  0.5488,\n",
            "        -0.0570, -0.0342, -0.5260,  1.1087,  1.1852,  2.9211, -1.8684,  0.8524],\n",
            "       grad_fn=<SqueezeBackward1>)\n",
            "labels:  tensor([0, 1, 0, 0, 0, 0, 0, 1, 1, 0, 0, 0, 0, 1, 0, 1, 0, 1, 0, 1, 0, 0, 0, 0,\n",
            "        0, 1, 0, 1, 1, 1, 1, 0, 1, 0, 1, 1, 0, 0, 1, 1, 0, 0, 1, 1, 1, 0, 1, 1,\n",
            "        0, 0, 0, 1, 1, 0, 1, 0, 0, 0, 0, 1, 0, 1, 0, 0])\n",
            "outputs:  tensor([-0.3349, -1.3383,  0.6199,  0.2271, -1.2067, -0.0186, -1.1276,  0.8560,\n",
            "         0.8017, -1.1176,  1.5615, -0.2609, -0.0176, -0.7560,  1.8579,  0.8990,\n",
            "         0.0562,  0.4755, -1.0053,  0.4201, -0.2756,  2.0976,  2.0776,  0.4757,\n",
            "        -0.8783, -0.1808,  0.0198,  1.0839,  0.5334,  1.1788, -1.4865,  2.8825,\n",
            "         3.3693,  0.8003, -1.6692,  0.4282,  0.4619,  1.0963, -2.0425,  1.7406,\n",
            "         0.5836, -0.4045,  2.3051,  1.1015, -0.9734,  3.2934, -1.7340,  0.8856,\n",
            "         1.3162,  2.4641,  0.6710,  0.6212,  1.1459,  1.1244,  2.5549,  1.1513,\n",
            "        -0.6302, -2.0870,  0.9120,  1.8857,  1.1681, -0.5688,  1.3723, -0.3586],\n",
            "       grad_fn=<SqueezeBackward1>)\n",
            "labels:  tensor([0, 1, 1, 0, 1, 1, 0, 0, 1, 0, 1, 1, 1, 0, 1, 0, 0, 1, 1, 1, 0, 1, 0, 1,\n",
            "        1, 1, 0, 0, 0, 1, 0, 1, 1, 1, 0, 1, 1, 1, 0, 1, 1, 1, 1, 1, 0, 1, 0, 1,\n",
            "        1, 1, 1, 1, 1, 1, 1, 1, 0, 0, 0, 1, 1, 0, 1, 0])\n",
            "outputs:  tensor([ 1.0282,  1.0584,  0.6242,  1.5845,  0.2111, -0.9521, -2.9261, -0.3779,\n",
            "        -0.7532, -0.0621,  0.5210, -0.8662, -0.1557,  1.0398, -0.8442,  0.8994,\n",
            "         2.4336, -0.5662, -0.3695,  0.3444, -0.3455, -1.0023, -0.3338, -2.3168,\n",
            "        -0.1483,  0.4454, -1.4047,  0.1690,  0.2011, -1.0139, -0.7931, -0.2533,\n",
            "         0.2957, -0.0502, -0.7192,  0.2559,  0.1909,  2.9681, -0.2230,  0.3479,\n",
            "         0.4006, -0.0912,  2.6360,  1.4212,  0.7504, -0.3049, -0.8854,  0.9863,\n",
            "         1.8586, -1.4974, -0.1170, -0.9083, -0.0324,  0.5473, -0.5415,  2.3279,\n",
            "        -0.8838,  3.0296,  0.9541,  0.3526, -0.5811, -0.8837, -0.9233,  0.0893],\n",
            "       grad_fn=<SqueezeBackward1>)\n",
            "labels:  tensor([0, 0, 1, 1, 1, 0, 0, 1, 0, 1, 1, 0, 1, 1, 1, 0, 0, 1, 0, 1, 0, 1, 0, 0,\n",
            "        1, 0, 0, 0, 0, 0, 0, 1, 1, 0, 1, 0, 1, 1, 0, 1, 1, 0, 1, 1, 1, 0, 0, 1,\n",
            "        1, 0, 0, 1, 0, 1, 1, 1, 0, 1, 1, 1, 1, 1, 0, 1])\n",
            "outputs:  tensor([-0.5122, -0.0748,  0.1547, -1.0862, -0.0963, -1.6916, -0.1860,  0.1730,\n",
            "         0.9109,  2.0254, -1.4667, -1.1218, -0.5885,  0.4346, -1.0576,  1.1952,\n",
            "        -0.3272, -0.1240, -0.4638, -1.2401,  1.6099,  0.2925, -0.1604,  0.1821,\n",
            "        -2.3294, -0.9354, -0.1224,  0.0783,  2.0185, -1.1590,  1.0100, -1.2788,\n",
            "         1.0672,  1.1123,  0.2111,  0.1676,  2.4187,  1.5557, -0.0435, -0.9994,\n",
            "        -0.0147, -0.5391,  0.5371,  1.8334,  1.9902, -1.2526,  0.3664, -0.0805,\n",
            "         0.6151,  0.2090,  2.6773,  0.7339,  1.0347, -0.4349,  0.1140,  4.6935,\n",
            "         2.7716, -0.3639,  1.1000, -1.0413, -0.5583, -1.0442, -0.3271,  0.5665],\n",
            "       grad_fn=<SqueezeBackward1>)\n",
            "labels:  tensor([0, 0, 0, 0, 0, 0, 0, 1, 0, 1, 0, 1, 0, 0, 0, 0, 1, 1, 0, 0, 1, 0, 0, 1,\n",
            "        0, 0, 1, 1, 1, 0, 0, 1, 1, 1, 0, 0, 1, 1, 0, 0, 0, 1, 0, 0, 1, 0, 1, 0,\n",
            "        1, 0, 1, 0, 1, 0, 0, 1, 0, 1, 1, 0, 1, 0, 1, 0])\n",
            "outputs:  tensor([-0.4186, -0.9962, -0.8083, -0.0220,  1.1517, -0.2262,  1.3900,  2.0275,\n",
            "         1.5593, -0.3938, -1.0880,  2.3604, -1.1786, -0.6342,  0.1172,  0.2839,\n",
            "         0.8756, -1.2691,  0.4934,  0.3796, -0.1728, -0.6366,  1.4317,  0.6623,\n",
            "         2.2788, -1.1399,  0.9215, -1.8211, -1.3456,  0.2304, -1.6169,  1.0208,\n",
            "         0.6813,  0.4308, -0.7766,  0.2130,  1.0009,  2.0989,  0.1261, -1.7437,\n",
            "         1.1102, -1.4905,  0.2149,  1.3139,  1.6972,  0.2487, -0.2232, -1.3668,\n",
            "        -0.8069,  0.5544,  1.5670,  0.5020,  1.3893,  0.9910, -0.5996, -0.2933,\n",
            "        -3.2574,  1.3853,  0.1771, -0.6940, -0.6133,  0.1678, -0.3176,  1.8587],\n",
            "       grad_fn=<SqueezeBackward1>)\n",
            "labels:  tensor([0, 0, 1, 0, 1, 1, 1, 1, 1, 1, 0, 1, 0, 1, 1, 1, 1, 0, 1, 0, 0, 1, 0, 1,\n",
            "        1, 1, 1, 0, 0, 0, 0, 0, 1, 0, 0, 0, 1, 1, 1, 0, 1, 0, 0, 0, 0, 0, 0, 0,\n",
            "        1, 0, 1, 1, 1, 1, 0, 0, 0, 1, 0, 0, 0, 1, 0, 1])\n",
            "outputs:  tensor([-1.5042, -0.4801, -1.7964,  1.8026,  1.1335,  0.7352, -1.6250, -2.0088,\n",
            "        -1.8163,  0.6748,  0.8236,  0.1387,  1.1148, -0.0666, -1.0660, -0.1480,\n",
            "        -0.9652, -0.1532, -0.9264, -1.7771,  0.1363,  1.3347, -1.0961,  0.6751,\n",
            "         3.0966, -0.5597,  0.5233, -0.3990, -0.9150, -2.1520, -0.2356,  1.0352,\n",
            "         0.6042,  1.7953,  0.6479,  0.1385,  0.8969, -2.0656, -0.2011, -0.0449,\n",
            "        -1.7408,  3.2162,  1.0846, -0.3257, -0.3540, -1.4219, -1.3090,  1.5687,\n",
            "        -0.0077,  0.3553, -0.6589,  1.1170, -0.6447, -0.4374,  1.9200, -1.1620,\n",
            "        -1.0353,  0.0365,  0.0442,  0.9621,  0.2588, -1.2176,  1.4625, -1.0050],\n",
            "       grad_fn=<SqueezeBackward1>)\n",
            "labels:  tensor([0, 0, 0, 1, 1, 1, 0, 1, 0, 1, 1, 0, 0, 1, 0, 1, 0, 0, 0, 1, 0, 1, 0, 1,\n",
            "        1, 1, 1, 0, 1, 0, 0, 1, 0, 0, 1, 0, 1, 0, 1, 1, 0, 1, 1, 0, 0, 1, 0, 1,\n",
            "        0, 1, 1, 1, 0, 0, 1, 0, 0, 1, 0, 1, 1, 1, 1, 0])\n",
            "outputs:  tensor([ 0.2075,  0.8250,  0.9675, -0.2274,  0.1282,  0.2184, -0.1985,  0.0763,\n",
            "        -0.8608, -0.1012,  0.2793,  1.1561,  0.3989, -0.6656, -1.2484, -1.3762,\n",
            "        -2.1140,  3.3212, -0.8367, -0.1066, -0.3837,  1.7330, -1.6266, -1.6982,\n",
            "         0.8592, -0.8395, -0.3835,  2.4314,  0.0141,  0.3635, -0.0700, -0.7827,\n",
            "         0.9216,  0.4351, -1.2846, -1.8683, -0.6417, -0.3717,  1.5540,  0.2120,\n",
            "        -2.0425, -0.6360,  0.3203,  1.9306,  2.0434, -1.6124,  0.6929, -0.6827,\n",
            "        -0.2505, -1.3629, -1.5516, -0.4634,  2.2920, -1.7146,  0.4046,  1.6382,\n",
            "         2.0723,  1.2884, -0.5613, -2.3512,  2.0910,  1.1192, -0.4768,  0.3233],\n",
            "       grad_fn=<SqueezeBackward1>)\n",
            "labels:  tensor([0, 1, 1, 1, 0, 1, 1, 1, 0, 1, 1, 0, 1, 1, 1, 0, 0, 1, 0, 1, 0, 1, 1, 0,\n",
            "        1, 1, 0, 1, 0, 1, 0, 0, 1, 1, 1, 0, 0, 0, 0, 0, 0, 1, 1, 1, 1, 1, 1, 0,\n",
            "        1, 0, 0, 0, 1, 1, 0, 1, 1, 1, 0, 1, 1, 1, 0, 1])\n",
            "outputs:  tensor([-0.4116,  1.0282,  0.7634, -0.9888,  0.5053, -1.5194, -0.0588,  1.5486,\n",
            "         0.6030,  1.1109, -0.7572, -0.3988, -0.4950, -0.1213,  0.2516,  0.6593,\n",
            "        -0.5464, -2.0121, -0.3771, -1.9008, -1.0147,  1.1630, -1.8959, -0.0614,\n",
            "         0.0919,  0.9186,  0.5207,  0.3775, -2.0305,  0.7957, -0.1879,  0.2115,\n",
            "        -0.5535,  1.6760, -1.1245,  0.1418, -0.4288,  0.6155, -0.3245,  1.6054,\n",
            "        -1.1934, -0.7149, -0.0845,  0.9601, -0.5786,  0.1627, -0.4135, -0.7743,\n",
            "         1.3849,  0.8357, -0.6694, -0.3698, -1.2507, -0.0391, -2.2907, -0.5676,\n",
            "        -2.6154,  1.1515, -0.1653, -0.4648, -0.9419, -0.2765,  0.0067, -0.7345],\n",
            "       grad_fn=<SqueezeBackward1>)\n",
            "labels:  tensor([1, 1, 1, 1, 1, 0, 0, 0, 1, 0, 0, 0, 0, 1, 0, 1, 0, 0, 1, 0, 0, 1, 0, 1,\n",
            "        1, 1, 1, 0, 0, 1, 0, 1, 0, 1, 0, 1, 1, 1, 0, 1, 0, 1, 1, 1, 0, 1, 1, 0,\n",
            "        1, 1, 1, 0, 1, 0, 0, 1, 0, 1, 0, 0, 0, 0, 1, 0])\n",
            "outputs:  tensor([-0.1822, -0.5753,  0.1161, -1.2701, -0.4244,  0.9727,  0.0535,  0.2595,\n",
            "        -0.9148,  0.1106,  0.3809,  0.1191, -1.8161, -1.1343,  0.6959, -3.6384,\n",
            "         0.3514, -0.4259, -0.2624,  1.7239,  0.7849, -0.6644, -1.2640, -0.7093,\n",
            "         2.1835, -0.1128, -2.3139, -0.3756,  0.8647, -0.2601, -1.3223, -0.8532,\n",
            "         0.7635,  0.8080, -1.3360,  2.3976,  0.6964, -0.6631, -1.0348,  1.1672,\n",
            "         1.4457,  0.7023, -1.4644,  1.3534,  0.4870,  1.1986, -0.4491, -2.2560,\n",
            "         2.7764,  2.1862,  0.8507,  0.3254, -2.0235,  0.1112, -1.4586, -0.3213,\n",
            "        -1.5554, -2.1355, -0.2095,  2.5790, -0.2449, -3.4404,  0.0503, -1.4663],\n",
            "       grad_fn=<SqueezeBackward1>)\n",
            "labels:  tensor([1, 0, 1, 0, 0, 1, 1, 1, 0, 0, 1, 1, 0, 1, 0, 0, 1, 1, 0, 1, 1, 0, 1, 0,\n",
            "        1, 0, 1, 0, 1, 0, 0, 0, 1, 1, 0, 1, 1, 0, 0, 1, 1, 1, 0, 1, 0, 1, 1, 0,\n",
            "        0, 1, 1, 1, 0, 1, 0, 0, 1, 0, 0, 1, 0, 0, 0, 0])\n",
            "outputs:  tensor([ 0.8442, -1.9988, -0.9200,  0.7411, -2.4651, -1.1889,  1.0752, -0.0320,\n",
            "        -0.2826, -0.1318, -1.0606, -1.8941,  1.0862, -1.1842, -0.6915, -0.4970,\n",
            "         0.3070, -2.5174,  1.1152, -1.5653, -0.0266, -1.1616,  2.7147,  0.3199,\n",
            "        -0.2633,  1.7743,  1.8702, -0.1632, -0.2295,  1.8255,  1.1189,  0.0728,\n",
            "         0.4405,  1.6332, -3.9745, -0.3579, -1.3622, -1.1813,  0.1694, -0.6033,\n",
            "        -0.6976, -0.9439,  0.1983, -0.6919, -0.5061, -0.4090,  0.0961, -0.1017,\n",
            "         0.1209,  0.0822,  3.2304, -1.0297, -0.9403,  1.0487,  0.7001, -1.3152,\n",
            "        -0.9854,  1.2286, -0.5694,  0.3271, -0.4040,  0.8779, -0.8742,  0.7314],\n",
            "       grad_fn=<SqueezeBackward1>)\n",
            "labels:  tensor([1, 0, 0, 1, 0, 0, 1, 1, 0, 0, 0, 0, 0, 1, 0, 0, 0, 0, 1, 0, 1, 0, 1, 1,\n",
            "        0, 1, 1, 1, 0, 0, 0, 1, 0, 1, 0, 1, 0, 0, 1, 0, 1, 0, 1, 0, 0, 0, 0, 1,\n",
            "        1, 0, 1, 1, 0, 1, 1, 0, 1, 0, 0, 0, 1, 1, 0, 0])\n",
            "outputs:  tensor([ 0.0289, -1.2814, -0.1921,  0.6495, -1.5410,  1.3519,  0.9926,  1.6457,\n",
            "         1.3465, -1.4514,  0.1239,  2.0481,  0.5939,  0.7623, -0.6181,  0.4715,\n",
            "        -0.0734,  0.1542,  0.3859, -1.8286, -1.6449, -0.8654,  1.2798, -2.4307,\n",
            "        -0.5406,  1.5159, -2.0313, -1.1430,  1.8003,  0.4056, -0.9457, -1.6865,\n",
            "        -0.4761, -1.0481,  0.9862, -0.7052, -1.6442, -1.3927,  0.3419,  0.2810,\n",
            "         0.3025,  1.6571, -0.5376,  1.3504,  0.2333, -2.2530, -0.5788, -1.7733,\n",
            "         2.1928, -1.6318, -0.5604,  0.4173, -1.4815, -0.2283, -1.5081,  0.5019,\n",
            "        -1.4152,  1.2967, -1.0924, -0.8550,  1.0813,  0.4197, -0.0644, -0.5905],\n",
            "       grad_fn=<SqueezeBackward1>)\n",
            "labels:  tensor([1, 0, 1, 1, 1, 0, 1, 1, 1, 1, 0, 1, 1, 0, 0, 0, 1, 1, 1, 0, 0, 1, 0, 0,\n",
            "        0, 0, 0, 0, 1, 0, 0, 0, 1, 1, 1, 0, 1, 1, 0, 1, 1, 0, 1, 1, 1, 0, 1, 0,\n",
            "        1, 0, 1, 1, 1, 0, 0, 0, 0, 1, 0, 0, 1, 0, 1, 0])\n",
            "Epoch 1: Train err: 0.286625, Train loss: 0.5606973884105683 |Validation err: 0.3095, Validation loss: 0.5965346768498421\n",
            "Finished Training\n",
            "Total time elapsed: 3.56 seconds\n"
          ],
          "name": "stdout"
        }
      ]
    },
    {
      "cell_type": "code",
      "metadata": {
        "id": "5QXfYa9ZsxA3"
      },
      "source": [
        "from google.colab import drive\n",
        "drive.mount('/content/drive')"
      ],
      "execution_count": null,
      "outputs": []
    },
    {
      "cell_type": "markdown",
      "metadata": {
        "id": "a6shtCFDqIEd"
      },
      "source": [
        "### Part (d)\n",
        "\n",
        "Train both `small_net` and `large_net` using the function `train_net` and its default parameters.\n",
        "The function will write many files to disk, including a model checkpoint (saved values of model weights) \n",
        "at the end of each epoch.\n",
        "\n",
        "If you are using Google Colab, you will need to mount Google Drive \n",
        "so that the files generated by `train_net` gets saved. We will be using\n",
        "these files in part (d).\n",
        "\n",
        "Report the total time elapsed when training each network. Which network took longer to train?\n",
        "Why?"
      ]
    },
    {
      "cell_type": "code",
      "metadata": {
        "id": "tawIVwTfqIEe",
        "outputId": "f501479c-5f8c-47c6-912b-229c8dd60389",
        "colab": {
          "base_uri": "https://localhost:8080/",
          "height": 122
        }
      },
      "source": [
        "# Since the function writes files to disk, you will need to mount\n",
        "# your Google Drive. If you are working on the lab locally, you\n",
        "# can comment out this code.\n",
        "\n",
        "from google.colab import drive\n",
        "drive.mount('/content/gdrive')"
      ],
      "execution_count": null,
      "outputs": [
        {
          "output_type": "stream",
          "text": [
            "Go to this URL in a browser: https://accounts.google.com/o/oauth2/auth?client_id=947318989803-6bn6qk8qdgf4n4g3pfee6491hc0brc4i.apps.googleusercontent.com&redirect_uri=urn%3aietf%3awg%3aoauth%3a2.0%3aoob&response_type=code&scope=email%20https%3a%2f%2fwww.googleapis.com%2fauth%2fdocs.test%20https%3a%2f%2fwww.googleapis.com%2fauth%2fdrive%20https%3a%2f%2fwww.googleapis.com%2fauth%2fdrive.photos.readonly%20https%3a%2f%2fwww.googleapis.com%2fauth%2fpeopleapi.readonly\n",
            "\n",
            "Enter your authorization code:\n",
            "··········\n",
            "Mounted at /content/gdrive\n"
          ],
          "name": "stdout"
        }
      ]
    },
    {
      "cell_type": "code",
      "metadata": {
        "id": "MWSZm9SvqIEh",
        "outputId": "21c6bd5c-b985-4fce-a0d7-a800ee6719ee",
        "colab": {
          "base_uri": "https://localhost:8080/",
          "height": 615
        }
      },
      "source": [
        "train_net(small_net, batch_size=64, learning_rate=0.01, num_epochs=30)"
      ],
      "execution_count": null,
      "outputs": [
        {
          "output_type": "stream",
          "text": [
            "Files already downloaded and verified\n",
            "Files already downloaded and verified\n",
            "Epoch 1: Train err: 0.32575, Train loss: 0.602990318775177 |Validation err: 0.3355, Validation loss: 0.6173910796642303\n",
            "Epoch 2: Train err: 0.316875, Train loss: 0.5949750926494598 |Validation err: 0.343, Validation loss: 0.6338571757078171\n",
            "Epoch 3: Train err: 0.311375, Train loss: 0.5893620898723603 |Validation err: 0.329, Validation loss: 0.6057337634265423\n",
            "Epoch 4: Train err: 0.306625, Train loss: 0.5852861063480377 |Validation err: 0.3395, Validation loss: 0.6099948566406965\n",
            "Epoch 5: Train err: 0.304375, Train loss: 0.5815669634342193 |Validation err: 0.3195, Validation loss: 0.60984668135643\n",
            "Epoch 6: Train err: 0.307375, Train loss: 0.5787903413772583 |Validation err: 0.325, Validation loss: 0.6040217457339168\n",
            "Epoch 7: Train err: 0.30525, Train loss: 0.5752578880786896 |Validation err: 0.3345, Validation loss: 0.5994179360568523\n",
            "Epoch 8: Train err: 0.29575, Train loss: 0.5714053030014038 |Validation err: 0.32, Validation loss: 0.5996664669364691\n",
            "Epoch 9: Train err: 0.292, Train loss: 0.569656236410141 |Validation err: 0.321, Validation loss: 0.5965520069003105\n",
            "Epoch 10: Train err: 0.288625, Train loss: 0.5641577968597412 |Validation err: 0.3145, Validation loss: 0.5881995027884841\n",
            "Epoch 11: Train err: 0.289375, Train loss: 0.561585393667221 |Validation err: 0.309, Validation loss: 0.5872968761250377\n",
            "Epoch 12: Train err: 0.28725, Train loss: 0.5565857894420624 |Validation err: 0.314, Validation loss: 0.5915901232510805\n",
            "Epoch 13: Train err: 0.28675, Train loss: 0.558536859035492 |Validation err: 0.3125, Validation loss: 0.5908565316349268\n",
            "Epoch 14: Train err: 0.28825, Train loss: 0.552523606300354 |Validation err: 0.312, Validation loss: 0.5971190836280584\n",
            "Epoch 15: Train err: 0.2835, Train loss: 0.5519007534980774 |Validation err: 0.305, Validation loss: 0.5811879551038146\n",
            "Epoch 16: Train err: 0.283, Train loss: 0.554839890241623 |Validation err: 0.305, Validation loss: 0.5836829598993063\n",
            "Epoch 17: Train err: 0.281375, Train loss: 0.550695954799652 |Validation err: 0.294, Validation loss: 0.5755447009578347\n",
            "Epoch 18: Train err: 0.280625, Train loss: 0.5470705409049987 |Validation err: 0.2935, Validation loss: 0.5777959143742919\n",
            "Epoch 19: Train err: 0.27925, Train loss: 0.5432461438179016 |Validation err: 0.3025, Validation loss: 0.5856141839176416\n",
            "Epoch 20: Train err: 0.27675, Train loss: 0.5425600278377533 |Validation err: 0.3015, Validation loss: 0.5765894996002316\n",
            "Epoch 21: Train err: 0.277, Train loss: 0.5439497590065002 |Validation err: 0.292, Validation loss: 0.5722350366413593\n",
            "Epoch 22: Train err: 0.276375, Train loss: 0.5418151080608368 |Validation err: 0.2975, Validation loss: 0.5871893828734756\n",
            "Epoch 23: Train err: 0.271375, Train loss: 0.5402560226917267 |Validation err: 0.2995, Validation loss: 0.5761108659207821\n",
            "Epoch 24: Train err: 0.271625, Train loss: 0.5383571574687958 |Validation err: 0.3, Validation loss: 0.5727039538323879\n",
            "Epoch 25: Train err: 0.272, Train loss: 0.5358010833263397 |Validation err: 0.301, Validation loss: 0.5724161909893155\n",
            "Epoch 26: Train err: 0.2705, Train loss: 0.5351630024909974 |Validation err: 0.289, Validation loss: 0.5672961100935936\n",
            "Epoch 27: Train err: 0.271625, Train loss: 0.5350889472961425 |Validation err: 0.303, Validation loss: 0.58538709115237\n",
            "Epoch 28: Train err: 0.2715, Train loss: 0.5336245052814483 |Validation err: 0.2865, Validation loss: 0.5679178843274713\n",
            "Epoch 29: Train err: 0.2705, Train loss: 0.5338149764537812 |Validation err: 0.2915, Validation loss: 0.5769281508401036\n",
            "Epoch 30: Train err: 0.273125, Train loss: 0.537211198091507 |Validation err: 0.3025, Validation loss: 0.5788437947630882\n",
            "Finished Training\n",
            "Total time elapsed: 107.56 seconds\n"
          ],
          "name": "stdout"
        }
      ]
    },
    {
      "cell_type": "code",
      "metadata": {
        "id": "7ou6dzWiznnp",
        "outputId": "a48edb33-036d-4dfe-f458-8e07cee4673f",
        "colab": {
          "base_uri": "https://localhost:8080/",
          "height": 615
        }
      },
      "source": [
        "train_net(large_net, batch_size=64, learning_rate=0.01, num_epochs=30)"
      ],
      "execution_count": null,
      "outputs": [
        {
          "output_type": "stream",
          "text": [
            "Files already downloaded and verified\n",
            "Files already downloaded and verified\n",
            "Epoch 1: Train err: 0.487125, Train loss: 0.6924404425621032 |Validation err: 0.4405, Validation loss: 0.6897194758057594\n",
            "Epoch 2: Train err: 0.450125, Train loss: 0.6873318748474121 |Validation err: 0.4175, Validation loss: 0.6810790542513132\n",
            "Epoch 3: Train err: 0.424125, Train loss: 0.6747903661727905 |Validation err: 0.3885, Validation loss: 0.6569829937070608\n",
            "Epoch 4: Train err: 0.38075, Train loss: 0.6508827657699585 |Validation err: 0.369, Validation loss: 0.6457093469798565\n",
            "Epoch 5: Train err: 0.357125, Train loss: 0.637935616493225 |Validation err: 0.3615, Validation loss: 0.6340117380023003\n",
            "Epoch 6: Train err: 0.343625, Train loss: 0.6251359066963196 |Validation err: 0.3455, Validation loss: 0.627953790128231\n",
            "Epoch 7: Train err: 0.338375, Train loss: 0.6143229374885559 |Validation err: 0.3415, Validation loss: 0.6194543763995171\n",
            "Epoch 8: Train err: 0.325125, Train loss: 0.6026482799053192 |Validation err: 0.3285, Validation loss: 0.6019365638494492\n",
            "Epoch 9: Train err: 0.321, Train loss: 0.5935910620689392 |Validation err: 0.322, Validation loss: 0.5955862645059824\n",
            "Epoch 10: Train err: 0.301, Train loss: 0.5774584200382232 |Validation err: 0.313, Validation loss: 0.5862040752544999\n",
            "Epoch 11: Train err: 0.291875, Train loss: 0.5656600868701935 |Validation err: 0.3195, Validation loss: 0.5892564551904798\n",
            "Epoch 12: Train err: 0.28525, Train loss: 0.5469183666706086 |Validation err: 0.2955, Validation loss: 0.5632438799366355\n",
            "Epoch 13: Train err: 0.275875, Train loss: 0.5361575319766998 |Validation err: 0.3025, Validation loss: 0.5728600742295384\n",
            "Epoch 14: Train err: 0.264875, Train loss: 0.5222916927337646 |Validation err: 0.2845, Validation loss: 0.5576734617352486\n",
            "Epoch 15: Train err: 0.256, Train loss: 0.5114668703079224 |Validation err: 0.2905, Validation loss: 0.5527825467288494\n",
            "Epoch 16: Train err: 0.2515, Train loss: 0.5069978709220886 |Validation err: 0.289, Validation loss: 0.570672701112926\n",
            "Epoch 17: Train err: 0.246625, Train loss: 0.4979101464748383 |Validation err: 0.285, Validation loss: 0.5547630935907364\n",
            "Epoch 18: Train err: 0.232375, Train loss: 0.4775033798217773 |Validation err: 0.279, Validation loss: 0.5492670014500618\n",
            "Epoch 19: Train err: 0.2285, Train loss: 0.4749914062023163 |Validation err: 0.274, Validation loss: 0.5520955622196198\n",
            "Epoch 20: Train err: 0.22075, Train loss: 0.4614432280063629 |Validation err: 0.2865, Validation loss: 0.6112584080547094\n",
            "Epoch 21: Train err: 0.21875, Train loss: 0.4574694848060608 |Validation err: 0.274, Validation loss: 0.5671815983951092\n",
            "Epoch 22: Train err: 0.211375, Train loss: 0.4440987911224365 |Validation err: 0.2725, Validation loss: 0.5761953433975577\n",
            "Epoch 23: Train err: 0.200375, Train loss: 0.434711226940155 |Validation err: 0.273, Validation loss: 0.5664654579013586\n",
            "Epoch 24: Train err: 0.194125, Train loss: 0.4182750287055969 |Validation err: 0.29, Validation loss: 0.6309594539925456\n",
            "Epoch 25: Train err: 0.186625, Train loss: 0.40744028556346895 |Validation err: 0.283, Validation loss: 0.5889294929802418\n",
            "Epoch 26: Train err: 0.177625, Train loss: 0.3906817936897278 |Validation err: 0.2955, Validation loss: 0.6182116409763694\n",
            "Epoch 27: Train err: 0.172875, Train loss: 0.3785322105884552 |Validation err: 0.287, Validation loss: 0.6250268490985036\n",
            "Epoch 28: Train err: 0.166, Train loss: 0.36906580269336703 |Validation err: 0.286, Validation loss: 0.6310869660228491\n",
            "Epoch 29: Train err: 0.158375, Train loss: 0.35793424117565154 |Validation err: 0.3115, Validation loss: 0.7312275534495711\n",
            "Epoch 30: Train err: 0.154625, Train loss: 0.3482898285388947 |Validation err: 0.2855, Validation loss: 0.6570412032306194\n",
            "Finished Training\n",
            "Total time elapsed: 122.40 seconds\n"
          ],
          "name": "stdout"
        }
      ]
    },
    {
      "cell_type": "markdown",
      "metadata": {
        "id": "mcfmTcIt0T8d"
      },
      "source": [
        "**Answer:** The large_net network took longer to train (122.40 seconds), whereas the small_net network took 107.56 seconds.\n",
        "\n",
        "The large_net network took longer because it has more layers than small_net. "
      ]
    },
    {
      "cell_type": "markdown",
      "metadata": {
        "id": "Pk4GIF3QqIEj"
      },
      "source": [
        "### Part (e)\n",
        "\n",
        "Use the function `plot_training_curve` to display the trajectory of the \n",
        "training/validation error and the training/validation loss.\n",
        "You will need to use the function `get_model_name` to generate the\n",
        "argument to the `plot_training_curve` function.\n",
        "\n",
        "Do this for both the small network and the large network. Include both plots\n",
        "in your writeup."
      ]
    },
    {
      "cell_type": "code",
      "metadata": {
        "id": "EXrEgOtuqIEk"
      },
      "source": [
        "#model_path = get_model_name(\"small\", batch_size=??, learning_rate=??, epoch=29)"
      ],
      "execution_count": null,
      "outputs": []
    },
    {
      "cell_type": "code",
      "metadata": {
        "id": "kAy6nKy21jo4"
      },
      "source": [
        "model_path=get_model_name('small', batch_size=64, learning_rate=0.01, epoch=29)"
      ],
      "execution_count": null,
      "outputs": []
    },
    {
      "cell_type": "code",
      "metadata": {
        "id": "BI2_bCoBW9zi",
        "outputId": "2d0b6bd9-cc79-4762-bc60-3e9aaf405c25",
        "colab": {
          "base_uri": "https://localhost:8080/",
          "height": 573
        }
      },
      "source": [
        "plot_training_curve(model_path)"
      ],
      "execution_count": null,
      "outputs": [
        {
          "output_type": "display_data",
          "data": {
            "image/png": "[encoded data removed]",
            "text/plain": [
              "<Figure size 432x288 with 1 Axes>"
            ]
          },
          "metadata": {
            "tags": [],
            "needs_background": "light"
          }
        },
        {
          "output_type": "display_data",
          "data": {
            "image/png": "[encoded data removed]",
            "text/plain": [
              "<Figure size 432x288 with 1 Axes>"
            ]
          },
          "metadata": {
            "tags": [],
            "needs_background": "light"
          }
        }
      ]
    },
    {
      "cell_type": "code",
      "metadata": {
        "id": "MBLi2uNR3Dpi",
        "outputId": "9e7943b0-d984-462c-96cf-a08e0a164d63",
        "colab": {
          "base_uri": "https://localhost:8080/",
          "height": 573
        }
      },
      "source": [
        "model_path_2=get_model_name('large', batch_size=64, learning_rate=0.01, epoch=29)\n",
        "plot_training_curve(model_path_2)"
      ],
      "execution_count": null,
      "outputs": [
        {
          "output_type": "display_data",
          "data": {
            "image/png": "[encoded data removed]",
            "text/plain": [
              "<Figure size 432x288 with 1 Axes>"
            ]
          },
          "metadata": {
            "tags": [],
            "needs_background": "light"
          }
        },
        {
          "output_type": "display_data",
          "data": {
            "image/png": "[encoded data removed]",
            "text/plain": [
              "<Figure size 432x288 with 1 Axes>"
            ]
          },
          "metadata": {
            "tags": [],
            "needs_background": "light"
          }
        }
      ]
    },
    {
      "cell_type": "markdown",
      "metadata": {
        "id": "kUzWo8HRqIEu"
      },
      "source": [
        "### Part (f)\n",
        "\n",
        "Describe what you notice about the training curve.\n",
        "How do the curves differ for `small_net` and `large_net`?\n",
        "Identify any occurences of underfitting and overfitting."
      ]
    },
    {
      "cell_type": "markdown",
      "metadata": {
        "id": "XxtEKLDuRhew"
      },
      "source": [
        "The large_net curve goes through overfitting. This is evident as initially, the validation error/loss curve closely follows the training error/loss curve. However, with more iterations, the model eventually gets too trained/fixed on the training data, that it is unable to generalize to unseen data. This results in the validation error/loss plateauing or  increasing with each epoch. \n",
        "\n",
        "The small_net curve goes through underfitting as the training loss/errors are already pretty high (that you can't really expect them to do well on the validation). This means that the training dataset needs to go through more intensive training; for example, it may need to go through more iterations to further train itself on the training data. "
      ]
    },
    {
      "cell_type": "markdown",
      "metadata": {
        "id": "jYP_y58SqIEz"
      },
      "source": [
        "## Part 3. Optimization Parameters\n",
        "\n",
        "For this section, we will work with `large_net` only."
      ]
    },
    {
      "cell_type": "markdown",
      "metadata": {
        "id": "f1uGdKUIqIE1"
      },
      "source": [
        "### Part (a)\n",
        "\n",
        "Train `large_net` with all default parameters, except set `learning_rate=0.001`.\n",
        "Does the model take longer/shorter to train?\n",
        "Plot the training curve. Describe the effect of *lowering* the learning rate."
      ]
    },
    {
      "cell_type": "markdown",
      "metadata": {
        "id": "9jr__QFOUAfY"
      },
      "source": [
        "**Answer:** Takes longer to train. This is because since the learning rate is smaller, then when it gets multiplied, the value of the \"steps\" are lower. With smaller \"steps\" towards minimum error, it takes longer to train.\n"
      ]
    },
    {
      "cell_type": "code",
      "metadata": {
        "id": "b9-toERSqIE2",
        "outputId": "22b0b315-b064-4269-a1e8-c5c2346cb61e",
        "colab": {
          "base_uri": "https://localhost:8080/",
          "height": 615
        }
      },
      "source": [
        "# Note: When we re-construct the model, we start the training\n",
        "# with *random weights*. If we omit this code, the values of\n",
        "# the weights will still be the previously trained values.\n",
        "large_net = LargeNet()\n",
        "\n",
        "train_net(large_net, batch_size=64, learning_rate=0.001, num_epochs=30)\n"
      ],
      "execution_count": null,
      "outputs": [
        {
          "output_type": "stream",
          "text": [
            "Files already downloaded and verified\n",
            "Files already downloaded and verified\n",
            "Epoch 1: Train err: 0.497375, Train loss: 0.6937690386772156 |Validation err: 0.5075, Validation loss: 0.6932747140526772\n",
            "Epoch 2: Train err: 0.481, Train loss: 0.6923328990936279 |Validation err: 0.459, Validation loss: 0.6914442852139473\n",
            "Epoch 3: Train err: 0.451875, Train loss: 0.6911920099258423 |Validation err: 0.437, Validation loss: 0.6901759058237076\n",
            "Epoch 4: Train err: 0.441125, Train loss: 0.6901091275215149 |Validation err: 0.441, Validation loss: 0.6883849408477545\n",
            "Epoch 5: Train err: 0.43825, Train loss: 0.6889482131004333 |Validation err: 0.431, Validation loss: 0.6872975062578917\n",
            "Epoch 6: Train err: 0.4375, Train loss: 0.6876590156555176 |Validation err: 0.422, Validation loss: 0.6856152843683958\n",
            "Epoch 7: Train err: 0.433875, Train loss: 0.6862158465385437 |Validation err: 0.4185, Validation loss: 0.6838120464235544\n",
            "Epoch 8: Train err: 0.42975, Train loss: 0.6845459523200988 |Validation err: 0.4205, Validation loss: 0.6815302781760693\n",
            "Epoch 9: Train err: 0.418875, Train loss: 0.6826325874328614 |Validation err: 0.407, Validation loss: 0.6786543615162373\n",
            "Epoch 10: Train err: 0.418625, Train loss: 0.6804044127464295 |Validation err: 0.406, Validation loss: 0.6751652471721172\n",
            "Epoch 11: Train err: 0.41625, Train loss: 0.6778540625572205 |Validation err: 0.405, Validation loss: 0.6741837467998266\n",
            "Epoch 12: Train err: 0.405125, Train loss: 0.6752044420242309 |Validation err: 0.405, Validation loss: 0.6702460926026106\n",
            "Epoch 13: Train err: 0.403625, Train loss: 0.6721914172172546 |Validation err: 0.4, Validation loss: 0.6694225668907166\n",
            "Epoch 14: Train err: 0.3995, Train loss: 0.6694617924690247 |Validation err: 0.3965, Validation loss: 0.6672859434038401\n",
            "Epoch 15: Train err: 0.396625, Train loss: 0.6667722139358521 |Validation err: 0.3955, Validation loss: 0.6622777655720711\n",
            "Epoch 16: Train err: 0.39475, Train loss: 0.6639213366508484 |Validation err: 0.3865, Validation loss: 0.6611129529774189\n",
            "Epoch 17: Train err: 0.38925, Train loss: 0.6612495694160462 |Validation err: 0.382, Validation loss: 0.6565165016800165\n",
            "Epoch 18: Train err: 0.382375, Train loss: 0.6582301316261292 |Validation err: 0.387, Validation loss: 0.6507573369890451\n",
            "Epoch 19: Train err: 0.382125, Train loss: 0.6549248633384704 |Validation err: 0.382, Validation loss: 0.65110526047647\n",
            "Epoch 20: Train err: 0.372375, Train loss: 0.6506022267341613 |Validation err: 0.374, Validation loss: 0.6463256720453501\n",
            "Epoch 21: Train err: 0.37, Train loss: 0.6476075940132141 |Validation err: 0.3675, Validation loss: 0.641367370262742\n",
            "Epoch 22: Train err: 0.366125, Train loss: 0.6428823113441468 |Validation err: 0.3565, Validation loss: 0.6411397196352482\n",
            "Epoch 23: Train err: 0.36475, Train loss: 0.6382748708724976 |Validation err: 0.35, Validation loss: 0.6340014915913343\n",
            "Epoch 24: Train err: 0.36, Train loss: 0.635579770565033 |Validation err: 0.346, Validation loss: 0.6307621132582426\n",
            "Epoch 25: Train err: 0.351625, Train loss: 0.6306332755088806 |Validation err: 0.3455, Validation loss: 0.627619743347168\n",
            "Epoch 26: Train err: 0.352, Train loss: 0.6278648586273193 |Validation err: 0.3535, Validation loss: 0.6263678222894669\n",
            "Epoch 27: Train err: 0.349375, Train loss: 0.6252652425765991 |Validation err: 0.342, Validation loss: 0.6242552511394024\n",
            "Epoch 28: Train err: 0.348625, Train loss: 0.6237048377990723 |Validation err: 0.34, Validation loss: 0.6204615794122219\n",
            "Epoch 29: Train err: 0.3465, Train loss: 0.6217061624526977 |Validation err: 0.3385, Validation loss: 0.6204378120601177\n",
            "Epoch 30: Train err: 0.342125, Train loss: 0.6205653347969056 |Validation err: 0.341, Validation loss: 0.6215831506997347\n",
            "Finished Training\n",
            "Total time elapsed: 132.89 seconds\n"
          ],
          "name": "stdout"
        }
      ]
    },
    {
      "cell_type": "code",
      "metadata": {
        "id": "ky2Q1mW1YTc-",
        "outputId": "184367d0-df92-40c7-f324-1a932465f7ed",
        "colab": {
          "base_uri": "https://localhost:8080/",
          "height": 573
        }
      },
      "source": [
        "model_path_3=get_model_name('large', batch_size=64, learning_rate=0.001, epoch=29)\n",
        "plot_training_curve(model_path_3)"
      ],
      "execution_count": null,
      "outputs": [
        {
          "output_type": "display_data",
          "data": {
            "image/png": "[encoded data removed]",
            "text/plain": [
              "<Figure size 432x288 with 1 Axes>"
            ]
          },
          "metadata": {
            "tags": [],
            "needs_background": "light"
          }
        },
        {
          "output_type": "display_data",
          "data": {
            "image/png": "[encoded data removed]",
            "text/plain": [
              "<Figure size 432x288 with 1 Axes>"
            ]
          },
          "metadata": {
            "tags": [],
            "needs_background": "light"
          }
        }
      ]
    },
    {
      "cell_type": "markdown",
      "metadata": {
        "id": "5APYluUoqIE4"
      },
      "source": [
        "### Part (b)\n",
        "\n",
        "Train `large_net` with all default parameters, except set `learning_rate=0.1`. \n",
        "Does the model take longer/shorter to train?\n",
        "Plot the training curve. Describe the effect of *increasing* the learning rate."
      ]
    },
    {
      "cell_type": "markdown",
      "metadata": {
        "id": "4latlmjWVA5m"
      },
      "source": [
        "**Answer:** It took longer to train. Usually, increasing the learning rate results in larger \"steps\" which should decrease the training time. However, this is not always the case. If the learning rate is TOO large, then the steps can \"criss-cross\" while undergoing gradient descent. This \"criss-crossing\" is evident in the graphs as the curves are very \"jagged\" and noisy. They are alternating between higher and lower error values."
      ]
    },
    {
      "cell_type": "code",
      "metadata": {
        "id": "JwRMkIQ4NsnY",
        "outputId": "200f971d-624d-4ab0-9046-57cb1ccb4431",
        "colab": {
          "base_uri": "https://localhost:8080/",
          "height": 632
        }
      },
      "source": [
        "large_net = LargeNet()\n",
        "\n",
        "train_net(large_net, batch_size=64, learning_rate=0.1, num_epochs=30)\n",
        "\n",
        "'''takes longer time to train'''"
      ],
      "execution_count": null,
      "outputs": [
        {
          "output_type": "stream",
          "text": [
            "Files already downloaded and verified\n",
            "Files already downloaded and verified\n",
            "Epoch 1: Train err: 0.44425, Train loss: 0.6838377194404602 |Validation err: 0.417, Validation loss: 0.6798075009137392\n",
            "Epoch 2: Train err: 0.387, Train loss: 0.6591065440177918 |Validation err: 0.384, Validation loss: 0.6421225406229496\n",
            "Epoch 3: Train err: 0.3665, Train loss: 0.6347824468612671 |Validation err: 0.3605, Validation loss: 0.6413515340536833\n",
            "Epoch 4: Train err: 0.3535, Train loss: 0.6272764320373535 |Validation err: 0.356, Validation loss: 0.6313397102057934\n",
            "Epoch 5: Train err: 0.336375, Train loss: 0.6052721109390259 |Validation err: 0.344, Validation loss: 0.6175968777388334\n",
            "Epoch 6: Train err: 0.317875, Train loss: 0.5929006912708282 |Validation err: 0.3185, Validation loss: 0.6394618432968855\n",
            "Epoch 7: Train err: 0.31075, Train loss: 0.5770841290950776 |Validation err: 0.359, Validation loss: 0.63242875225842\n",
            "Epoch 8: Train err: 0.30925, Train loss: 0.5728916997909546 |Validation err: 0.322, Validation loss: 0.5872034393250942\n",
            "Epoch 9: Train err: 0.297125, Train loss: 0.5641695625782013 |Validation err: 0.3385, Validation loss: 0.614474062807858\n",
            "Epoch 10: Train err: 0.277625, Train loss: 0.5431635296344757 |Validation err: 0.323, Validation loss: 0.5881467126309872\n",
            "Epoch 11: Train err: 0.282125, Train loss: 0.5412833874225617 |Validation err: 0.307, Validation loss: 0.645863113924861\n",
            "Epoch 12: Train err: 0.270125, Train loss: 0.5306980276107788 |Validation err: 0.299, Validation loss: 0.597903273999691\n",
            "Epoch 13: Train err: 0.258125, Train loss: 0.5195474734306336 |Validation err: 0.3215, Validation loss: 0.6040508532896638\n",
            "Epoch 14: Train err: 0.258625, Train loss: 0.5119881281852722 |Validation err: 0.3225, Validation loss: 0.603697057813406\n",
            "Epoch 15: Train err: 0.26275, Train loss: 0.5166007602214813 |Validation err: 0.327, Validation loss: 0.715514425188303\n",
            "Epoch 16: Train err: 0.253875, Train loss: 0.5086190075874328 |Validation err: 0.3535, Validation loss: 0.649984685704112\n",
            "Epoch 17: Train err: 0.258, Train loss: 0.5144160208702088 |Validation err: 0.3325, Validation loss: 0.673331843689084\n",
            "Epoch 18: Train err: 0.247125, Train loss: 0.5038200147151947 |Validation err: 0.3245, Validation loss: 0.644036159850657\n",
            "Epoch 19: Train err: 0.23425, Train loss: 0.48396158838272096 |Validation err: 0.3365, Validation loss: 0.766913334839046\n",
            "Epoch 20: Train err: 0.232875, Train loss: 0.4824591476917267 |Validation err: 0.306, Validation loss: 0.7580314306542277\n",
            "Epoch 21: Train err: 0.231, Train loss: 0.4721074278354645 |Validation err: 0.3335, Validation loss: 0.6923836870118976\n",
            "Epoch 22: Train err: 0.229375, Train loss: 0.4632743487358093 |Validation err: 0.323, Validation loss: 0.6714791869744658\n",
            "Epoch 23: Train err: 0.2295, Train loss: 0.47592959117889405 |Validation err: 0.3105, Validation loss: 0.773424094542861\n",
            "Epoch 24: Train err: 0.24025, Train loss: 0.49477643275260924 |Validation err: 0.3245, Validation loss: 0.8224530192092061\n",
            "Epoch 25: Train err: 0.223, Train loss: 0.46273632955551147 |Validation err: 0.312, Validation loss: 0.8113961732015014\n",
            "Epoch 26: Train err: 0.217625, Train loss: 0.4515507111549377 |Validation err: 0.317, Validation loss: 0.759703834541142\n",
            "Epoch 27: Train err: 0.2245, Train loss: 0.46677232813835146 |Validation err: 0.3375, Validation loss: 0.8065493926405907\n",
            "Epoch 28: Train err: 0.21725, Train loss: 0.45310695719718935 |Validation err: 0.327, Validation loss: 0.7872645538300276\n",
            "Epoch 29: Train err: 0.2405, Train loss: 0.49143199014663697 |Validation err: 0.3405, Validation loss: 1.0110591538250446\n",
            "Epoch 30: Train err: 0.265, Train loss: 0.5292394061088562 |Validation err: 0.3475, Validation loss: 0.7293924055993557\n",
            "Finished Training\n",
            "Total time elapsed: 140.08 seconds\n"
          ],
          "name": "stdout"
        },
        {
          "output_type": "execute_result",
          "data": {
            "text/plain": [
              "'takes longer time to train'"
            ]
          },
          "metadata": {
            "tags": []
          },
          "execution_count": 73
        }
      ]
    },
    {
      "cell_type": "code",
      "metadata": {
        "id": "qR27lp5AOdMh",
        "outputId": "e073b9b3-975c-4c9b-9a05-40e619d12597",
        "colab": {
          "base_uri": "https://localhost:8080/",
          "height": 573
        }
      },
      "source": [
        "model_path_4=get_model_name('large', batch_size=64, learning_rate=0.1, epoch=29)\n",
        "plot_training_curve(model_path_4)"
      ],
      "execution_count": null,
      "outputs": [
        {
          "output_type": "display_data",
          "data": {
            "image/png": "[encoded data removed]",
            "text/plain": [
              "<Figure size 432x288 with 1 Axes>"
            ]
          },
          "metadata": {
            "tags": [],
            "needs_background": "light"
          }
        },
        {
          "output_type": "display_data",
          "data": {
            "image/png": "[encoded data removed]",
            "text/plain": [
              "<Figure size 432x288 with 1 Axes>"
            ]
          },
          "metadata": {
            "tags": [],
            "needs_background": "light"
          }
        }
      ]
    },
    {
      "cell_type": "markdown",
      "metadata": {
        "id": "GMb-NLitqIE7"
      },
      "source": [
        "### Part (c)\n",
        "\n",
        "Train `large_net` with all default parameters, including with `learning_rate=0.01`.\n",
        "Now, set `batch_size=512`. Does the model take longer/shorter to train?\n",
        "Plot the training curve. Describe the effect of *increasing* the batch size."
      ]
    },
    {
      "cell_type": "markdown",
      "metadata": {
        "id": "B9ZDVF-3WAQP"
      },
      "source": [
        "**Answer:** It takes a shorter time to train. This is because larger batches leads to a lower number of iterations. Because the number of iterations is low, the values do not get optimized as much, so the error values are relatively high."
      ]
    },
    {
      "cell_type": "code",
      "metadata": {
        "id": "atXTKu0rO8WG",
        "outputId": "eea9741d-93d1-4159-c3b9-7d4b7daaf571",
        "colab": {
          "base_uri": "https://localhost:8080/",
          "height": 632
        }
      },
      "source": [
        "large_net = LargeNet()\n",
        "\n",
        "train_net(large_net, batch_size=512, learning_rate=0.01, num_epochs=30)\n"
      ],
      "execution_count": null,
      "outputs": [
        {
          "output_type": "stream",
          "text": [
            "Files already downloaded and verified\n",
            "Files already downloaded and verified\n",
            "Epoch 1: Train err: 0.469875, Train loss: 0.6909716799855232 |Validation err: 0.453, Validation loss: 0.6904224753379822\n",
            "Epoch 2: Train err: 0.46425, Train loss: 0.6892555691301823 |Validation err: 0.4505, Validation loss: 0.6891553699970245\n",
            "Epoch 3: Train err: 0.4555, Train loss: 0.6878202259540558 |Validation err: 0.4465, Validation loss: 0.6878849565982819\n",
            "Epoch 4: Train err: 0.448875, Train loss: 0.6867033764719963 |Validation err: 0.446, Validation loss: 0.6866987645626068\n",
            "Epoch 5: Train err: 0.448, Train loss: 0.685115247964859 |Validation err: 0.4425, Validation loss: 0.6855423450469971\n",
            "Epoch 6: Train err: 0.44475, Train loss: 0.6843021623790264 |Validation err: 0.4395, Validation loss: 0.6843730956315994\n",
            "Epoch 7: Train err: 0.4425, Train loss: 0.6831371448934078 |Validation err: 0.444, Validation loss: 0.6832610070705414\n",
            "Epoch 8: Train err: 0.43875, Train loss: 0.6819746196269989 |Validation err: 0.4315, Validation loss: 0.6831024438142776\n",
            "Epoch 9: Train err: 0.437125, Train loss: 0.6809846423566341 |Validation err: 0.439, Validation loss: 0.6809632182121277\n",
            "Epoch 10: Train err: 0.43375, Train loss: 0.6800641156733036 |Validation err: 0.4315, Validation loss: 0.679967001080513\n",
            "Epoch 11: Train err: 0.429875, Train loss: 0.678310438990593 |Validation err: 0.4205, Validation loss: 0.6789869517087936\n",
            "Epoch 12: Train err: 0.42725, Train loss: 0.6769850589334965 |Validation err: 0.422, Validation loss: 0.6766564100980759\n",
            "Epoch 13: Train err: 0.4225, Train loss: 0.6751036122441292 |Validation err: 0.416, Validation loss: 0.6745840907096863\n",
            "Epoch 14: Train err: 0.415375, Train loss: 0.6727053225040436 |Validation err: 0.4155, Validation loss: 0.6725017428398132\n",
            "Epoch 15: Train err: 0.412375, Train loss: 0.6702622845768929 |Validation err: 0.4115, Validation loss: 0.6705679148435593\n",
            "Epoch 16: Train err: 0.409625, Train loss: 0.6684094853699207 |Validation err: 0.4075, Validation loss: 0.6683352589607239\n",
            "Epoch 17: Train err: 0.406375, Train loss: 0.6659434624016285 |Validation err: 0.412, Validation loss: 0.6666395515203476\n",
            "Epoch 18: Train err: 0.404625, Train loss: 0.6633100286126137 |Validation err: 0.4025, Validation loss: 0.6640390008687973\n",
            "Epoch 19: Train err: 0.396, Train loss: 0.6609878949820995 |Validation err: 0.397, Validation loss: 0.6626888960599899\n",
            "Epoch 20: Train err: 0.391625, Train loss: 0.6579774506390095 |Validation err: 0.388, Validation loss: 0.6596667915582657\n",
            "Epoch 21: Train err: 0.383125, Train loss: 0.6544790379703045 |Validation err: 0.3895, Validation loss: 0.6564295291900635\n",
            "Epoch 22: Train err: 0.383, Train loss: 0.6522992290556431 |Validation err: 0.3805, Validation loss: 0.6546592116355896\n",
            "Epoch 23: Train err: 0.372125, Train loss: 0.6471348367631435 |Validation err: 0.3775, Validation loss: 0.6533492356538773\n",
            "Epoch 24: Train err: 0.363, Train loss: 0.6427249163389206 |Validation err: 0.3755, Validation loss: 0.6527180522680283\n",
            "Epoch 25: Train err: 0.36425, Train loss: 0.6403689384460449 |Validation err: 0.357, Validation loss: 0.6449134796857834\n",
            "Epoch 26: Train err: 0.3615, Train loss: 0.6378931812942028 |Validation err: 0.3675, Validation loss: 0.6449659019708633\n",
            "Epoch 27: Train err: 0.361625, Train loss: 0.6332421749830246 |Validation err: 0.3755, Validation loss: 0.6502567231655121\n",
            "Epoch 28: Train err: 0.35, Train loss: 0.6311047933995724 |Validation err: 0.3585, Validation loss: 0.6387653201818466\n",
            "Epoch 29: Train err: 0.338375, Train loss: 0.6210803464055061 |Validation err: 0.3495, Validation loss: 0.6349643468856812\n",
            "Epoch 30: Train err: 0.337625, Train loss: 0.6183997094631195 |Validation err: 0.35, Validation loss: 0.632316067814827\n",
            "Finished Training\n",
            "Total time elapsed: 116.02 seconds\n"
          ],
          "name": "stdout"
        },
        {
          "output_type": "execute_result",
          "data": {
            "text/plain": [
              "'takes shorter time to train'"
            ]
          },
          "metadata": {
            "tags": []
          },
          "execution_count": 77
        }
      ]
    },
    {
      "cell_type": "code",
      "metadata": {
        "id": "cA2Wkhq4L6NN",
        "outputId": "9f321fd3-6a28-4443-e7b0-9ae0faf3da07",
        "colab": {
          "base_uri": "https://localhost:8080/",
          "height": 573
        }
      },
      "source": [
        "model_path_5=get_model_name('large', batch_size=512, learning_rate=0.01, epoch=29)\n",
        "plot_training_curve(model_path_5)"
      ],
      "execution_count": null,
      "outputs": [
        {
          "output_type": "display_data",
          "data": {
            "image/png": "[encoded data removed]",
            "text/plain": [
              "<Figure size 432x288 with 1 Axes>"
            ]
          },
          "metadata": {
            "tags": [],
            "needs_background": "light"
          }
        },
        {
          "output_type": "display_data",
          "data": {
            "image/png": "[encoded data removed]",
            "text/plain": [
              "<Figure size 432x288 with 1 Axes>"
            ]
          },
          "metadata": {
            "tags": [],
            "needs_background": "light"
          }
        }
      ]
    },
    {
      "cell_type": "markdown",
      "metadata": {
        "id": "DwvN15IzqIE-"
      },
      "source": [
        "### Part (d)\n",
        "\n",
        "Train `large_net` with all default parameters, including with `learning_rate=0.01`.\n",
        "Now, set `batch_size=16`. Does the model take longer/shorter to train?\n",
        "Plot the training curve. Describe the effect of *decreasing* the batch size."
      ]
    },
    {
      "cell_type": "markdown",
      "metadata": {
        "id": "3WPPRDcJWepa"
      },
      "source": [
        "**Answer:** It takes a longer time to train. This is because smaller batch sizes lead to more iterations. However, in this case, the batch size was decreased too much. This is evident due to the overfitting shown in the graphs. Because the number of iterations are too high, the model gets too trained on the training dataset, that the performance on the validation dataset is very poor (its error plateaus, loss increases)."
      ]
    },
    {
      "cell_type": "code",
      "metadata": {
        "id": "CjVRWzhwQYZw",
        "outputId": "96902415-2107-4361-a356-64315cb98b33",
        "colab": {
          "base_uri": "https://localhost:8080/",
          "height": 632
        }
      },
      "source": [
        "large_net = LargeNet()\n",
        "\n",
        "train_net(large_net, batch_size=16, learning_rate=0.01, num_epochs=30)\n"
      ],
      "execution_count": null,
      "outputs": [
        {
          "output_type": "stream",
          "text": [
            "Files already downloaded and verified\n",
            "Files already downloaded and verified\n",
            "Epoch 1: Train err: 0.432375, Train loss: 0.6776111873388291 |Validation err: 0.3685, Validation loss: 0.6501240582466126\n",
            "Epoch 2: Train err: 0.367875, Train loss: 0.6403644292354583 |Validation err: 0.355, Validation loss: 0.6325501449108124\n",
            "Epoch 3: Train err: 0.338, Train loss: 0.6096278015375137 |Validation err: 0.326, Validation loss: 0.6031130259037017\n",
            "Epoch 4: Train err: 0.3195, Train loss: 0.5898999410271645 |Validation err: 0.326, Validation loss: 0.6062264757156373\n",
            "Epoch 5: Train err: 0.306125, Train loss: 0.5717852766513825 |Validation err: 0.305, Validation loss: 0.5729322798252106\n",
            "Epoch 6: Train err: 0.2885, Train loss: 0.5537521095871926 |Validation err: 0.3085, Validation loss: 0.5815223565101624\n",
            "Epoch 7: Train err: 0.276625, Train loss: 0.5346069442629814 |Validation err: 0.306, Validation loss: 0.5928398003578186\n",
            "Epoch 8: Train err: 0.26825, Train loss: 0.5221896586716175 |Validation err: 0.3275, Validation loss: 0.5817652642726898\n",
            "Epoch 9: Train err: 0.261375, Train loss: 0.5078337389230728 |Validation err: 0.3155, Validation loss: 0.580411812543869\n",
            "Epoch 10: Train err: 0.2485, Train loss: 0.48777442386746406 |Validation err: 0.2955, Validation loss: 0.5710389947891236\n",
            "Epoch 11: Train err: 0.2335, Train loss: 0.47281420454382894 |Validation err: 0.296, Validation loss: 0.5971099663972854\n",
            "Epoch 12: Train err: 0.217875, Train loss: 0.4521985111236572 |Validation err: 0.3005, Validation loss: 0.60948286485672\n",
            "Epoch 13: Train err: 0.204625, Train loss: 0.433880328476429 |Validation err: 0.2965, Validation loss: 0.6117152035236358\n",
            "Epoch 14: Train err: 0.1965, Train loss: 0.41457343371212485 |Validation err: 0.3, Validation loss: 0.65045552277565\n",
            "Epoch 15: Train err: 0.18275, Train loss: 0.39050544145703314 |Validation err: 0.302, Validation loss: 0.6751130080223083\n",
            "Epoch 16: Train err: 0.16775, Train loss: 0.3731341379135847 |Validation err: 0.2965, Validation loss: 0.6895603382587433\n",
            "Epoch 17: Train err: 0.165, Train loss: 0.3622820044606924 |Validation err: 0.2995, Validation loss: 0.7320415751934052\n",
            "Epoch 18: Train err: 0.156625, Train loss: 0.3453828993886709 |Validation err: 0.2975, Validation loss: 0.7478014296293258\n",
            "Epoch 19: Train err: 0.147625, Train loss: 0.3306462201625109 |Validation err: 0.3125, Validation loss: 0.800474069595337\n",
            "Epoch 20: Train err: 0.14275, Train loss: 0.31497084847837686 |Validation err: 0.3015, Validation loss: 0.831168710231781\n",
            "Epoch 21: Train err: 0.12975, Train loss: 0.3001027639210224 |Validation err: 0.3135, Validation loss: 0.8316727001667023\n",
            "Epoch 22: Train err: 0.123875, Train loss: 0.2789849097207189 |Validation err: 0.316, Validation loss: 0.8608182718753815\n",
            "Epoch 23: Train err: 0.107375, Train loss: 0.25056111078336835 |Validation err: 0.3205, Validation loss: 1.1013210602998733\n",
            "Epoch 24: Train err: 0.1115, Train loss: 0.25316896085441115 |Validation err: 0.325, Validation loss: 0.9940883328914643\n",
            "Epoch 25: Train err: 0.1055, Train loss: 0.25425718682911247 |Validation err: 0.3105, Validation loss: 1.1020753582119942\n",
            "Epoch 26: Train err: 0.103375, Train loss: 0.23857743957266211 |Validation err: 0.313, Validation loss: 1.0481835063695908\n",
            "Epoch 27: Train err: 0.098625, Train loss: 0.2391235002912581 |Validation err: 0.3165, Validation loss: 1.1489788137674333\n",
            "Epoch 28: Train err: 0.09375, Train loss: 0.21898066161945462 |Validation err: 0.3065, Validation loss: 1.2290268540382385\n",
            "Epoch 29: Train err: 0.091, Train loss: 0.21900848380383103 |Validation err: 0.3215, Validation loss: 1.2109384186267853\n",
            "Epoch 30: Train err: 0.0885, Train loss: 0.21460477689374238 |Validation err: 0.3245, Validation loss: 1.300870638370514\n",
            "Finished Training\n",
            "Total time elapsed: 211.25 seconds\n"
          ],
          "name": "stdout"
        },
        {
          "output_type": "execute_result",
          "data": {
            "text/plain": [
              "'takes longer time to train'"
            ]
          },
          "metadata": {
            "tags": []
          },
          "execution_count": 80
        }
      ]
    },
    {
      "cell_type": "code",
      "metadata": {
        "id": "Q69yxfyPd-bW",
        "outputId": "262ca1c1-8e04-4768-d1fb-31a0e945a410",
        "colab": {
          "base_uri": "https://localhost:8080/",
          "height": 573
        }
      },
      "source": [
        "model_path_6=get_model_name('large', batch_size=16, learning_rate=0.01, epoch=29)\n",
        "plot_training_curve(model_path_6)"
      ],
      "execution_count": null,
      "outputs": [
        {
          "output_type": "display_data",
          "data": {
            "image/png": "[encoded data removed]",
            "text/plain": [
              "<Figure size 432x288 with 1 Axes>"
            ]
          },
          "metadata": {
            "tags": [],
            "needs_background": "light"
          }
        },
        {
          "output_type": "display_data",
          "data": {
            "image/png": "[encoded data removed]",
            "text/plain": [
              "<Figure size 432x288 with 1 Axes>"
            ]
          },
          "metadata": {
            "tags": [],
            "needs_background": "light"
          }
        }
      ]
    },
    {
      "cell_type": "markdown",
      "metadata": {
        "id": "1MkpZLc4qIFA"
      },
      "source": [
        "## Part 4. Hyperparameter Search\n",
        "\n",
        "### Part (a)\n",
        "\n",
        "Based on the plots from above, choose another set of values for the hyperparameters (network, batch_size, learning_rate)\n",
        "that you think would help you improve the validation accuracy. Justify your choice."
      ]
    },
    {
      "cell_type": "markdown",
      "metadata": {
        "id": "QiSuGL8IXQ68"
      },
      "source": [
        "**Answer:**\n",
        "\n",
        "Network: small_net because large_net led to overfitting (as shown in part 2f). Small_net went through underfitting, however that can be fixed with more training (ex: higher number of epochs).\n",
        "\n",
        "Batch size: 50. A batch size of 16 led to overfitting, and a batch size of 512 do not yield as much accuracy. \n",
        "\n",
        "Learning rate: 0.001. A learning rate of 0.1 was too large as discussed in part 2b (led to jagged and noisy curves). A learning rate of 0.001 will result in smaller step sizes which would overall improve the accuracy of the model.\n",
        "\n",
        "Epochs: 50. Increasing the number of epochs from 30 to 50 will increase the accuracy of the model, as the weights are getting optimized more. Increasing the epochs too much would take too much time and might also lead to overfitting."
      ]
    },
    {
      "cell_type": "markdown",
      "metadata": {
        "id": "fTLRs2f7qIFD"
      },
      "source": [
        "### Part (b)\n",
        "\n",
        "Train the model with the hyperparameters you chose in part(a), and include the training curve."
      ]
    },
    {
      "cell_type": "code",
      "metadata": {
        "id": "LvsCGaoaILO6",
        "outputId": "3726ec3e-6402-4248-8dd8-fa30dc7b1fdb",
        "colab": {
          "base_uri": "https://localhost:8080/",
          "height": 935
        }
      },
      "source": [
        "small_net=SmallNet()\n",
        "train_net(small_net, batch_size=50, learning_rate=0.001, num_epochs=50)"
      ],
      "execution_count": null,
      "outputs": [
        {
          "output_type": "stream",
          "text": [
            "Files already downloaded and verified\n",
            "Files already downloaded and verified\n",
            "Epoch 1: Train err: 0.475375, Train loss: 0.691240856796503 |Validation err: 0.452, Validation loss: 0.6871955469250679\n",
            "Epoch 2: Train err: 0.443625, Train loss: 0.6858992900699377 |Validation err: 0.4125, Validation loss: 0.6817104458808899\n",
            "Epoch 3: Train err: 0.422375, Train loss: 0.6804862823337317 |Validation err: 0.396, Validation loss: 0.6751382157206536\n",
            "Epoch 4: Train err: 0.409, Train loss: 0.674124614149332 |Validation err: 0.381, Validation loss: 0.6673330768942833\n",
            "Epoch 5: Train err: 0.394125, Train loss: 0.6670164801180363 |Validation err: 0.3715, Validation loss: 0.6600121185183525\n",
            "Epoch 6: Train err: 0.3785, Train loss: 0.6592078074812889 |Validation err: 0.366, Validation loss: 0.6533252909779549\n",
            "Epoch 7: Train err: 0.36725, Train loss: 0.6521181799471378 |Validation err: 0.3615, Validation loss: 0.6481052815914154\n",
            "Epoch 8: Train err: 0.358875, Train loss: 0.6457514334470034 |Validation err: 0.357, Validation loss: 0.6420737624168396\n",
            "Epoch 9: Train err: 0.353125, Train loss: 0.6402593437582255 |Validation err: 0.3545, Validation loss: 0.6369483649730683\n",
            "Epoch 10: Train err: 0.35075, Train loss: 0.6353380426764488 |Validation err: 0.3655, Validation loss: 0.6340054661035538\n",
            "Epoch 11: Train err: 0.3495, Train loss: 0.6310504406690598 |Validation err: 0.3555, Validation loss: 0.6325949937105179\n",
            "Epoch 12: Train err: 0.34575, Train loss: 0.6282578360289335 |Validation err: 0.3575, Validation loss: 0.6294328898191452\n",
            "Epoch 13: Train err: 0.3455, Train loss: 0.6254251711070538 |Validation err: 0.356, Validation loss: 0.6312022373080254\n",
            "Epoch 14: Train err: 0.341125, Train loss: 0.6229392021894455 |Validation err: 0.357, Validation loss: 0.6277150020003319\n",
            "Epoch 15: Train err: 0.341875, Train loss: 0.621224058046937 |Validation err: 0.3565, Validation loss: 0.6279223427176476\n",
            "Epoch 16: Train err: 0.339625, Train loss: 0.6189243655651808 |Validation err: 0.3555, Validation loss: 0.6248306460678578\n",
            "Epoch 17: Train err: 0.339, Train loss: 0.6176587078720331 |Validation err: 0.353, Validation loss: 0.625558365881443\n",
            "Epoch 18: Train err: 0.337375, Train loss: 0.6156710082665086 |Validation err: 0.351, Validation loss: 0.6234189227223397\n",
            "Epoch 19: Train err: 0.335625, Train loss: 0.6143128562718629 |Validation err: 0.349, Validation loss: 0.6245287604629993\n",
            "Epoch 20: Train err: 0.330875, Train loss: 0.6123073427006602 |Validation err: 0.347, Validation loss: 0.6219435855746269\n",
            "Epoch 21: Train err: 0.329375, Train loss: 0.6114986458793282 |Validation err: 0.352, Validation loss: 0.6215432941913605\n",
            "Epoch 22: Train err: 0.329375, Train loss: 0.6098084308207035 |Validation err: 0.347, Validation loss: 0.6215419575572014\n",
            "Epoch 23: Train err: 0.330375, Train loss: 0.6085158228874207 |Validation err: 0.3415, Validation loss: 0.6203293666243553\n",
            "Epoch 24: Train err: 0.32925, Train loss: 0.6079265929758548 |Validation err: 0.349, Validation loss: 0.620094645023346\n",
            "Epoch 25: Train err: 0.32575, Train loss: 0.605489968508482 |Validation err: 0.3415, Validation loss: 0.619696019589901\n",
            "Epoch 26: Train err: 0.32675, Train loss: 0.6046945421025157 |Validation err: 0.338, Validation loss: 0.6198218837380409\n",
            "Epoch 27: Train err: 0.32375, Train loss: 0.6036483891308307 |Validation err: 0.3445, Validation loss: 0.6192775875329971\n",
            "Epoch 28: Train err: 0.32475, Train loss: 0.6025483412668109 |Validation err: 0.341, Validation loss: 0.6196362465620041\n",
            "Epoch 29: Train err: 0.327625, Train loss: 0.602376720122993 |Validation err: 0.3415, Validation loss: 0.6198914423584938\n",
            "Epoch 30: Train err: 0.323375, Train loss: 0.6012906337156891 |Validation err: 0.34, Validation loss: 0.618042667210102\n",
            "Epoch 31: Train err: 0.320125, Train loss: 0.5995037645101547 |Validation err: 0.344, Validation loss: 0.6201924398541451\n",
            "Epoch 32: Train err: 0.320375, Train loss: 0.5986754996702075 |Validation err: 0.335, Validation loss: 0.616115678846836\n",
            "Epoch 33: Train err: 0.317625, Train loss: 0.5976623190566898 |Validation err: 0.336, Validation loss: 0.6154599130153656\n",
            "Epoch 34: Train err: 0.315625, Train loss: 0.5962602401152253 |Validation err: 0.3395, Validation loss: 0.6173716522753239\n",
            "Epoch 35: Train err: 0.316625, Train loss: 0.595574846304953 |Validation err: 0.337, Validation loss: 0.6148262158036232\n",
            "Epoch 36: Train err: 0.316, Train loss: 0.594337486103177 |Validation err: 0.3345, Validation loss: 0.614320507645607\n",
            "Epoch 37: Train err: 0.314625, Train loss: 0.5944822214543819 |Validation err: 0.335, Validation loss: 0.6136331424117089\n",
            "Epoch 38: Train err: 0.31125, Train loss: 0.5928463703021407 |Validation err: 0.3355, Validation loss: 0.6143054187297821\n",
            "Epoch 39: Train err: 0.310125, Train loss: 0.5920829351991415 |Validation err: 0.3355, Validation loss: 0.6124208137392998\n",
            "Epoch 40: Train err: 0.309125, Train loss: 0.590377327427268 |Validation err: 0.3365, Validation loss: 0.6125742457807064\n",
            "Epoch 41: Train err: 0.31025, Train loss: 0.5899758530780673 |Validation err: 0.336, Validation loss: 0.6135639488697052\n",
            "Epoch 42: Train err: 0.311, Train loss: 0.5883482407778502 |Validation err: 0.332, Validation loss: 0.6109892033040524\n",
            "Epoch 43: Train err: 0.30775, Train loss: 0.5877529652789235 |Validation err: 0.332, Validation loss: 0.6097030952572823\n",
            "Epoch 44: Train err: 0.30775, Train loss: 0.5868694845587015 |Validation err: 0.331, Validation loss: 0.6111429542303085\n",
            "Epoch 45: Train err: 0.307125, Train loss: 0.5858125800266862 |Validation err: 0.334, Validation loss: 0.6084383897483349\n",
            "Epoch 46: Train err: 0.302625, Train loss: 0.5847175732254982 |Validation err: 0.3285, Validation loss: 0.6086050733923912\n",
            "Epoch 47: Train err: 0.307125, Train loss: 0.5841958208009601 |Validation err: 0.335, Validation loss: 0.6088358476758003\n",
            "Epoch 48: Train err: 0.306375, Train loss: 0.58248654268682 |Validation err: 0.3285, Validation loss: 0.6068475916981697\n",
            "Epoch 49: Train err: 0.305625, Train loss: 0.581746812351048 |Validation err: 0.324, Validation loss: 0.6064141772687435\n",
            "Epoch 50: Train err: 0.301875, Train loss: 0.5799911737442016 |Validation err: 0.3255, Validation loss: 0.6049677103757858\n",
            "Finished Training\n",
            "Total time elapsed: 179.60 seconds\n"
          ],
          "name": "stdout"
        }
      ]
    },
    {
      "cell_type": "code",
      "metadata": {
        "id": "Uu0O1GgYHt1U",
        "outputId": "d2a4d1c6-80e4-4e2e-d61f-1e399388ca9e",
        "colab": {
          "base_uri": "https://localhost:8080/",
          "height": 573
        }
      },
      "source": [
        "model_path_7=get_model_name('small', batch_size=50, learning_rate=0.001, epoch=49)\n",
        "plot_training_curve(model_path_7)"
      ],
      "execution_count": null,
      "outputs": [
        {
          "output_type": "display_data",
          "data": {
            "image/png": "[encoded data removed]",
            "text/plain": [
              "<Figure size 432x288 with 1 Axes>"
            ]
          },
          "metadata": {
            "tags": [],
            "needs_background": "light"
          }
        },
        {
          "output_type": "display_data",
          "data": {
            "image/png": "[encoded data removed]",
            "text/plain": [
              "<Figure size 432x288 with 1 Axes>"
            ]
          },
          "metadata": {
            "tags": [],
            "needs_background": "light"
          }
        }
      ]
    },
    {
      "cell_type": "markdown",
      "metadata": {
        "id": "ZsO4z7JJqIFF"
      },
      "source": [
        "### Part (c)\n",
        "\n",
        "Based on your result from Part(a), suggest another set of hyperparameter values to try. \n",
        "Justify your choice."
      ]
    },
    {
      "cell_type": "markdown",
      "metadata": {
        "id": "fBLFv72vZ120"
      },
      "source": [
        "**Answer:**\n",
        "\n",
        "Network: small_net because large_net led to overfitting (as shown in part 2f). Small_net went through underfitting, however that can be fixed with more training (ex: higher number of epochs).\n",
        "\n",
        "Batch size: 200. A batch size of 16 led to overfitting, and a batch size of 512 do not yield as much accuracy. Also, to shorten the time, as having a batch size of 50 from the previous question took about 3 minutes to train. \n",
        "\n",
        "Learning rate: 0.01. A learning rate of 0.1 was too large as discussed in part 2b (led to jagged and noisy curves). A learning rate of 0.001 led to the model taking about 3 minutes to train. A learning rate of 0.01 will give the smaller step sizes (which would overall improve the accuracy of the model) but also reduce the time to train.\n",
        "\n",
        "Epochs: 70. Increasing the number of epochs from 30 to 70 will increase the accuracy of the model, as the weights are getting optimized more. Increasing the epochs too much would take too much time and might also lead to overfitting."
      ]
    },
    {
      "cell_type": "markdown",
      "metadata": {
        "id": "VrMyc5QnqIFI"
      },
      "source": [
        "### Part (d) - 1pt\n",
        "\n",
        "Train the model with the hyperparameters you chose in part(c), and include the training curve."
      ]
    },
    {
      "cell_type": "code",
      "metadata": {
        "id": "h1OR3gcpcJje",
        "outputId": "54778b4d-8574-49aa-dd31-1d6ed54c2239",
        "colab": {
          "base_uri": "https://localhost:8080/",
          "height": 1000
        }
      },
      "source": [
        "small_net=SmallNet()\n",
        "train_net(small_net, batch_size=200, learning_rate=0.01, num_epochs=70)"
      ],
      "execution_count": null,
      "outputs": [
        {
          "output_type": "stream",
          "text": [
            "Files already downloaded and verified\n",
            "Files already downloaded and verified\n",
            "Epoch 1: Train err: 0.450375, Train loss: 0.6869083598256112 |Validation err: 0.398, Validation loss: 0.6757920920848847\n",
            "Epoch 2: Train err: 0.403375, Train loss: 0.6704838186502456 |Validation err: 0.394, Validation loss: 0.666199904680252\n",
            "Epoch 3: Train err: 0.384, Train loss: 0.6591653674840927 |Validation err: 0.3755, Validation loss: 0.6540130853652955\n",
            "Epoch 4: Train err: 0.368375, Train loss: 0.6493516311049461 |Validation err: 0.373, Validation loss: 0.6469931066036224\n",
            "Epoch 5: Train err: 0.36275, Train loss: 0.6425068497657775 |Validation err: 0.3825, Validation loss: 0.6466545581817627\n",
            "Epoch 6: Train err: 0.36175, Train loss: 0.639259611070156 |Validation err: 0.375, Validation loss: 0.6425134539604187\n",
            "Epoch 7: Train err: 0.356, Train loss: 0.6349740654230118 |Validation err: 0.366, Validation loss: 0.6405929207801819\n",
            "Epoch 8: Train err: 0.3545, Train loss: 0.6320874601602554 |Validation err: 0.3665, Validation loss: 0.6388861298561096\n",
            "Epoch 9: Train err: 0.34525, Train loss: 0.6275195389986038 |Validation err: 0.366, Validation loss: 0.6363687574863434\n",
            "Epoch 10: Train err: 0.346, Train loss: 0.6241199195384979 |Validation err: 0.3655, Validation loss: 0.6350617349147797\n",
            "Epoch 11: Train err: 0.346, Train loss: 0.6196041122078896 |Validation err: 0.3495, Validation loss: 0.6329187154769897\n",
            "Epoch 12: Train err: 0.339125, Train loss: 0.61787900775671 |Validation err: 0.3555, Validation loss: 0.6314328908920288\n",
            "Epoch 13: Train err: 0.335875, Train loss: 0.613640096783638 |Validation err: 0.354, Validation loss: 0.6299187362194061\n",
            "Epoch 14: Train err: 0.327, Train loss: 0.6099378570914269 |Validation err: 0.351, Validation loss: 0.6249424517154694\n",
            "Epoch 15: Train err: 0.329625, Train loss: 0.6079841688275337 |Validation err: 0.3395, Validation loss: 0.6208874404430389\n",
            "Epoch 16: Train err: 0.32475, Train loss: 0.602992233633995 |Validation err: 0.3315, Validation loss: 0.619125247001648\n",
            "Epoch 17: Train err: 0.3195, Train loss: 0.600252328813076 |Validation err: 0.334, Validation loss: 0.6201270520687103\n",
            "Epoch 18: Train err: 0.316125, Train loss: 0.5962093070149421 |Validation err: 0.335, Validation loss: 0.6155344069004058\n",
            "Epoch 19: Train err: 0.316875, Train loss: 0.5970093935728074 |Validation err: 0.3275, Validation loss: 0.6191811323165893\n",
            "Epoch 20: Train err: 0.30725, Train loss: 0.5908827304840087 |Validation err: 0.333, Validation loss: 0.6141302764415741\n",
            "Epoch 21: Train err: 0.312625, Train loss: 0.588461571931839 |Validation err: 0.3245, Validation loss: 0.6096817016601562\n",
            "Epoch 22: Train err: 0.308875, Train loss: 0.5835622429847718 |Validation err: 0.3275, Validation loss: 0.609947669506073\n",
            "Epoch 23: Train err: 0.3035, Train loss: 0.5799156188964844 |Validation err: 0.324, Validation loss: 0.6072538912296295\n",
            "Epoch 24: Train err: 0.304125, Train loss: 0.5805625677108764 |Validation err: 0.329, Validation loss: 0.6082335591316224\n",
            "Epoch 25: Train err: 0.298375, Train loss: 0.5741343662142754 |Validation err: 0.3235, Validation loss: 0.6058811485767365\n",
            "Epoch 26: Train err: 0.3015, Train loss: 0.573725537955761 |Validation err: 0.323, Validation loss: 0.6044049203395844\n",
            "Epoch 27: Train err: 0.296875, Train loss: 0.5691215142607688 |Validation err: 0.32, Validation loss: 0.6028041362762451\n",
            "Epoch 28: Train err: 0.29525, Train loss: 0.5686547592282295 |Validation err: 0.324, Validation loss: 0.60804563164711\n",
            "Epoch 29: Train err: 0.2955, Train loss: 0.5682890556752682 |Validation err: 0.3245, Validation loss: 0.6056277513504028\n",
            "Epoch 30: Train err: 0.294, Train loss: 0.5651260569691658 |Validation err: 0.3235, Validation loss: 0.6036446571350098\n",
            "Epoch 31: Train err: 0.28975, Train loss: 0.5628725215792656 |Validation err: 0.318, Validation loss: 0.6040632069110871\n",
            "Epoch 32: Train err: 0.289375, Train loss: 0.5603271551430226 |Validation err: 0.3235, Validation loss: 0.6015359163284302\n",
            "Epoch 33: Train err: 0.28475, Train loss: 0.5599901542067528 |Validation err: 0.318, Validation loss: 0.6036273896694183\n",
            "Epoch 34: Train err: 0.287125, Train loss: 0.5582564130425454 |Validation err: 0.3255, Validation loss: 0.6073720574378967\n",
            "Epoch 35: Train err: 0.2845, Train loss: 0.5563027620315552 |Validation err: 0.318, Validation loss: 0.5997503101825714\n",
            "Epoch 36: Train err: 0.28475, Train loss: 0.5539535343647003 |Validation err: 0.3195, Validation loss: 0.6027792036533356\n",
            "Epoch 37: Train err: 0.285125, Train loss: 0.5599430054426193 |Validation err: 0.311, Validation loss: 0.6000787913799286\n",
            "Epoch 38: Train err: 0.287875, Train loss: 0.5564119547605515 |Validation err: 0.3205, Validation loss: 0.6009315192699433\n",
            "Epoch 39: Train err: 0.28325, Train loss: 0.5525083146989346 |Validation err: 0.3195, Validation loss: 0.6002754092216491\n",
            "Epoch 40: Train err: 0.278875, Train loss: 0.5513875283300876 |Validation err: 0.3235, Validation loss: 0.6042369186878205\n",
            "Epoch 41: Train err: 0.278375, Train loss: 0.5507732465863228 |Validation err: 0.3205, Validation loss: 0.5967379927635192\n",
            "Epoch 42: Train err: 0.2785, Train loss: 0.5480153687298298 |Validation err: 0.3245, Validation loss: 0.6062092781066895\n",
            "Epoch 43: Train err: 0.276375, Train loss: 0.547511164098978 |Validation err: 0.319, Validation loss: 0.5980874121189117\n",
            "Epoch 44: Train err: 0.279125, Train loss: 0.5477527476847172 |Validation err: 0.328, Validation loss: 0.6084052920341492\n",
            "Epoch 45: Train err: 0.278875, Train loss: 0.547654914110899 |Validation err: 0.322, Validation loss: 0.6015788793563843\n",
            "Epoch 46: Train err: 0.27775, Train loss: 0.5474333226680755 |Validation err: 0.322, Validation loss: 0.601938271522522\n",
            "Epoch 47: Train err: 0.2785, Train loss: 0.5495476275682449 |Validation err: 0.3165, Validation loss: 0.5973892152309418\n",
            "Epoch 48: Train err: 0.27075, Train loss: 0.5428559124469757 |Validation err: 0.311, Validation loss: 0.5966550707817078\n",
            "Epoch 49: Train err: 0.26925, Train loss: 0.5423759877681732 |Validation err: 0.3175, Validation loss: 0.5965312004089356\n",
            "Epoch 50: Train err: 0.275625, Train loss: 0.5426293171942234 |Validation err: 0.313, Validation loss: 0.5990737736225128\n",
            "Epoch 51: Train err: 0.27575, Train loss: 0.5412977419793605 |Validation err: 0.322, Validation loss: 0.6041155457496643\n",
            "Epoch 52: Train err: 0.2785, Train loss: 0.5458547435700893 |Validation err: 0.323, Validation loss: 0.6045305669307709\n",
            "Epoch 53: Train err: 0.277375, Train loss: 0.5459646441042423 |Validation err: 0.3245, Validation loss: 0.6037866830825805\n",
            "Epoch 54: Train err: 0.26975, Train loss: 0.5401155360043048 |Validation err: 0.3105, Validation loss: 0.5956277996301651\n",
            "Epoch 55: Train err: 0.272, Train loss: 0.5394479274749756 |Validation err: 0.316, Validation loss: 0.5992962956428528\n",
            "Epoch 56: Train err: 0.268875, Train loss: 0.5390198543667793 |Validation err: 0.3185, Validation loss: 0.5971280872821808\n",
            "Epoch 57: Train err: 0.26875, Train loss: 0.5375581815838814 |Validation err: 0.3155, Validation loss: 0.5996838927268981\n",
            "Epoch 58: Train err: 0.269625, Train loss: 0.5368286460638046 |Validation err: 0.3155, Validation loss: 0.5966264188289643\n",
            "Epoch 59: Train err: 0.272875, Train loss: 0.539630875736475 |Validation err: 0.313, Validation loss: 0.5967255890369415\n",
            "Epoch 60: Train err: 0.27025, Train loss: 0.537005128711462 |Validation err: 0.319, Validation loss: 0.5967265188694\n",
            "Epoch 61: Train err: 0.271875, Train loss: 0.5380437865853309 |Validation err: 0.314, Validation loss: 0.5957534849643707\n",
            "Epoch 62: Train err: 0.269, Train loss: 0.5360080815851689 |Validation err: 0.3165, Validation loss: 0.6008084177970886\n",
            "Epoch 63: Train err: 0.270875, Train loss: 0.5347769953310489 |Validation err: 0.307, Validation loss: 0.5944269597530365\n",
            "Epoch 64: Train err: 0.267625, Train loss: 0.5357065126299858 |Validation err: 0.314, Validation loss: 0.5973231554031372\n",
            "Epoch 65: Train err: 0.266875, Train loss: 0.5344500057399273 |Validation err: 0.3145, Validation loss: 0.5998163402080536\n",
            "Epoch 66: Train err: 0.268625, Train loss: 0.5364842936396599 |Validation err: 0.3155, Validation loss: 0.5982999444007874\n",
            "Epoch 67: Train err: 0.268375, Train loss: 0.5365875020623208 |Validation err: 0.3135, Validation loss: 0.6000014543533325\n",
            "Epoch 68: Train err: 0.2645, Train loss: 0.5339906223118305 |Validation err: 0.3205, Validation loss: 0.602793836593628\n",
            "Epoch 69: Train err: 0.269375, Train loss: 0.5372074618935585 |Validation err: 0.3155, Validation loss: 0.6024683296680451\n",
            "Epoch 70: Train err: 0.263875, Train loss: 0.5343371100723744 |Validation err: 0.3175, Validation loss: 0.6046472012996673\n",
            "Finished Training\n",
            "Total time elapsed: 211.91 seconds\n"
          ],
          "name": "stdout"
        }
      ]
    },
    {
      "cell_type": "code",
      "metadata": {
        "id": "AC9uD5b6MQAK",
        "outputId": "8531eef6-f683-4b7f-c943-8622e782677d",
        "colab": {
          "base_uri": "https://localhost:8080/",
          "height": 573
        }
      },
      "source": [
        "model_path_8=get_model_name('small', batch_size=200, learning_rate=0.01, epoch=69)\n",
        "plot_training_curve(model_path_8)"
      ],
      "execution_count": null,
      "outputs": [
        {
          "output_type": "display_data",
          "data": {
            "image/png": "[encoded data removed]",
            "text/plain": [
              "<Figure size 432x288 with 1 Axes>"
            ]
          },
          "metadata": {
            "tags": [],
            "needs_background": "light"
          }
        },
        {
          "output_type": "display_data",
          "data": {
            "image/png": "[encoded data removed]",
            "text/plain": [
              "<Figure size 432x288 with 1 Axes>"
            ]
          },
          "metadata": {
            "tags": [],
            "needs_background": "light"
          }
        }
      ]
    },
    {
      "cell_type": "markdown",
      "metadata": {
        "id": "1kQB1IFuqIFN"
      },
      "source": [
        "## Part 4. Evaluating the Best Model\n"
      ]
    },
    {
      "cell_type": "markdown",
      "metadata": {
        "id": "Xxje12xKqIFN"
      },
      "source": [
        "### Part (a)\n",
        "\n",
        "Choose the **best** model that you have so far. This means choosing the best model checkpoint,\n",
        "including the choice of `small_net` vs `large_net`, the `batch_size`, `learning_rate`, \n",
        "**and the epoch number**.\n",
        "\n",
        "Modify the code below to load your chosen set of weights to the model object `net`."
      ]
    },
    {
      "cell_type": "code",
      "metadata": {
        "id": "AanLwIAEqIFO",
        "outputId": "e734ace0-df95-4cea-8d2b-10d0dd32def5",
        "colab": {
          "base_uri": "https://localhost:8080/",
          "height": 34
        }
      },
      "source": [
        "net = SmallNet()\n",
        "model_path = get_model_name(net.name, batch_size=50, learning_rate=0.001, epoch=49)\n",
        "state = torch.load(model_path)\n",
        "net.load_state_dict(state)"
      ],
      "execution_count": null,
      "outputs": [
        {
          "output_type": "execute_result",
          "data": {
            "text/plain": [
              "<All keys matched successfully>"
            ]
          },
          "metadata": {
            "tags": []
          },
          "execution_count": 104
        }
      ]
    },
    {
      "cell_type": "markdown",
      "metadata": {
        "id": "vXXwLMIXqIFS"
      },
      "source": [
        "### Part (b)\n",
        "\n",
        "Justify your choice of model from part (a)."
      ]
    },
    {
      "cell_type": "markdown",
      "metadata": {
        "id": "9Oak9V7PKQNn"
      },
      "source": [
        "I chose the first model (4a,4b). \n",
        "\n",
        "From the graph of the second model (4c,4d), it can be seen from the graph that the model undergoes a lot of variation, as can be seen from the many jagged lines (the \"noise\"). This is possible due to the higher learning rate, which may result in a faster gradient descent and hence \"criss-crossing\" between higher errors and lower errors. Also, in the second model, there is a lot of difference between the training performance curves and the validation performance curves (especially in the loss graph). This shows that the model might have been over-trained on the training dataset, so that the model performs really well on the training set, but it cannot perform as effectively on unseen data (validation set)."
      ]
    },
    {
      "cell_type": "markdown",
      "metadata": {
        "id": "S0GE8Z5kqIFU"
      },
      "source": [
        "### Part (c)\n",
        "\n",
        "Using the code in Part 0, any code from lecture notes, or any code that you write,\n",
        "compute and report the **test classification error** for your chosen model.\n",
        "\n",
        "**Answer:** Test classification error: 0.3395"
      ]
    },
    {
      "cell_type": "code",
      "metadata": {
        "id": "wPUe9iomqIFV",
        "outputId": "627f7ac3-c2d6-45a2-ebd2-de4f35338421",
        "colab": {
          "base_uri": "https://localhost:8080/",
          "height": 68
        }
      },
      "source": [
        "# If you use the `evaluate` function provided in part 0, you will need to \n",
        "# set batch_size > 1\n",
        "criterion = nn.BCEWithLogitsLoss()\n",
        "\n",
        "train_loader, val_loader, test_loader, classes = get_data_loader(\n",
        "    target_classes=[\"cat\", \"dog\"], \n",
        "    batch_size=50)\n",
        "\n",
        "evaluate(net, test_loader, criterion)"
      ],
      "execution_count": null,
      "outputs": [
        {
          "output_type": "stream",
          "text": [
            "Files already downloaded and verified\n",
            "Files already downloaded and verified\n"
          ],
          "name": "stdout"
        },
        {
          "output_type": "execute_result",
          "data": {
            "text/plain": [
              "(0.3395, 0.6111089006066323)"
            ]
          },
          "metadata": {
            "tags": []
          },
          "execution_count": 105
        }
      ]
    },
    {
      "cell_type": "markdown",
      "metadata": {
        "id": "RXK0XaayqIFY"
      },
      "source": [
        "### Part (d)\n",
        "\n",
        "How does the test classification error compare with the **validation error**?\n",
        "Explain why you would expect the test error to be *higher* than the validation error."
      ]
    },
    {
      "cell_type": "markdown",
      "metadata": {
        "id": "imiEMFvLciCo"
      },
      "source": [
        "**Answer:** The test classification error (0.3395) is higher than the validation error (0.3255) as expected. This is because the validation error values were used many times to tune the hyperparameters. The hyperparameter tuning was based off of validation errors, so that the validation error can be minimized. The testing data is the final data that is tested on only once, as a \"final assessment.\" In other words, it is new/unseen data that the weights and hyperparameters were not optimized on. "
      ]
    },
    {
      "cell_type": "markdown",
      "metadata": {
        "id": "GMA9b8vXqIFd"
      },
      "source": [
        "### Part (e)\n",
        "\n",
        "Why did we only use the test data set at the very end?\n",
        "Why is it important that we use the test data as little as possible?"
      ]
    },
    {
      "cell_type": "markdown",
      "metadata": {
        "id": "yBfP-tOPFv-k"
      },
      "source": [
        "**Answer:** The whole point of \"testing\" the model is to first make the model as best as possible through training it on the training dataset, and then testing on the validation dataset (to tune the hyperparamaters). After tuning the hyperparameters, you train the model again, and test it on the validation dataset. The process of tuning hyperparameters was pretty iterative, but the point was to find the hyperparameters that help the model best \"fit\" our data. \n",
        "\n",
        "Once the hyperparameters are tuned and our model gives us decently accurate results for our validation, then we can move forward and test on our testing data, to get a sort of \"final assessment\" of our model's performance. "
      ]
    },
    {
      "cell_type": "markdown",
      "metadata": {
        "id": "hxG0sYDZM2KR"
      },
      "source": [
        "### Part (f)\n",
        "\n",
        "How does the your best CNN model compare with an 2-layer ANN model (no convolutional layers) on classifying cat and dog images. You can use a 2-layer ANN architecture similar to what you used in Lab 1. You should explore different hyperparameter settings to determine how well you can do on the validation dataset. Once satisified with the performance, you may test it out on the test data.\n",
        "\n",
        "Hint: The ANN in lab 1 was applied on greyscale images. The cat and dog images are colour (RGB) and so you will need to flatted and concatinate all three colour layers before feeding them into an ANN."
      ]
    },
    {
      "cell_type": "code",
      "metadata": {
        "id": "_DlFGOpI90DE"
      },
      "source": [
        "class Pigeon(nn.Module):\n",
        "    def __init__(self):\n",
        "        super(Pigeon, self).__init__()\n",
        "        self.name='pigeon'\n",
        "        self.layer1 = nn.Linear(32*32*3, 30)\n",
        "        self.layer2 = nn.Linear(30, 1)\n",
        "    def forward(self, img):\n",
        "        flattened=img.view(-1,32*32*3)\n",
        "        #flattened = img.view(-1, 28 * 28)\n",
        "        activation1 = self.layer1(flattened)\n",
        "        activation1 = F.relu(activation1)\n",
        "        activation2 = self.layer2(activation1)\n",
        "        activation2=activation2.squeeze(1)\n",
        "        return activation2\n",
        "\n",
        "pigeon = Pigeon()"
      ],
      "execution_count": null,
      "outputs": []
    },
    {
      "cell_type": "code",
      "metadata": {
        "id": "pi9Qqt6O1e8q",
        "outputId": "a0a4bd58-677c-4c59-d6d7-fb820b68ac16",
        "colab": {
          "base_uri": "https://localhost:8080/",
          "height": 935
        }
      },
      "source": [
        "train_net(pigeon, batch_size=50, learning_rate=0.001, num_epochs=50)"
      ],
      "execution_count": null,
      "outputs": [
        {
          "output_type": "stream",
          "text": [
            "Files already downloaded and verified\n",
            "Files already downloaded and verified\n",
            "Epoch 1: Train err: 0.424125, Train loss: 0.6765133921056986 |Validation err: 0.406, Validation loss: 0.6641246497631073\n",
            "Epoch 2: Train err: 0.392625, Train loss: 0.6578669287264347 |Validation err: 0.3955, Validation loss: 0.6582182571291924\n",
            "Epoch 3: Train err: 0.383125, Train loss: 0.6495488565415144 |Validation err: 0.39, Validation loss: 0.6539323672652244\n",
            "Epoch 4: Train err: 0.37475, Train loss: 0.6431181199848652 |Validation err: 0.3895, Validation loss: 0.6565394937992096\n",
            "Epoch 5: Train err: 0.373375, Train loss: 0.63886325545609 |Validation err: 0.384, Validation loss: 0.6499674767255783\n",
            "Epoch 6: Train err: 0.362625, Train loss: 0.6331426028162241 |Validation err: 0.3855, Validation loss: 0.6496291026473046\n",
            "Epoch 7: Train err: 0.357875, Train loss: 0.6293457925319672 |Validation err: 0.381, Validation loss: 0.6481462001800538\n",
            "Epoch 8: Train err: 0.351375, Train loss: 0.6247547954320908 |Validation err: 0.3785, Validation loss: 0.646540030837059\n",
            "Epoch 9: Train err: 0.349375, Train loss: 0.6212650835514069 |Validation err: 0.3835, Validation loss: 0.6486299589276314\n",
            "Epoch 10: Train err: 0.344125, Train loss: 0.6166613694280386 |Validation err: 0.385, Validation loss: 0.6446857780218125\n",
            "Epoch 11: Train err: 0.336, Train loss: 0.6128278762102127 |Validation err: 0.382, Validation loss: 0.6452520847320556\n",
            "Epoch 12: Train err: 0.327875, Train loss: 0.6079163409769535 |Validation err: 0.378, Validation loss: 0.6472043588757515\n",
            "Epoch 13: Train err: 0.325125, Train loss: 0.6040798995643855 |Validation err: 0.381, Validation loss: 0.6462502717971802\n",
            "Epoch 14: Train err: 0.321125, Train loss: 0.5996495645493269 |Validation err: 0.387, Validation loss: 0.6496191963553428\n",
            "Epoch 15: Train err: 0.318, Train loss: 0.5953699812293053 |Validation err: 0.3775, Validation loss: 0.6440684214234352\n",
            "Epoch 16: Train err: 0.312, Train loss: 0.5902070930227638 |Validation err: 0.379, Validation loss: 0.646143700927496\n",
            "Epoch 17: Train err: 0.303, Train loss: 0.5862194692716003 |Validation err: 0.3725, Validation loss: 0.6432000070810318\n",
            "Epoch 18: Train err: 0.304125, Train loss: 0.5819810627028346 |Validation err: 0.372, Validation loss: 0.643006817996502\n",
            "Epoch 19: Train err: 0.2965, Train loss: 0.5763727728277445 |Validation err: 0.373, Validation loss: 0.6471357643604279\n",
            "Epoch 20: Train err: 0.295875, Train loss: 0.5723133662715554 |Validation err: 0.3745, Validation loss: 0.6438578560948371\n",
            "Epoch 21: Train err: 0.2895, Train loss: 0.566583919338882 |Validation err: 0.3675, Validation loss: 0.6435615539550781\n",
            "Epoch 22: Train err: 0.287875, Train loss: 0.5622589210048318 |Validation err: 0.374, Validation loss: 0.6457493856549263\n",
            "Epoch 23: Train err: 0.280375, Train loss: 0.5570604223757982 |Validation err: 0.364, Validation loss: 0.6468816056847573\n",
            "Epoch 24: Train err: 0.277875, Train loss: 0.5527447504922748 |Validation err: 0.361, Validation loss: 0.6453468218445778\n",
            "Epoch 25: Train err: 0.275625, Train loss: 0.5477456184104085 |Validation err: 0.3695, Validation loss: 0.6473381444811821\n",
            "Epoch 26: Train err: 0.272875, Train loss: 0.542376939766109 |Validation err: 0.3775, Validation loss: 0.6488084703683853\n",
            "Epoch 27: Train err: 0.2715, Train loss: 0.5389349047094584 |Validation err: 0.367, Validation loss: 0.6488841414451599\n",
            "Epoch 28: Train err: 0.265875, Train loss: 0.5331167845055461 |Validation err: 0.367, Validation loss: 0.6564866751432419\n",
            "Epoch 29: Train err: 0.262, Train loss: 0.5282115641981363 |Validation err: 0.3765, Validation loss: 0.6620260037481784\n",
            "Epoch 30: Train err: 0.259125, Train loss: 0.5229197116568685 |Validation err: 0.3735, Validation loss: 0.6513295583426952\n",
            "Epoch 31: Train err: 0.250625, Train loss: 0.5174536207690835 |Validation err: 0.3795, Validation loss: 0.6590591937303543\n",
            "Epoch 32: Train err: 0.25225, Train loss: 0.5140082689002157 |Validation err: 0.3705, Validation loss: 0.6602998331189156\n",
            "Epoch 33: Train err: 0.245875, Train loss: 0.5098365725949406 |Validation err: 0.3635, Validation loss: 0.6550192013382912\n",
            "Epoch 34: Train err: 0.242, Train loss: 0.5028635308146476 |Validation err: 0.3645, Validation loss: 0.6575744092464447\n",
            "Epoch 35: Train err: 0.235375, Train loss: 0.49606642946600915 |Validation err: 0.37, Validation loss: 0.6584902614355087\n",
            "Epoch 36: Train err: 0.232875, Train loss: 0.4921636123210192 |Validation err: 0.3695, Validation loss: 0.6624035261571407\n",
            "Epoch 37: Train err: 0.22625, Train loss: 0.4869820835068822 |Validation err: 0.368, Validation loss: 0.661515748500824\n",
            "Epoch 38: Train err: 0.22525, Train loss: 0.4820623267441988 |Validation err: 0.3685, Validation loss: 0.6601302951574326\n",
            "Epoch 39: Train err: 0.21875, Train loss: 0.47587829288095235 |Validation err: 0.365, Validation loss: 0.6669188871979713\n",
            "Epoch 40: Train err: 0.21875, Train loss: 0.47269251849502325 |Validation err: 0.3665, Validation loss: 0.6748493365943432\n",
            "Epoch 41: Train err: 0.213375, Train loss: 0.4653493892401457 |Validation err: 0.365, Validation loss: 0.6772676885128022\n",
            "Epoch 42: Train err: 0.205875, Train loss: 0.46050038170069457 |Validation err: 0.3805, Validation loss: 0.6994201481342316\n",
            "Epoch 43: Train err: 0.206, Train loss: 0.4564271982759237 |Validation err: 0.3605, Validation loss: 0.6806407660245896\n",
            "Epoch 44: Train err: 0.2005, Train loss: 0.4507422039285302 |Validation err: 0.3615, Validation loss: 0.6753350414335728\n",
            "Epoch 45: Train err: 0.193875, Train loss: 0.44622229039669037 |Validation err: 0.365, Validation loss: 0.680805379152298\n",
            "Epoch 46: Train err: 0.19275, Train loss: 0.4407117374241352 |Validation err: 0.373, Validation loss: 0.6829677656292915\n",
            "Epoch 47: Train err: 0.192375, Train loss: 0.43351311702281237 |Validation err: 0.3595, Validation loss: 0.6870447546243668\n",
            "Epoch 48: Train err: 0.184125, Train loss: 0.4293975070118904 |Validation err: 0.3705, Validation loss: 0.687196709215641\n",
            "Epoch 49: Train err: 0.180875, Train loss: 0.42356729302555324 |Validation err: 0.369, Validation loss: 0.6980025351047516\n",
            "Epoch 50: Train err: 0.177375, Train loss: 0.4189412917941809 |Validation err: 0.357, Validation loss: 0.6976959422230721\n",
            "Finished Training\n",
            "Total time elapsed: 147.61 seconds\n"
          ],
          "name": "stdout"
        }
      ]
    },
    {
      "cell_type": "code",
      "metadata": {
        "id": "8P1rkKD3EZG-",
        "outputId": "907190cc-f8e4-4493-e8f2-aac9777ef528",
        "colab": {
          "base_uri": "https://localhost:8080/",
          "height": 34
        }
      },
      "source": [
        "evaluate(pigeon, test_loader, criterion)"
      ],
      "execution_count": null,
      "outputs": [
        {
          "output_type": "execute_result",
          "data": {
            "text/plain": [
              "(0.3575, 0.690567034482956)"
            ]
          },
          "metadata": {
            "tags": []
          },
          "execution_count": 124
        }
      ]
    },
    {
      "cell_type": "markdown",
      "metadata": {
        "id": "HP0Fsue0FMQL"
      },
      "source": [
        "**Conclusion:** The CNN was more accurate than the ANN, as the testing and validation errors for the CNN were lower. However, the training error for the ANN was lower than the training error for the CNN. Despite this, the CNN would still be considered to exhibit higher performance, as models are supposed to be evaluated based on their validation and testing performances. It is possible that for the ANN, the model got too \"fixed\" or trained on the training dataset, that it was not able to generalize to unseen data as effectively."
      ]
    }
  ]
}